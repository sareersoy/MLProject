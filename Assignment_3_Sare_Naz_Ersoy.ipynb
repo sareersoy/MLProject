{
 "cells": [
  {
   "cell_type": "markdown",
   "metadata": {
    "id": "LAk9iB7nWphO"
   },
   "source": [
    "# Assignment-3\n",
    "\n",
    "**Due Date:** 14.12.2022 \n",
    "\n",
    "---------------------------------------\n",
    "\n",
    "**Instructor:** Erkut Erdem\n",
    "\n",
    "**TA:** Sibel Kapan\n",
    "\n",
    "---------------------------------------\n",
    "\n",
    "**Student:** Sare Naz Ersoy"
   ]
  },
  {
   "cell_type": "markdown",
   "metadata": {
    "id": "aEkAHiyHbISd"
   },
   "source": [
    "**Github Classroom:** https://classroom.github.com/a/Wv6S7qnL\n",
    "\n"
   ]
  },
  {
   "cell_type": "markdown",
   "metadata": {
    "id": "HDXPK7uSX0Us"
   },
   "source": [
    "## Part II: Classification of Flower Species using Neural Network\n",
    "##  INTRODUCTION"
   ]
  },
  {
   "cell_type": "markdown",
   "metadata": {},
   "source": [
    "For this assignment, we will implement a single layer and convolutional neural network architecture to classify the examples in the Flower Species Dataset mentioned below."
   ]
  },
  {
   "cell_type": "markdown",
   "metadata": {},
   "source": [
    "Both MLP and CNN can be used for Image classification however MLP takes vector as input and CNN takes tensor as input so CNN can understand spatial relation(relation between nearby pixels of image)between pixels of images better thus for complicated images CNN will perform better than MLP. CNN is designed to work for Images or Videos classification.\n",
    "So MLP is good for simple image classification , CNN is good for complicated image classification."
   ]
  },
  {
   "cell_type": "markdown",
   "metadata": {},
   "source": [
    "#### Dataset\n",
    "We will use Flower Species Dataset contains 1600 total images for each flower speciesand corresponding 7 labels. (See Figure 1) The flower species name for each class is\n",
    "stated as below: \n",
    "\n",
    "– Class 1: bellflower\n",
    "\n",
    "– Class 2: daisy\n",
    "\n",
    "– Class 3: dandelion\n",
    "\n",
    "– Class 4: lotus\n",
    "\n",
    "– Class 5: rose\n",
    "\n",
    "– Class 6: sunflower\n",
    "\n",
    "– Class 7: tulip\n",
    "\n",
    "• Dataset is separated as train and test. Train include 1400 images for per class and testinclude 200 images per class."
   ]
  },
  {
   "cell_type": "code",
   "execution_count": 1,
   "metadata": {},
   "outputs": [],
   "source": [
    "import pandas as pd\n",
    "import numpy as np\n",
    "import os\n",
    "import cv2\n",
    "import matplotlib\n",
    "import matplotlib.pyplot as plt\n",
    "import seaborn as sns\n",
    "import glob\n",
    "import time\n",
    "import warnings\n",
    "\n",
    "warnings.filterwarnings('ignore')\n",
    "os.environ['KMP_DUPLICATE_LIB_OK']='True'"
   ]
  },
  {
   "cell_type": "markdown",
   "metadata": {
    "id": "5Uy5OHCkWxob"
   },
   "source": [
    "### Dataset Upload and Preprocessing for MLP"
   ]
  },
  {
   "cell_type": "markdown",
   "metadata": {},
   "source": [
    "First of all let us import all the libraries required. Then we read the data and reshape the image dimensions"
   ]
  },
  {
   "cell_type": "code",
   "execution_count": 2,
   "metadata": {
    "id": "5M3C5Y0xZYs3"
   },
   "outputs": [],
   "source": [
    "#Folder reader function\n",
    "def readfolder(folder):\n",
    "    folderdata = []\n",
    "    for images in os.listdir(folder):\n",
    "     \n",
    "        # check if the image ends with png\n",
    "        if (images.endswith(\".jpg\")):\n",
    "            folderdata.append(os.path.join(folder,images))\n",
    "            \n",
    "    return folderdata"
   ]
  },
  {
   "cell_type": "code",
   "execution_count": 3,
   "metadata": {
    "id": "35uf_jkVa-ll"
   },
   "outputs": [],
   "source": [
    "trainbellflower = readfolder(\"flowers/train/bellflower\")\n",
    "traindaisy = readfolder(\"flowers/train/daisy\")\n",
    "traindandelion = readfolder(\"flowers/train/dandelion\")\n",
    "trainlotus = readfolder(\"flowers/train/lotus\")\n",
    "trainrose = readfolder(\"flowers/train/rose\")\n",
    "trainsunflower = readfolder(\"flowers/train/sunflower\")\n",
    "traintulip = readfolder(\"flowers/train/tulip\")\n",
    "\n",
    "testbellflower = readfolder(\"flowers/test/bellflower\")\n",
    "testdaisy = readfolder(\"flowers/test/daisy\")\n",
    "testdandelion = readfolder(\"flowers/test/dandelion\")\n",
    "testlotus = readfolder(\"flowers/test/lotus\")\n",
    "testrose = readfolder(\"flowers/test/rose\")\n",
    "testsunflower = readfolder(\"flowers/test/sunflower\")\n",
    "testtulip = readfolder(\"flowers/test/tulip\")"
   ]
  },
  {
   "cell_type": "code",
   "execution_count": 4,
   "metadata": {},
   "outputs": [],
   "source": [
    "trainAllstr = []\n",
    "testAllstr = []\n",
    "trainAll = []\n",
    "testAll = []\n",
    "for i in testbellflower:\n",
    "    x=cv2.resize(cv2.imread(i),(32,32))\n",
    "    testAll.append(x)\n",
    "    testAllstr.append([x,\"bellflower\"])\n",
    "for i in testdaisy:\n",
    "    x=cv2.resize(cv2.imread(i),(32,32))\n",
    "    testAll.append(x)\n",
    "    testAllstr.append([x,\"daisy\"])\n",
    "for i in testdandelion:\n",
    "    x=cv2.resize(cv2.imread(i),(32,32))\n",
    "    testAll.append(x)\n",
    "    testAllstr.append([x,\"dandelion\"])\n",
    "for i in testlotus:\n",
    "    x=cv2.resize(cv2.imread(i),(32,32))\n",
    "    testAll.append(x)\n",
    "    testAllstr.append([x,\"lotus\"])\n",
    "for i in testrose:\n",
    "    x=cv2.resize(cv2.imread(i),(32,32))\n",
    "    testAll.append(x)\n",
    "    testAllstr.append([x,\"rose\"])\n",
    "for i in testsunflower:\n",
    "    x=cv2.resize(cv2.imread(i),(32,32))\n",
    "    testAll.append(x)\n",
    "    testAllstr.append([x,\"sunflower\"])    \n",
    "for i in testtulip:\n",
    "    x=cv2.resize(cv2.imread(i),(32,32))\n",
    "    testAll.append(x)\n",
    "    testAllstr.append([x,\"tulip\"])      \n",
    "    \n",
    "    \n",
    "for i in trainbellflower:\n",
    "    x=cv2.resize(cv2.imread(i),(32,32))\n",
    "    trainAll.append(x)\n",
    "    trainAllstr.append([x,\"bellflower\"])\n",
    "for i in traindaisy:\n",
    "    x=cv2.resize(cv2.imread(i),(32,32))\n",
    "    trainAll.append(x)\n",
    "    trainAllstr.append([x,\"daisy\"])\n",
    "for i in traindandelion:\n",
    "    x=cv2.resize(cv2.imread(i),(32,32))\n",
    "    trainAll.append(x)\n",
    "    trainAllstr.append([x,\"dandelion\"])\n",
    "for i in trainlotus:\n",
    "    x=cv2.resize(cv2.imread(i),(32,32))\n",
    "    trainAll.append(x)\n",
    "    trainAllstr.append([x,\"lotus\"])\n",
    "for i in trainrose:\n",
    "    x=cv2.resize(cv2.imread(i),(32,32))\n",
    "    trainAll.append(x)\n",
    "    trainAllstr.append([x,\"rose\"])\n",
    "for i in trainsunflower:\n",
    "    if(cv2.imread(i) is not None):\n",
    "        x=cv2.resize(cv2.imread(i),(32,32))\n",
    "        trainAll.append(x)\n",
    "        trainAllstr.append([x,\"sunflower\"])\n",
    "for i in traintulip:\n",
    "    x=cv2.resize(cv2.imread(i),(32,32))\n",
    "    trainAll.append(x)\n",
    "    trainAllstr.append([x,\"tulip\"])"
   ]
  },
  {
   "cell_type": "code",
   "execution_count": 8,
   "metadata": {},
   "outputs": [
    {
     "data": {
      "text/plain": [
       "<matplotlib.image.AxesImage at 0x20671939340>"
      ]
     },
     "execution_count": 8,
     "metadata": {},
     "output_type": "execute_result"
    },
    {
     "data": {
      "image/png": "[encoded data removed]",
      "text/plain": [
       "<Figure size 432x288 with 1 Axes>"
      ]
     },
     "metadata": {
      "needs_background": "light"
     },
     "output_type": "display_data"
    }
   ],
   "source": [
    "plt.imshow(cv2.imread(trainsunflower[2])) #example image"
   ]
  },
  {
   "cell_type": "code",
   "execution_count": 7,
   "metadata": {},
   "outputs": [],
   "source": [
    "df = pd.DataFrame(trainAllstr, columns=[\"Matrices\", \"Kinds\"])"
   ]
  },
  {
   "cell_type": "code",
   "execution_count": 6,
   "metadata": {},
   "outputs": [
    {
     "data": {
      "text/html": [
       "<div>\n",
       "<style scoped>\n",
       "    .dataframe tbody tr th:only-of-type {\n",
       "        vertical-align: middle;\n",
       "    }\n",
       "\n",
       "    .dataframe tbody tr th {\n",
       "        vertical-align: top;\n",
       "    }\n",
       "\n",
       "    .dataframe thead th {\n",
       "        text-align: right;\n",
       "    }\n",
       "</style>\n",
       "<table border=\"1\" class=\"dataframe\">\n",
       "  <thead>\n",
       "    <tr style=\"text-align: right;\">\n",
       "      <th></th>\n",
       "      <th>Matrices</th>\n",
       "      <th>Kinds</th>\n",
       "    </tr>\n",
       "  </thead>\n",
       "  <tbody>\n",
       "    <tr>\n",
       "      <th>0</th>\n",
       "      <td>[[[87, 95, 98], [88, 95, 95], [93, 98, 99], [9...</td>\n",
       "      <td>bellflower</td>\n",
       "    </tr>\n",
       "    <tr>\n",
       "      <th>1</th>\n",
       "      <td>[[[71, 108, 108], [79, 128, 125], [45, 101, 88...</td>\n",
       "      <td>bellflower</td>\n",
       "    </tr>\n",
       "    <tr>\n",
       "      <th>2</th>\n",
       "      <td>[[[89, 137, 147], [123, 133, 141], [199, 131, ...</td>\n",
       "      <td>bellflower</td>\n",
       "    </tr>\n",
       "    <tr>\n",
       "      <th>3</th>\n",
       "      <td>[[[78, 130, 136], [78, 129, 132], [74, 123, 12...</td>\n",
       "      <td>bellflower</td>\n",
       "    </tr>\n",
       "    <tr>\n",
       "      <th>4</th>\n",
       "      <td>[[[30, 82, 85], [30, 80, 86], [21, 68, 72], [3...</td>\n",
       "      <td>bellflower</td>\n",
       "    </tr>\n",
       "  </tbody>\n",
       "</table>\n",
       "</div>"
      ],
      "text/plain": [
       "                                            Matrices       Kinds\n",
       "0  [[[87, 95, 98], [88, 95, 95], [93, 98, 99], [9...  bellflower\n",
       "1  [[[71, 108, 108], [79, 128, 125], [45, 101, 88...  bellflower\n",
       "2  [[[89, 137, 147], [123, 133, 141], [199, 131, ...  bellflower\n",
       "3  [[[78, 130, 136], [78, 129, 132], [74, 123, 12...  bellflower\n",
       "4  [[[30, 82, 85], [30, 80, 86], [21, 68, 72], [3...  bellflower"
      ]
     },
     "execution_count": 6,
     "metadata": {},
     "output_type": "execute_result"
    }
   ],
   "source": [
    "df.head()"
   ]
  },
  {
   "cell_type": "code",
   "execution_count": 7,
   "metadata": {},
   "outputs": [
    {
     "data": {
      "text/plain": [
       "bellflower    1400\n",
       "daisy         1400\n",
       "dandelion     1400\n",
       "lotus         1400\n",
       "rose          1400\n",
       "tulip         1400\n",
       "sunflower     1399\n",
       "Name: Kinds, dtype: int64"
      ]
     },
     "execution_count": 7,
     "metadata": {},
     "output_type": "execute_result"
    }
   ],
   "source": [
    "df['Kinds'].value_counts()"
   ]
  },
  {
   "cell_type": "code",
   "execution_count": 8,
   "metadata": {},
   "outputs": [],
   "source": [
    "for i in range(0,len(trainAll)):\n",
    "    trainAll[i] = trainAll[i].reshape(3072,)\n",
    "for i in range(0,len(testAll)):\n",
    "    testAll[i] = testAll[i].reshape(3072,)"
   ]
  },
  {
   "cell_type": "code",
   "execution_count": 9,
   "metadata": {},
   "outputs": [],
   "source": [
    "def get_key(my_dict, val):\n",
    "    for key, value in my_dict.items():\n",
    "        if val == value:\n",
    "            return key"
   ]
  },
  {
   "cell_type": "code",
   "execution_count": 10,
   "metadata": {},
   "outputs": [],
   "source": [
    "labels = {0:\"bellflower\", 1:\"daisy\", 2:\"dandelion\", 3:\"lotus\", 4:\"rose\", 5:\"sunflower\", 6:\"tulip\"}\n",
    "TrainLabels = []\n",
    "TestLabels = []\n",
    "for i in trainAllstr:\n",
    "    TrainLabels.append(get_key(labels,i[1]))\n",
    "for i in testAllstr:\n",
    "    TestLabels.append(get_key(labels,i[1]))\n",
    "    \n"
   ]
  },
  {
   "cell_type": "markdown",
   "metadata": {},
   "source": [
    "### Multi Layer Neural Network\n"
   ]
  },
  {
   "cell_type": "markdown",
   "metadata": {},
   "source": [
    "Now, we will create a Multi Layer Neural Network model"
   ]
  },
  {
   "cell_type": "code",
   "execution_count": 11,
   "metadata": {},
   "outputs": [],
   "source": [
    "def sigmoid(x):\n",
    "    return 1./(1.+ np.exp(-x))\n",
    "\n",
    "def softmax(x):\n",
    "    return np.exp(x)/np.exp(x).sum(axis=1,keepdims=True)\n",
    "\n",
    "def loss(y_predict,y):\n",
    "    return ((-np.log(y_predict))*y).sum(axis=1).mean()"
   ]
  },
  {
   "cell_type": "code",
   "execution_count": 12,
   "metadata": {},
   "outputs": [],
   "source": [
    "class MLNN():\n",
    "    \n",
    "    def __init__(self,X,Y,X_test,Y_test,L=1,NL=128):\n",
    "        self.X = np.concatenate((X,np.ones((X.shape[0],1))),axis=1)\n",
    "        self.Y = np.squeeze(np.eye(10)[Y.astype(np.int).reshape(-1)])\n",
    "        self.X_test = np.concatenate((X_test,np.ones((X_test.shape[0],1))),axis=1)\n",
    "        self.Y_test = np.squeeze(np.eye(10)[Y_test.astype(np.int).reshape(-1)])\n",
    "        self.L = L\n",
    "        self.NL = NL\n",
    "        self.n_values = self.X.shape[0]\n",
    "        layer_r = self.X.shape[1]\n",
    "        layer_c = self.Y.shape[1]\n",
    "        self.layer_sizes =np.array([layer_r] + [NL] * L + [layer_c]) \n",
    "        self.__init_weights()\n",
    "        \n",
    "    \n",
    "    def __to_categorical(self,X):  \n",
    "        shapeX = X.shape[0]\n",
    "        categorical = np.zeros((shapeX,self.Y.shape[1]))\n",
    "        cat_const = np.arange(shapeX),X.argmax(axis=1)\n",
    "        categorical[cat_const] = 1\n",
    "        return categorical\n",
    "    \n",
    "    def __init_weights(self):\n",
    "        self.weights = []\n",
    "        for i in range(self.layer_sizes.shape[0]-1):\n",
    "            self.weights.append(np.random.uniform(-1,1,size=[self.layer_sizes[i],self.layer_sizes[i+1]]))\n",
    "        self.weights = np.asarray(self.weights)\n",
    "    \n",
    "    def __init_layers(self,batch_size):\n",
    "        self.__h = [np.empty((batch_size,layer)) for layer in self.layer_sizes]\n",
    "    \n",
    "    def __forwardProp(self,batch):\n",
    "        h_l = batch\n",
    "        self.__h[0] = h_l\n",
    "        for i,weights in enumerate(self.weights):\n",
    "            h_l = sigmoid(h_l.dot(weights))\n",
    "            self.__h[i+1]=h_l\n",
    "        self.__out = softmax(self.__h[-1])\n",
    "    \n",
    "    def __backProp(self,batch_y):\n",
    "        h = self.__h\n",
    "        delta = (self.__out - batch_y)*((h[-1])*(1-h[-1]))\n",
    "        for i in range(1,len(self.weights)+1):\n",
    "            self.weights[-i]-=self.lr*(h[-i-1].T.dot(delta))/self.batch_size\n",
    "            delta = ((h[-i-1])* (1-h[-i-1]))*(delta.dot(self.weights[-i].T))\n",
    "            \n",
    "    def predict(self,X):\n",
    "        shape = X.shape[0]\n",
    "        X = np.concatenate((X,np.ones((shape,1))),axis=1)\n",
    "        self.__init_layers(shape)\n",
    "        self.__forwardProp(X)\n",
    "        return self.__to_categorical(self.__out)\n",
    "        \n",
    "    def train(self,batch_size,epochs,lr):\n",
    "        self.lr = lr\n",
    "        self.batch_size=batch_size\n",
    "        for epoch in range(0,epochs):\n",
    "            self.__init_layers(self.batch_size)\n",
    "            shuffled = np.random.permutation(self.n_values)\n",
    "            batchX = np.array_split(self.X[shuffled],self.n_values/self.batch_size)\n",
    "            batchY = np.array_split(self.Y[shuffled],self.n_values/self.batch_size)\n",
    "            for batch_x,batch_y in zip(batchX,batchY):\n",
    "                self.__forwardProp(batch_x)  \n",
    "                self.__backProp(batch_y)\n",
    "            self.__init_layers(self.X_test.shape[0])\n",
    "            self.__forwardProp(self.X_test)\n"
   ]
  },
  {
   "cell_type": "code",
   "execution_count": 13,
   "metadata": {},
   "outputs": [],
   "source": [
    "def accuracy(y_test , pred):\n",
    "    counter = 0\n",
    "    for i in range(0,len(y_test)):\n",
    "        if y_test[i] == pred[i]:\n",
    "            counter = counter + 1\n",
    "    acc = counter / len(pred)\n",
    "    return acc*100\n"
   ]
  },
  {
   "cell_type": "code",
   "execution_count": 14,
   "metadata": {},
   "outputs": [],
   "source": [
    "from sklearn.metrics import accuracy_score\n"
   ]
  },
  {
   "cell_type": "code",
   "execution_count": 15,
   "metadata": {},
   "outputs": [],
   "source": [
    "X_train = np.array(trainAll)\n",
    "X_test = np.array(testAll)\n",
    "y_train = np.array(TrainLabels)\n",
    "y_test = np.array(TestLabels)"
   ]
  },
  {
   "cell_type": "markdown",
   "metadata": {},
   "source": [
    "### Learning Rate\n",
    "The learning rate is a hyperparameter that controls how much to change the model in response to the estimated error each time the model weights are updated.\n",
    "\n",
    "Choosing the learning rate is challenging as a value too small may result in a long training process that could get stuck, whereas a value too large may result in learning a sub-optimal set of weights too fast or an unstable training process.\n",
    "\n",
    "I tested the \"learning rate\" parameters (0.005,0.01,0.015 and 0.02) with keeping other variables the same.\n",
    "\n",
    "We can't always say that bigger learning rate is better. You can see in the tables below how much the change of learning rate affects the accuracy.\n",
    "\n",
    "### Batch Size\n",
    "Batch size is a term used in machine learning and refers to the number of training examples utilized in one iteration.\n",
    "The smaller the batch the less accurate the estimate of the gradient will be.The higher the batch size, the more memory space you'll need.\n",
    "\n",
    "I tested the \"batch size\" parameters (16,32,64 and 128) with keeping other variables the same.\n",
    "\n",
    "### Epochs\n",
    "An epoch is a term used in machine learning and indicates the number of passes of the entire training dataset\n",
    "the machine learning algorithm has completed\n",
    "one epoch = one forward pass and one backward pass of all the training examples\n",
    "\n",
    "I tested one \"epochs\" parameter(50 for NN and 10 for CNN) because changing that too is a bit costly in time.\n",
    "\n",
    "## Number of Layers\n",
    "I tested the \"number of layers\" parameters as 0 hidden layer, 1 hidden layer and 2 hidden layers. \n",
    "\n",
    "### Layer Size\n",
    "I tested the \"number of layers\" parameters as 128 and 256. \n",
    "\n",
    "### Activation Function\n",
    "I used ReLU for activation function on CNN and sigmoid on NN. I also tried the others for finding the optimal one and observe the affects in one case."
   ]
  },
  {
   "cell_type": "markdown",
   "metadata": {},
   "source": [
    "##### One Layer NN"
   ]
  },
  {
   "cell_type": "code",
   "execution_count": 16,
   "metadata": {},
   "outputs": [],
   "source": [
    "accs1 = []"
   ]
  },
  {
   "cell_type": "code",
   "execution_count": 17,
   "metadata": {},
   "outputs": [
    {
     "name": "stdout",
     "output_type": "stream",
     "text": [
      "Batch Size: 16 Learning Rate: 0.005 Layer Size: 128 Accuracy:  0.16285714285714287\n",
      "Batch Size: 16 Learning Rate: 0.01 Layer Size: 128 Accuracy:  0.1407142857142857\n",
      "Batch Size: 16 Learning Rate: 0.015 Layer Size: 128 Accuracy:  0.155\n",
      "Batch Size: 16 Learning Rate: 0.02 Layer Size: 128 Accuracy:  0.1457142857142857\n",
      "Batch Size: 32 Learning Rate: 0.005 Layer Size: 128 Accuracy:  0.235\n",
      "Batch Size: 32 Learning Rate: 0.01 Layer Size: 128 Accuracy:  0.17214285714285715\n",
      "Batch Size: 32 Learning Rate: 0.015 Layer Size: 128 Accuracy:  0.15428571428571428\n",
      "Batch Size: 32 Learning Rate: 0.02 Layer Size: 128 Accuracy:  0.19714285714285715\n",
      "Batch Size: 64 Learning Rate: 0.005 Layer Size: 128 Accuracy:  0.16714285714285715\n",
      "Batch Size: 64 Learning Rate: 0.01 Layer Size: 128 Accuracy:  0.17214285714285715\n",
      "Batch Size: 64 Learning Rate: 0.015 Layer Size: 128 Accuracy:  0.17214285714285715\n",
      "Batch Size: 64 Learning Rate: 0.02 Layer Size: 128 Accuracy:  0.1442857142857143\n",
      "Batch Size: 128 Learning Rate: 0.005 Layer Size: 128 Accuracy:  0.13071428571428573\n",
      "Batch Size: 128 Learning Rate: 0.01 Layer Size: 128 Accuracy:  0.16357142857142856\n",
      "Batch Size: 128 Learning Rate: 0.015 Layer Size: 128 Accuracy:  0.13857142857142857\n",
      "Batch Size: 128 Learning Rate: 0.02 Layer Size: 128 Accuracy:  0.18571428571428572\n",
      "Batch Size: 16 Learning Rate: 0.005 Layer Size: 256 Accuracy:  0.17142857142857143\n",
      "Batch Size: 16 Learning Rate: 0.01 Layer Size: 256 Accuracy:  0.14\n",
      "Batch Size: 16 Learning Rate: 0.015 Layer Size: 256 Accuracy:  0.16142857142857142\n",
      "Batch Size: 16 Learning Rate: 0.02 Layer Size: 256 Accuracy:  0.15785714285714286\n",
      "Batch Size: 32 Learning Rate: 0.005 Layer Size: 256 Accuracy:  0.22285714285714286\n",
      "Batch Size: 32 Learning Rate: 0.01 Layer Size: 256 Accuracy:  0.19428571428571428\n",
      "Batch Size: 32 Learning Rate: 0.015 Layer Size: 256 Accuracy:  0.16785714285714284\n",
      "Batch Size: 32 Learning Rate: 0.02 Layer Size: 256 Accuracy:  0.145\n",
      "Batch Size: 64 Learning Rate: 0.005 Layer Size: 256 Accuracy:  0.15\n",
      "Batch Size: 64 Learning Rate: 0.01 Layer Size: 256 Accuracy:  0.15785714285714286\n",
      "Batch Size: 64 Learning Rate: 0.015 Layer Size: 256 Accuracy:  0.16071428571428573\n",
      "Batch Size: 64 Learning Rate: 0.02 Layer Size: 256 Accuracy:  0.22071428571428572\n",
      "Batch Size: 128 Learning Rate: 0.005 Layer Size: 256 Accuracy:  0.10928571428571429\n",
      "Batch Size: 128 Learning Rate: 0.01 Layer Size: 256 Accuracy:  0.18142857142857144\n",
      "Batch Size: 128 Learning Rate: 0.015 Layer Size: 256 Accuracy:  0.2092857142857143\n",
      "Batch Size: 128 Learning Rate: 0.02 Layer Size: 256 Accuracy:  0.16\n"
     ]
    }
   ],
   "source": [
    "for s in range(2):\n",
    "    for a in range(4,8):\n",
    "        for b in range(4):\n",
    "            model = MLNN(X_train,y_train,X_test,y_test,L=1,NL=128+(128*s)) \n",
    "            model.train(batch_size=2**a,epochs=50,lr=0.005+(0.005*b))\n",
    "            predict = model.predict(X_test)\n",
    "            predictions = []\n",
    "            y_tests = []\n",
    "            for i in range(0,len(predict)):\n",
    "                for j in range(0,10):\n",
    "                    if predict[i][j] == 1:\n",
    "                        predictions.append(j)\n",
    "            for i in range(0,len(y_test)):\n",
    "                y_tests.append(y_test[i])\n",
    "            accuracy = accuracy_score(y_tests,predictions)\n",
    "            accs1.append(accuracy)\n",
    "            print(\"Batch Size:\",2**a,\"Learning Rate:\" ,(0.005+(0.005*b)),\"Layer Size:\", (128+(128*s)), \"Accuracy: \",accuracy)"
   ]
  },
  {
   "attachments": {
    "32-1-LAYER-NN-TABLO-1.png": {
     "image/png": "[encoded data removed]"
    }
   },
   "cell_type": "markdown",
   "metadata": {},
   "source": [
    "![32-1-LAYER-NN-TABLO-1.png](attachment:32-1-LAYER-NN-TABLO-1.png)"
   ]
  },
  {
   "cell_type": "markdown",
   "metadata": {},
   "source": [
    "##### I choosed lr=0.005, batch size = 32 and layer size=256 and I used Sigmoid function. It gives 0.222 accuracy."
   ]
  },
  {
   "cell_type": "markdown",
   "metadata": {},
   "source": [
    "##### One Hidden Layer NN"
   ]
  },
  {
   "cell_type": "code",
   "execution_count": 18,
   "metadata": {},
   "outputs": [],
   "source": [
    "accs2 = []"
   ]
  },
  {
   "cell_type": "code",
   "execution_count": 19,
   "metadata": {},
   "outputs": [
    {
     "name": "stdout",
     "output_type": "stream",
     "text": [
      "Batch Size: 16 Learning Rate: 0.005 Layer Size: 128 Accuracy:  0.15928571428571428\n",
      "Batch Size: 16 Learning Rate: 0.01 Layer Size: 128 Accuracy:  0.23\n",
      "Batch Size: 16 Learning Rate: 0.015 Layer Size: 128 Accuracy:  0.13785714285714284\n",
      "Batch Size: 16 Learning Rate: 0.02 Layer Size: 128 Accuracy:  0.03642857142857143\n",
      "Batch Size: 32 Learning Rate: 0.005 Layer Size: 128 Accuracy:  0.12\n",
      "Batch Size: 32 Learning Rate: 0.01 Layer Size: 128 Accuracy:  0.15571428571428572\n",
      "Batch Size: 32 Learning Rate: 0.015 Layer Size: 128 Accuracy:  0.17285714285714285\n",
      "Batch Size: 32 Learning Rate: 0.02 Layer Size: 128 Accuracy:  0.14357142857142857\n",
      "Batch Size: 64 Learning Rate: 0.005 Layer Size: 128 Accuracy:  0.14142857142857143\n",
      "Batch Size: 64 Learning Rate: 0.01 Layer Size: 128 Accuracy:  0.1492857142857143\n",
      "Batch Size: 64 Learning Rate: 0.015 Layer Size: 128 Accuracy:  0.12857142857142856\n",
      "Batch Size: 64 Learning Rate: 0.02 Layer Size: 128 Accuracy:  0.2864285714285714\n",
      "Batch Size: 128 Learning Rate: 0.005 Layer Size: 128 Accuracy:  0.041428571428571426\n",
      "Batch Size: 128 Learning Rate: 0.01 Layer Size: 128 Accuracy:  0.14357142857142857\n",
      "Batch Size: 128 Learning Rate: 0.015 Layer Size: 128 Accuracy:  0.12428571428571429\n",
      "Batch Size: 128 Learning Rate: 0.02 Layer Size: 128 Accuracy:  0.12\n",
      "Batch Size: 16 Learning Rate: 0.005 Layer Size: 256 Accuracy:  0.16142857142857142\n",
      "Batch Size: 16 Learning Rate: 0.01 Layer Size: 256 Accuracy:  0.14214285714285715\n",
      "Batch Size: 16 Learning Rate: 0.015 Layer Size: 256 Accuracy:  0.14357142857142857\n",
      "Batch Size: 16 Learning Rate: 0.02 Layer Size: 256 Accuracy:  0.14714285714285713\n",
      "Batch Size: 32 Learning Rate: 0.005 Layer Size: 256 Accuracy:  0.24785714285714286\n",
      "Batch Size: 32 Learning Rate: 0.01 Layer Size: 256 Accuracy:  0.135\n",
      "Batch Size: 32 Learning Rate: 0.015 Layer Size: 256 Accuracy:  0.14785714285714285\n",
      "Batch Size: 32 Learning Rate: 0.02 Layer Size: 256 Accuracy:  0.16785714285714284\n",
      "Batch Size: 64 Learning Rate: 0.005 Layer Size: 256 Accuracy:  0.12571428571428572\n",
      "Batch Size: 64 Learning Rate: 0.01 Layer Size: 256 Accuracy:  0.145\n",
      "Batch Size: 64 Learning Rate: 0.015 Layer Size: 256 Accuracy:  0.15642857142857142\n",
      "Batch Size: 64 Learning Rate: 0.02 Layer Size: 256 Accuracy:  0.024285714285714285\n",
      "Batch Size: 128 Learning Rate: 0.005 Layer Size: 256 Accuracy:  0.15214285714285714\n",
      "Batch Size: 128 Learning Rate: 0.01 Layer Size: 256 Accuracy:  0.19857142857142857\n",
      "Batch Size: 128 Learning Rate: 0.015 Layer Size: 256 Accuracy:  0.15785714285714286\n",
      "Batch Size: 128 Learning Rate: 0.02 Layer Size: 256 Accuracy:  0.22142857142857142\n"
     ]
    }
   ],
   "source": [
    "for s in range(2):\n",
    "    for a in range(4,8):\n",
    "        for b in range(4):\n",
    "            model = MLNN(X_train,y_train,X_test,y_test,L=2,NL=128+(128*s)) \n",
    "            model.train(batch_size=2**a,epochs=50,lr=0.005+(0.005*b))\n",
    "            predict = model.predict(X_test)\n",
    "            predictions = []\n",
    "            y_tests = []\n",
    "            for i in range(0,len(predict)):\n",
    "                for j in range(0,10):\n",
    "                    if predict[i][j] == 1:\n",
    "                        predictions.append(j)\n",
    "            for i in range(0,len(y_test)):\n",
    "                y_tests.append(y_test[i])\n",
    "            accuracy = accuracy_score(y_tests,predictions)\n",
    "            accs2.append(accuracy)\n",
    "            print(\"Batch Size:\",2**a,\"Learning Rate:\" ,(0.005+(0.005*b)),\"Layer Size:\", (128+(128*s)), \"Accuracy: \",accuracy)"
   ]
  },
  {
   "attachments": {
    "32-1-H%C4%B0DDEN-LAYER-NN-TABLO-2.png": {
     "image/png": "[encoded data removed]"
    }
   },
   "cell_type": "markdown",
   "metadata": {},
   "source": [
    "![32-1-H%C4%B0DDEN-LAYER-NN-TABLO-2.png](attachment:32-1-H%C4%B0DDEN-LAYER-NN-TABLO-2.png)"
   ]
  },
  {
   "cell_type": "markdown",
   "metadata": {},
   "source": [
    "##### I choosed lr=0.02, batch size = 64 and layer size=128 and I used Sigmoid function. It gives 0.286 accuracy."
   ]
  },
  {
   "cell_type": "markdown",
   "metadata": {},
   "source": [
    "##### 2 Hidden Layer NN"
   ]
  },
  {
   "cell_type": "code",
   "execution_count": 20,
   "metadata": {},
   "outputs": [],
   "source": [
    "accs3 = []"
   ]
  },
  {
   "cell_type": "code",
   "execution_count": 21,
   "metadata": {},
   "outputs": [
    {
     "name": "stdout",
     "output_type": "stream",
     "text": [
      "Batch Size: 16 Learning Rate: 0.005 Layer Size: 128 Accuracy:  0.1442857142857143\n",
      "Batch Size: 16 Learning Rate: 0.01 Layer Size: 128 Accuracy:  0.13857142857142857\n",
      "Batch Size: 16 Learning Rate: 0.015 Layer Size: 128 Accuracy:  0.145\n",
      "Batch Size: 16 Learning Rate: 0.02 Layer Size: 128 Accuracy:  0.002857142857142857\n",
      "Batch Size: 32 Learning Rate: 0.005 Layer Size: 128 Accuracy:  0.12785714285714286\n",
      "Batch Size: 32 Learning Rate: 0.01 Layer Size: 128 Accuracy:  0.14\n",
      "Batch Size: 32 Learning Rate: 0.015 Layer Size: 128 Accuracy:  0.3107142857142857\n",
      "Batch Size: 32 Learning Rate: 0.02 Layer Size: 128 Accuracy:  0.13\n",
      "Batch Size: 64 Learning Rate: 0.005 Layer Size: 128 Accuracy:  0.16714285714285715\n",
      "Batch Size: 64 Learning Rate: 0.01 Layer Size: 128 Accuracy:  0.15642857142857142\n",
      "Batch Size: 64 Learning Rate: 0.015 Layer Size: 128 Accuracy:  0.14857142857142858\n",
      "Batch Size: 64 Learning Rate: 0.02 Layer Size: 128 Accuracy:  0.25857142857142856\n",
      "Batch Size: 128 Learning Rate: 0.005 Layer Size: 128 Accuracy:  0.13785714285714284\n",
      "Batch Size: 128 Learning Rate: 0.01 Layer Size: 128 Accuracy:  0.13642857142857143\n",
      "Batch Size: 128 Learning Rate: 0.015 Layer Size: 128 Accuracy:  0.19214285714285714\n",
      "Batch Size: 128 Learning Rate: 0.02 Layer Size: 128 Accuracy:  0.13857142857142857\n",
      "Batch Size: 16 Learning Rate: 0.005 Layer Size: 256 Accuracy:  0.14714285714285713\n",
      "Batch Size: 16 Learning Rate: 0.01 Layer Size: 256 Accuracy:  0.15285714285714286\n",
      "Batch Size: 16 Learning Rate: 0.015 Layer Size: 256 Accuracy:  0.275\n",
      "Batch Size: 16 Learning Rate: 0.02 Layer Size: 256 Accuracy:  0.25\n",
      "Batch Size: 32 Learning Rate: 0.005 Layer Size: 256 Accuracy:  0.145\n",
      "Batch Size: 32 Learning Rate: 0.01 Layer Size: 256 Accuracy:  0.15214285714285714\n",
      "Batch Size: 32 Learning Rate: 0.015 Layer Size: 256 Accuracy:  0.1442857142857143\n",
      "Batch Size: 32 Learning Rate: 0.02 Layer Size: 256 Accuracy:  0.14214285714285715\n",
      "Batch Size: 64 Learning Rate: 0.005 Layer Size: 256 Accuracy:  0.15857142857142856\n",
      "Batch Size: 64 Learning Rate: 0.01 Layer Size: 256 Accuracy:  0.15285714285714286\n",
      "Batch Size: 64 Learning Rate: 0.015 Layer Size: 256 Accuracy:  0.14785714285714285\n",
      "Batch Size: 64 Learning Rate: 0.02 Layer Size: 256 Accuracy:  0.14214285714285715\n",
      "Batch Size: 128 Learning Rate: 0.005 Layer Size: 256 Accuracy:  0.1492857142857143\n",
      "Batch Size: 128 Learning Rate: 0.01 Layer Size: 256 Accuracy:  0.21\n",
      "Batch Size: 128 Learning Rate: 0.015 Layer Size: 256 Accuracy:  0.13857142857142857\n",
      "Batch Size: 128 Learning Rate: 0.02 Layer Size: 256 Accuracy:  0.23142857142857143\n"
     ]
    }
   ],
   "source": [
    "for s in range(2):\n",
    "    for a in range(4,8):\n",
    "        for b in range(4):\n",
    "            model = MLNN(X_train,y_train,X_test,y_test,L=3,NL=128+(128*s)) \n",
    "            model.train(batch_size=2**a,epochs=50,lr=0.005+(0.005*b))\n",
    "            predict = model.predict(X_test)\n",
    "            predictions = []\n",
    "            y_tests = []\n",
    "            for i in range(0,len(predict)):\n",
    "                for j in range(0,10):\n",
    "                    if predict[i][j] == 1:\n",
    "                        predictions.append(j)\n",
    "            for i in range(0,len(y_test)):\n",
    "                y_tests.append(y_test[i])\n",
    "            accuracy = accuracy_score(y_tests,predictions)\n",
    "            accs3.append(accuracy)\n",
    "            print(\"Batch Size:\",2**a,\"Learning Rate:\" ,(0.005+(0.005*b)),\"Layer Size:\", (128+(128*s)), \"Accuracy: \",accuracy)"
   ]
  },
  {
   "attachments": {
    "32-2-H%C4%B0DDEN-LAYER-NN-TABLO-3.png": {
     "image/png": "[encoded data removed]"
    }
   },
   "cell_type": "markdown",
   "metadata": {},
   "source": [
    "![32-2-H%C4%B0DDEN-LAYER-NN-TABLO-3.png](attachment:32-2-H%C4%B0DDEN-LAYER-NN-TABLO-3.png)"
   ]
  },
  {
   "cell_type": "markdown",
   "metadata": {},
   "source": [
    "##### I choosed lr=0.015, batch size = 32 and layer size=128 and I used Sigmoid function. It gives 0.31 accuracy."
   ]
  },
  {
   "cell_type": "markdown",
   "metadata": {},
   "source": [
    "### Now, I will change the input size AS 64X64 and try them again."
   ]
  },
  {
   "cell_type": "code",
   "execution_count": 22,
   "metadata": {},
   "outputs": [],
   "source": [
    "trainAllstr = []\n",
    "testAllstr = []\n",
    "trainAll = []\n",
    "testAll = []\n",
    "for i in testbellflower:\n",
    "    x=cv2.resize(cv2.imread(i),(64,64))\n",
    "    testAll.append(x)\n",
    "    testAllstr.append([x,\"bellflower\"])\n",
    "for i in testdaisy:\n",
    "    x=cv2.resize(cv2.imread(i),(64,64))\n",
    "    testAll.append(x)\n",
    "    testAllstr.append([x,\"daisy\"])\n",
    "for i in testdandelion:\n",
    "    x=cv2.resize(cv2.imread(i),(64,64))\n",
    "    testAll.append(x)\n",
    "    testAllstr.append([x,\"dandelion\"])\n",
    "for i in testlotus:\n",
    "    x=cv2.resize(cv2.imread(i),(64,64))\n",
    "    testAll.append(x)\n",
    "    testAllstr.append([x,\"lotus\"])\n",
    "for i in testrose:\n",
    "    x=cv2.resize(cv2.imread(i),(64,64))\n",
    "    testAll.append(x)\n",
    "    testAllstr.append([x,\"rose\"])\n",
    "for i in testsunflower:\n",
    "    x=cv2.resize(cv2.imread(i),(64,64))\n",
    "    testAll.append(x)\n",
    "    testAllstr.append([x,\"sunflower\"])    \n",
    "for i in testtulip:\n",
    "    x=cv2.resize(cv2.imread(i),(64,64))\n",
    "    testAll.append(x)\n",
    "    testAllstr.append([x,\"tulip\"])      \n",
    "    \n",
    "    \n",
    "for i in trainbellflower:\n",
    "    x=cv2.resize(cv2.imread(i),(64,64))\n",
    "    trainAll.append(x)\n",
    "    trainAllstr.append([x,\"bellflower\"])\n",
    "for i in traindaisy:\n",
    "    x=cv2.resize(cv2.imread(i),(64,64))\n",
    "    trainAll.append(x)\n",
    "    trainAllstr.append([x,\"daisy\"])\n",
    "for i in traindandelion:\n",
    "    x=cv2.resize(cv2.imread(i),(64,64))\n",
    "    trainAll.append(x)\n",
    "    trainAllstr.append([x,\"dandelion\"])\n",
    "for i in trainlotus:\n",
    "    x=cv2.resize(cv2.imread(i),(64,64))\n",
    "    trainAll.append(x)\n",
    "    trainAllstr.append([x,\"lotus\"])\n",
    "for i in trainrose:\n",
    "    x=cv2.resize(cv2.imread(i),(64,64))\n",
    "    trainAll.append(x)\n",
    "    trainAllstr.append([x,\"rose\"])\n",
    "for i in trainsunflower:\n",
    "    if(cv2.imread(i) is not None):\n",
    "        x=cv2.resize(cv2.imread(i),(64,64))\n",
    "        trainAll.append(x)\n",
    "        trainAllstr.append([x,\"sunflower\"])\n",
    "for i in traintulip:\n",
    "    x=cv2.resize(cv2.imread(i),(64,64))\n",
    "    trainAll.append(x)\n",
    "    trainAllstr.append([x,\"tulip\"])"
   ]
  },
  {
   "cell_type": "code",
   "execution_count": 23,
   "metadata": {},
   "outputs": [],
   "source": [
    "for i in range(0,len(trainAll)):\n",
    "    trainAll[i] = trainAll[i].reshape(12288,)\n",
    "for i in range(0,len(testAll)):\n",
    "    testAll[i] = testAll[i].reshape(12288,)"
   ]
  },
  {
   "cell_type": "code",
   "execution_count": 24,
   "metadata": {},
   "outputs": [],
   "source": [
    "accs4 = []"
   ]
  },
  {
   "cell_type": "code",
   "execution_count": 25,
   "metadata": {},
   "outputs": [
    {
     "name": "stdout",
     "output_type": "stream",
     "text": [
      "Batch Size: 16 Learning Rate: 0.005 Layer Size: 128 Accuracy:  0.125\n",
      "Batch Size: 16 Learning Rate: 0.01 Layer Size: 128 Accuracy:  0.11857142857142858\n",
      "Batch Size: 16 Learning Rate: 0.015 Layer Size: 128 Accuracy:  0.18142857142857144\n",
      "Batch Size: 16 Learning Rate: 0.02 Layer Size: 128 Accuracy:  0.13357142857142856\n",
      "Batch Size: 32 Learning Rate: 0.005 Layer Size: 128 Accuracy:  0.1357142857142857\n",
      "Batch Size: 32 Learning Rate: 0.01 Layer Size: 128 Accuracy:  0.15357142857142858\n",
      "Batch Size: 32 Learning Rate: 0.015 Layer Size: 128 Accuracy:  0.2\n",
      "Batch Size: 32 Learning Rate: 0.02 Layer Size: 128 Accuracy:  0.024285714285714285\n",
      "Batch Size: 64 Learning Rate: 0.005 Layer Size: 128 Accuracy:  0.08642857142857142\n",
      "Batch Size: 64 Learning Rate: 0.01 Layer Size: 128 Accuracy:  0.05285714285714286\n",
      "Batch Size: 64 Learning Rate: 0.015 Layer Size: 128 Accuracy:  0.16285714285714287\n",
      "Batch Size: 64 Learning Rate: 0.02 Layer Size: 128 Accuracy:  0.12571428571428572\n",
      "Batch Size: 128 Learning Rate: 0.005 Layer Size: 128 Accuracy:  0.13785714285714284\n",
      "Batch Size: 128 Learning Rate: 0.01 Layer Size: 128 Accuracy:  0.09\n",
      "Batch Size: 128 Learning Rate: 0.015 Layer Size: 128 Accuracy:  0.20142857142857143\n",
      "Batch Size: 128 Learning Rate: 0.02 Layer Size: 128 Accuracy:  0.13285714285714287\n",
      "Batch Size: 16 Learning Rate: 0.005 Layer Size: 256 Accuracy:  0.13857142857142857\n",
      "Batch Size: 16 Learning Rate: 0.01 Layer Size: 256 Accuracy:  0.17785714285714285\n",
      "Batch Size: 16 Learning Rate: 0.015 Layer Size: 256 Accuracy:  0.10071428571428571\n",
      "Batch Size: 16 Learning Rate: 0.02 Layer Size: 256 Accuracy:  0.3092857142857143\n",
      "Batch Size: 32 Learning Rate: 0.005 Layer Size: 256 Accuracy:  0.17642857142857143\n",
      "Batch Size: 32 Learning Rate: 0.01 Layer Size: 256 Accuracy:  0.16357142857142856\n",
      "Batch Size: 32 Learning Rate: 0.015 Layer Size: 256 Accuracy:  0.26857142857142857\n",
      "Batch Size: 32 Learning Rate: 0.02 Layer Size: 256 Accuracy:  0.20714285714285716\n",
      "Batch Size: 64 Learning Rate: 0.005 Layer Size: 256 Accuracy:  0.11714285714285715\n",
      "Batch Size: 64 Learning Rate: 0.01 Layer Size: 256 Accuracy:  0.19\n",
      "Batch Size: 64 Learning Rate: 0.015 Layer Size: 256 Accuracy:  0.13857142857142857\n",
      "Batch Size: 64 Learning Rate: 0.02 Layer Size: 256 Accuracy:  0.15714285714285714\n",
      "Batch Size: 128 Learning Rate: 0.005 Layer Size: 256 Accuracy:  0.15714285714285714\n",
      "Batch Size: 128 Learning Rate: 0.01 Layer Size: 256 Accuracy:  0.1692857142857143\n",
      "Batch Size: 128 Learning Rate: 0.015 Layer Size: 256 Accuracy:  0.1492857142857143\n",
      "Batch Size: 128 Learning Rate: 0.02 Layer Size: 256 Accuracy:  0.14\n"
     ]
    }
   ],
   "source": [
    "for s in range(2):\n",
    "    for a in range(4,8):\n",
    "        for b in range(4):\n",
    "            model = MLNN(X_train,y_train,X_test,y_test,L=1,NL=128+(128*s)) \n",
    "            model.train(batch_size=2**a,epochs=50,lr=0.005+(0.005*b))\n",
    "            predict = model.predict(X_test)\n",
    "            predictions = []\n",
    "            y_tests = []\n",
    "            for i in range(0,len(predict)):\n",
    "                for j in range(0,10):\n",
    "                    if predict[i][j] == 1:\n",
    "                        predictions.append(j)\n",
    "            for i in range(0,len(y_test)):\n",
    "                y_tests.append(y_test[i])\n",
    "            accuracy = accuracy_score(y_tests,predictions)\n",
    "            accs4.append(accuracy)\n",
    "            print(\"Batch Size:\",2**a,\"Learning Rate:\" ,(0.005+(0.005*b)),\"Layer Size:\", (128+(128*s)), \"Accuracy: \",accuracy)"
   ]
  },
  {
   "attachments": {
    "64-1-LAYER-NN-TABLO-4.png": {
     "image/png": "[encoded data removed]"
    }
   },
   "cell_type": "markdown",
   "metadata": {},
   "source": [
    "![64-1-LAYER-NN-TABLO-4.png](attachment:64-1-LAYER-NN-TABLO-4.png)"
   ]
  },
  {
   "cell_type": "markdown",
   "metadata": {},
   "source": [
    "##### I choosed lr=0.02, batch size = 16 and layer size=56 and I used Sigmoid function. It gives 0.309 accuracy."
   ]
  },
  {
   "cell_type": "code",
   "execution_count": 26,
   "metadata": {},
   "outputs": [],
   "source": [
    "accs5=[]"
   ]
  },
  {
   "cell_type": "code",
   "execution_count": 27,
   "metadata": {},
   "outputs": [
    {
     "name": "stdout",
     "output_type": "stream",
     "text": [
      "Batch Size: 16 Learning Rate: 0.005 Layer Size: 128 Accuracy:  0.17285714285714285\n",
      "Batch Size: 16 Learning Rate: 0.01 Layer Size: 128 Accuracy:  0.2592857142857143\n",
      "Batch Size: 16 Learning Rate: 0.015 Layer Size: 128 Accuracy:  0.15785714285714286\n",
      "Batch Size: 16 Learning Rate: 0.02 Layer Size: 128 Accuracy:  0.15357142857142858\n",
      "Batch Size: 32 Learning Rate: 0.005 Layer Size: 128 Accuracy:  0.15357142857142858\n",
      "Batch Size: 32 Learning Rate: 0.01 Layer Size: 128 Accuracy:  0.29642857142857143\n",
      "Batch Size: 32 Learning Rate: 0.015 Layer Size: 128 Accuracy:  0.16214285714285714\n",
      "Batch Size: 32 Learning Rate: 0.02 Layer Size: 128 Accuracy:  0.26142857142857145\n",
      "Batch Size: 64 Learning Rate: 0.005 Layer Size: 128 Accuracy:  0.1492857142857143\n",
      "Batch Size: 64 Learning Rate: 0.01 Layer Size: 128 Accuracy:  0.19857142857142857\n",
      "Batch Size: 64 Learning Rate: 0.015 Layer Size: 128 Accuracy:  0.24071428571428571\n",
      "Batch Size: 64 Learning Rate: 0.02 Layer Size: 128 Accuracy:  0.2507142857142857\n",
      "Batch Size: 128 Learning Rate: 0.005 Layer Size: 128 Accuracy:  0.030714285714285715\n",
      "Batch Size: 128 Learning Rate: 0.01 Layer Size: 128 Accuracy:  0.18428571428571427\n",
      "Batch Size: 128 Learning Rate: 0.015 Layer Size: 128 Accuracy:  0.0014285714285714286\n",
      "Batch Size: 128 Learning Rate: 0.02 Layer Size: 128 Accuracy:  0.185\n",
      "Batch Size: 16 Learning Rate: 0.005 Layer Size: 256 Accuracy:  0.08214285714285714\n",
      "Batch Size: 16 Learning Rate: 0.01 Layer Size: 256 Accuracy:  0.13285714285714287\n",
      "Batch Size: 16 Learning Rate: 0.015 Layer Size: 256 Accuracy:  0.30642857142857144\n",
      "Batch Size: 16 Learning Rate: 0.02 Layer Size: 256 Accuracy:  0.14357142857142857\n",
      "Batch Size: 32 Learning Rate: 0.005 Layer Size: 256 Accuracy:  0.2042857142857143\n",
      "Batch Size: 32 Learning Rate: 0.01 Layer Size: 256 Accuracy:  0.12642857142857142\n",
      "Batch Size: 32 Learning Rate: 0.015 Layer Size: 256 Accuracy:  0.14357142857142857\n",
      "Batch Size: 32 Learning Rate: 0.02 Layer Size: 256 Accuracy:  0.2857142857142857\n",
      "Batch Size: 64 Learning Rate: 0.005 Layer Size: 256 Accuracy:  0.07071428571428572\n",
      "Batch Size: 64 Learning Rate: 0.01 Layer Size: 256 Accuracy:  0.25642857142857145\n",
      "Batch Size: 64 Learning Rate: 0.015 Layer Size: 256 Accuracy:  0.1492857142857143\n",
      "Batch Size: 64 Learning Rate: 0.02 Layer Size: 256 Accuracy:  0.1707142857142857\n",
      "Batch Size: 128 Learning Rate: 0.005 Layer Size: 256 Accuracy:  0.16142857142857142\n",
      "Batch Size: 128 Learning Rate: 0.01 Layer Size: 256 Accuracy:  0.16285714285714287\n",
      "Batch Size: 128 Learning Rate: 0.015 Layer Size: 256 Accuracy:  0.12428571428571429\n",
      "Batch Size: 128 Learning Rate: 0.02 Layer Size: 256 Accuracy:  0.15214285714285714\n"
     ]
    }
   ],
   "source": [
    "for s in range(2):\n",
    "    for a in range(4,8):\n",
    "        for b in range(4):\n",
    "            model = MLNN(X_train,y_train,X_test,y_test,L=2,NL=128+(128*s)) \n",
    "            model.train(batch_size=2**a,epochs=50,lr=0.005+(0.005*b))\n",
    "            predict = model.predict(X_test)\n",
    "            predictions = []\n",
    "            y_tests = []\n",
    "            for i in range(0,len(predict)):\n",
    "                for j in range(0,10):\n",
    "                    if predict[i][j] == 1:\n",
    "                        predictions.append(j)\n",
    "            for i in range(0,len(y_test)):\n",
    "                y_tests.append(y_test[i])\n",
    "            accuracy = accuracy_score(y_tests,predictions)\n",
    "            accs5.append(accuracy)\n",
    "            print(\"Batch Size:\",2**a,\"Learning Rate:\" ,(0.005+(0.005*b)),\"Layer Size:\", (128+(128*s)), \"Accuracy: \",accuracy)"
   ]
  },
  {
   "attachments": {
    "64-1-H%C4%B0DDEN-LAYER-NN-TABLO-5.png": {
     "image/png": "[encoded data removed]"
    }
   },
   "cell_type": "markdown",
   "metadata": {},
   "source": [
    "![64-1-H%C4%B0DDEN-LAYER-NN-TABLO-5.png](attachment:64-1-H%C4%B0DDEN-LAYER-NN-TABLO-5.png)"
   ]
  },
  {
   "cell_type": "markdown",
   "metadata": {},
   "source": [
    "##### I choosed lr=0.015, batch size = 12 and layer size=256 and I used Sigmoid function. It gives 0.306 accuracy."
   ]
  },
  {
   "cell_type": "code",
   "execution_count": 28,
   "metadata": {},
   "outputs": [],
   "source": [
    "accs6=[]"
   ]
  },
  {
   "cell_type": "code",
   "execution_count": 29,
   "metadata": {},
   "outputs": [
    {
     "name": "stdout",
     "output_type": "stream",
     "text": [
      "Batch Size: 16 Learning Rate: 0.005 Layer Size: 128 Accuracy:  0.17285714285714285\n",
      "Batch Size: 16 Learning Rate: 0.01 Layer Size: 128 Accuracy:  0.135\n",
      "Batch Size: 16 Learning Rate: 0.015 Layer Size: 128 Accuracy:  0.2757142857142857\n",
      "Batch Size: 16 Learning Rate: 0.02 Layer Size: 128 Accuracy:  0.15428571428571428\n",
      "Batch Size: 32 Learning Rate: 0.005 Layer Size: 128 Accuracy:  0.14357142857142857\n",
      "Batch Size: 32 Learning Rate: 0.01 Layer Size: 128 Accuracy:  0.27714285714285714\n",
      "Batch Size: 32 Learning Rate: 0.015 Layer Size: 128 Accuracy:  0.14285714285714285\n",
      "Batch Size: 32 Learning Rate: 0.02 Layer Size: 128 Accuracy:  0.14642857142857144\n",
      "Batch Size: 64 Learning Rate: 0.005 Layer Size: 128 Accuracy:  0.15571428571428572\n",
      "Batch Size: 64 Learning Rate: 0.01 Layer Size: 128 Accuracy:  0.15285714285714286\n",
      "Batch Size: 64 Learning Rate: 0.015 Layer Size: 128 Accuracy:  0.14285714285714285\n",
      "Batch Size: 64 Learning Rate: 0.02 Layer Size: 128 Accuracy:  0.12928571428571428\n",
      "Batch Size: 128 Learning Rate: 0.005 Layer Size: 128 Accuracy:  0.15571428571428572\n",
      "Batch Size: 128 Learning Rate: 0.01 Layer Size: 128 Accuracy:  0.21\n",
      "Batch Size: 128 Learning Rate: 0.015 Layer Size: 128 Accuracy:  0.0\n",
      "Batch Size: 128 Learning Rate: 0.02 Layer Size: 128 Accuracy:  0.12642857142857142\n",
      "Batch Size: 16 Learning Rate: 0.005 Layer Size: 256 Accuracy:  0.16214285714285714\n",
      "Batch Size: 16 Learning Rate: 0.01 Layer Size: 256 Accuracy:  0.14642857142857144\n",
      "Batch Size: 16 Learning Rate: 0.015 Layer Size: 256 Accuracy:  0.2542857142857143\n",
      "Batch Size: 16 Learning Rate: 0.02 Layer Size: 256 Accuracy:  0.145\n",
      "Batch Size: 32 Learning Rate: 0.005 Layer Size: 256 Accuracy:  0.017142857142857144\n",
      "Batch Size: 32 Learning Rate: 0.01 Layer Size: 256 Accuracy:  0.1392857142857143\n",
      "Batch Size: 32 Learning Rate: 0.015 Layer Size: 256 Accuracy:  0.30857142857142855\n",
      "Batch Size: 32 Learning Rate: 0.02 Layer Size: 256 Accuracy:  0.03642857142857143\n",
      "Batch Size: 64 Learning Rate: 0.005 Layer Size: 256 Accuracy:  0.12428571428571429\n",
      "Batch Size: 64 Learning Rate: 0.01 Layer Size: 256 Accuracy:  0.14357142857142857\n",
      "Batch Size: 64 Learning Rate: 0.015 Layer Size: 256 Accuracy:  0.14142857142857143\n",
      "Batch Size: 64 Learning Rate: 0.02 Layer Size: 256 Accuracy:  0.11571428571428571\n",
      "Batch Size: 128 Learning Rate: 0.005 Layer Size: 256 Accuracy:  0.1457142857142857\n",
      "Batch Size: 128 Learning Rate: 0.01 Layer Size: 256 Accuracy:  0.1442857142857143\n",
      "Batch Size: 128 Learning Rate: 0.015 Layer Size: 256 Accuracy:  0.1707142857142857\n",
      "Batch Size: 128 Learning Rate: 0.02 Layer Size: 256 Accuracy:  0.22071428571428572\n"
     ]
    }
   ],
   "source": [
    "for s in range(2):\n",
    "    for a in range(4,8):\n",
    "        for b in range(4):\n",
    "            model = MLNN(X_train,y_train,X_test,y_test,L=3,NL=128+(128*s)) \n",
    "            model.train(batch_size=2**a,epochs=50,lr=0.005+(0.005*b))\n",
    "            predict = model.predict(X_test)\n",
    "            predictions = []\n",
    "            y_tests = []\n",
    "            for i in range(0,len(predict)):\n",
    "                for j in range(0,10):\n",
    "                    if predict[i][j] == 1:\n",
    "                        predictions.append(j)\n",
    "            for i in range(0,len(y_test)):\n",
    "                y_tests.append(y_test[i])\n",
    "            accuracy = accuracy_score(y_tests,predictions)\n",
    "            accs6.append(accuracy)\n",
    "            print(\"Batch Size:\",2**a,\"Learning Rate:\" ,(0.005+(0.005*b)),\"Layer Size:\", (128+(128*s)), \"Accuracy: \",accuracy)"
   ]
  },
  {
   "attachments": {
    "64-2-H%C4%B0DDEN-LAYER-NN-TABLO-6png.png": {
     "image/png": "[encoded data removed]"
    }
   },
   "cell_type": "markdown",
   "metadata": {},
   "source": [
    "![64-2-H%C4%B0DDEN-LAYER-NN-TABLO-6png.png](attachment:64-2-H%C4%B0DDEN-LAYER-NN-TABLO-6png.png)"
   ]
  },
  {
   "cell_type": "markdown",
   "metadata": {},
   "source": [
    "##### I choosed lr=0.0015, batch size = 32 and layer size=256 and I used Sigmoid function. It gives 0.308 accuracy."
   ]
  },
  {
   "cell_type": "markdown",
   "metadata": {},
   "source": [
    "### CNN"
   ]
  },
  {
   "cell_type": "code",
   "execution_count": 9,
   "metadata": {},
   "outputs": [],
   "source": [
    "import os\n",
    "import numpy as np\n",
    "import tqdm\n",
    "import glob\n",
    "import matplotlib.pyplot as plt\n",
    "from PIL import Image\n",
    "import torch.nn.functional as F\n",
    "import torch\n",
    "import torch.nn as nn\n",
    "import torch.optim as optim\n",
    "from  torch.utils.data import Dataset, DataLoader\n",
    "from time import time\n",
    "import torchvision\n",
    "import torchvision.models as models\n",
    "import torchvision.transforms as transforms\n",
    "import torchvision.datasets as datasets"
   ]
  },
  {
   "cell_type": "code",
   "execution_count": 2,
   "metadata": {},
   "outputs": [],
   "source": [
    "ROOT_PATH = \"flowers\"\n",
    "train_path = f'{ROOT_PATH}/train'\n",
    "test_path = f'{ROOT_PATH}/test'"
   ]
  },
  {
   "cell_type": "code",
   "execution_count": 11,
   "metadata": {},
   "outputs": [],
   "source": [
    "device = torch.device(\"cuda\" if torch.cuda.is_available() else \"cpu\")"
   ]
  },
  {
   "cell_type": "code",
   "execution_count": 12,
   "metadata": {},
   "outputs": [],
   "source": [
    "mean = [0.554, 0.450, 0.343]\n",
    "std = [0.231, 0.241, 0.241]\n",
    "image_size = 64      # 32x32, 64x64, 128x128\n",
    "batch_size = 128"
   ]
  },
  {
   "cell_type": "code",
   "execution_count": 5,
   "metadata": {},
   "outputs": [],
   "source": [
    "main_transform = transforms.Compose([\n",
    "    transforms.Resize((image_size, image_size)),  \n",
    "    transforms.ToTensor(),\n",
    "    transforms.Normalize(mean,std)      # normalize\n",
    "])\n",
    "\n",
    "aug_transform = transforms.Compose([\n",
    "    transforms.Resize((image_size, image_size)),\n",
    "    transforms.RandomRotation(20),   # rotate images 20 degree randomly\n",
    "    transforms.RandomHorizontalFlip(),\n",
    "    transforms.ColorJitter(0.1,0.1,0.1),    # about saturation brightness vs.\n",
    "    transforms.ToTensor(),\n",
    "    transforms.Normalize(mean,std),\n",
    "    transforms.RandomErasing()      #randomly erasing pixels \n",
    "])"
   ]
  },
  {
   "cell_type": "code",
   "execution_count": 6,
   "metadata": {},
   "outputs": [],
   "source": [
    "train_dataset = datasets.ImageFolder(train_path, transform=aug_transform)"
   ]
  },
  {
   "cell_type": "code",
   "execution_count": 7,
   "metadata": {},
   "outputs": [],
   "source": [
    "test_dataset = datasets.ImageFolder(test_path, transform=main_transform)"
   ]
  },
  {
   "cell_type": "code",
   "execution_count": 8,
   "metadata": {},
   "outputs": [],
   "source": [
    "train_dataloader = DataLoader(train_dataset, batch_size = batch_size, shuffle=True, num_workers=2)"
   ]
  },
  {
   "cell_type": "code",
   "execution_count": 9,
   "metadata": {},
   "outputs": [],
   "source": [
    "test_dataloader = DataLoader(test_dataset, batch_size = batch_size, shuffle=False, num_workers=2)"
   ]
  },
  {
   "cell_type": "markdown",
   "metadata": {},
   "source": [
    "### 1 Conv 1 FC Model"
   ]
  },
  {
   "cell_type": "code",
   "execution_count": 10,
   "metadata": {},
   "outputs": [],
   "source": [
    "class MyNet(nn.Module):\n",
    "    def __init__(self):\n",
    "        super(MyNet, self).__init__()\n",
    "\n",
    "        self.model = nn.Sequential(\n",
    "            nn.Conv2d(3, 16, kernel_size=3, padding=1),\n",
    "            nn.ReLU(),\n",
    "            nn.MaxPool2d(2, 2)).to(device)\n",
    "\n",
    "        self.classifier = nn.Sequential(\n",
    "            nn.Flatten(),\n",
    "            nn.Linear(16384, 7),\n",
    "            \n",
    "        ).to(device)\n",
    "       \n",
    "    def forward(self, value):\n",
    "        value = self.model(value)\n",
    "        value = self.classifier(value)\n",
    "        return value"
   ]
  },
  {
   "cell_type": "code",
   "execution_count": 18,
   "metadata": {},
   "outputs": [],
   "source": [
    "def setDevice():\n",
    "    # set device\n",
    "    device=None\n",
    "    if torch.cuda.is_available():\n",
    "        device = torch.device(\"cuda\")\n",
    "    else:\n",
    "        device = torch.device(\"cpu\")\n",
    "    print(\"Using\", device)\n",
    "    return "
   ]
  },
  {
   "cell_type": "code",
   "execution_count": 19,
   "metadata": {},
   "outputs": [],
   "source": [
    "def Train(epoch, model, print_every, trainData, criterion, device, optimizer):\n",
    "    # method for training model\n",
    "    totalLoss = 0\n",
    "    start = time()\n",
    "\n",
    "    accuracy = []\n",
    "\n",
    "    for i, batch in enumerate(trainData, 1):\n",
    "\n",
    "        minput = batch[0].to(device)\n",
    "        target = batch[1].to(device)\n",
    "\n",
    "        # output of model\n",
    "        moutput = model(minput)\n",
    "\n",
    "\n",
    "        # computing the cross entropy loss\n",
    "        loss = criterion(moutput, target)\n",
    "        totalLoss += loss.item()\n",
    "\n",
    "        optimizer.zero_grad()\n",
    "\n",
    "        # Back propogation\n",
    "        loss.backward()\n",
    "\n",
    "        # updating model parameters\n",
    "        optimizer.step()\n",
    "\n",
    "        argmax = moutput.argmax(dim=1)\n",
    "        # calculating accuracy by comparing to target\n",
    "        accuracy.append((target == argmax).sum().item() / target.shape[0])\n",
    "\n",
    "        # Returning Average Training Loss and Accuracy\n",
    "    return totalLoss / len(trainData), sum(accuracy) / len(accuracy)\n",
    "\n",
    "\n",
    "def Test(epoch, model, epochBased, testData, criterion, device,lr,bs):\n",
    "    totalLoss = 0\n",
    "    start = time()\n",
    "\n",
    "    accuracy = []\n",
    "\n",
    "    with torch.no_grad():  # disable calculations of gradients for all pytorch operations inside the block\n",
    "        for i, batch in enumerate(testData):\n",
    "            minput = batch[0].to(device)\n",
    "            target = batch[1].to(device)\n",
    "\n",
    "            # output by our model\n",
    "            moutput = model(minput)\n",
    "\n",
    "            # computing the cross entropy loss\n",
    "            loss = criterion(moutput, target)\n",
    "            totalLoss += loss.item()\n",
    "\n",
    "\n",
    "            argmax = moutput.argmax(dim=1)\n",
    "            # Find the accuracy of the batch by comparing it with actual targets\n",
    "            accuracy.append((target == argmax).sum().item() / target.shape[0])\n",
    "\n",
    "    if epochBased:\n",
    "        print(\"Epoch:\",epoch, \"Test Loss:\",totalLoss / len(testData) , \"Accuracy:\" ,sum(accuracy) / len(accuracy), \"Time:\",time() - start,\"Learning Rate:\" ,lr,\"Batch Size:\",bs)\n",
    "    # Returning Average Testing Loss and Accuracy\n",
    "    return totalLoss / len(testData), sum(accuracy) / len(accuracy)\n",
    "\n",
    "\n",
    "def epochLoop(epochNumber, model, trainData, testData, criterion, device, optimizer, batchSize, learningRate):\n",
    "    # main loop\n",
    "    trainLosses = []\n",
    "    testLosses = []\n",
    "    trainAccuracies = []\n",
    "    testAccuracies = []\n",
    "\n",
    "    for epoch in range(1, epochNumber + 1):\n",
    "        trainLoss, trainAccuracy = Train(epoch, model, 10, trainData, criterion, device, optimizer)\n",
    "        testLoss, testAccuracy = Test(epoch, model, True, testData, criterion, device,learningRate,batchSize)\n",
    "\n",
    "        trainLosses.append(trainLoss)\n",
    "        testLosses.append(testLoss)\n",
    "        trainAccuracies.append(trainAccuracy)\n",
    "        testAccuracies.append(testAccuracy)\n",
    "\n",
    "        if epoch % 30 == 0:\n",
    "            # SAVING MODEL TO USE IT LATER\n",
    "            torch.save(model, f\"./model_epoch-30_lr-{learningRate}_batch-{batchSize}_dropout-0.45.pth\")\n",
    "    return trainLosses, testLosses, trainAccuracies, testAccuracies\n",
    "\n",
    "\n",
    "def testingModel(epoch, model, testData, criterion, device):\n",
    "    loss, accuracy = Test(epoch, model, False, testData, criterion, device)\n",
    "    return loss, accuracy\n",
    "\n",
    "\n",
    "def plotting(train, test, text, batch, lr, status):\n",
    "    plt.plot(range(1, len(train)+1), train, 'r', label=\"Train {}\".format(text))\n",
    "    plt.plot(range(1, len(test)+1), test, 'b', label=\"Test {}\".format(text))\n",
    "\n",
    "    plt.title(f\"{batch} Batch and {lr} Learning Rate {status}\")\n",
    "    plt.xlabel('Epoch')\n",
    "    plt.ylabel(text)\n",
    "    plt.legend()\n",
    "    plt.show()\n"
   ]
  },
  {
   "cell_type": "code",
   "execution_count": 20,
   "metadata": {},
   "outputs": [],
   "source": [
    "def initModel(newNetwork, device, path, learningRate,MyNet):\n",
    "    # initializing model\n",
    "    model = None\n",
    "    if newNetwork:\n",
    "        model =MyNet().to(device)\n",
    "    else:\n",
    "        model = torch.load(path, map_location=device)\n",
    "\n",
    "    # loss and optimization function\n",
    "    criterion = nn.CrossEntropyLoss()\n",
    "    optimizer = optim.Adam(model.parameters(), lr=learningRate)\n",
    "\n",
    "    return model, criterion, optimizer\n"
   ]
  },
  {
   "cell_type": "code",
   "execution_count": 21,
   "metadata": {},
   "outputs": [],
   "source": [
    "# hyper parameters\n",
    "batchSize = 2\n",
    "learningRate = 0.005\n",
    "epochNumber = 10"
   ]
  },
  {
   "cell_type": "code",
   "execution_count": 22,
   "metadata": {},
   "outputs": [
    {
     "name": "stdout",
     "output_type": "stream",
     "text": [
      "Using cuda\n"
     ]
    }
   ],
   "source": [
    "device = setDevice()"
   ]
  },
  {
   "cell_type": "code",
   "execution_count": 19,
   "metadata": {},
   "outputs": [
    {
     "name": "stdout",
     "output_type": "stream",
     "text": [
      "Epoch: 1 Test Loss: 1.2088734101165424 Accuracy: 0.5734374999999999 Time: 7.484784126281738 Learning Rate: 0.005 Batch Size: 16\n",
      "Epoch: 2 Test Loss: 1.0902322043072095 Accuracy: 0.6148200757575757 Time: 7.205335378646851 Learning Rate: 0.005 Batch Size: 16\n",
      "Epoch: 3 Test Loss: 0.974393831057982 Accuracy: 0.673532196969697 Time: 7.175819635391235 Learning Rate: 0.005 Batch Size: 16\n",
      "Epoch: 4 Test Loss: 0.9640929915688254 Accuracy: 0.6607954545454545 Time: 7.128385305404663 Learning Rate: 0.005 Batch Size: 16\n",
      "Epoch: 5 Test Loss: 0.9348657727241516 Accuracy: 0.681155303030303 Time: 7.049607276916504 Learning Rate: 0.005 Batch Size: 16\n",
      "Epoch: 6 Test Loss: 1.0249887745488773 Accuracy: 0.6613162878787878 Time: 7.343648910522461 Learning Rate: 0.005 Batch Size: 16\n",
      "Epoch: 7 Test Loss: 0.908639132976532 Accuracy: 0.6974905303030302 Time: 7.234759330749512 Learning Rate: 0.005 Batch Size: 16\n",
      "Epoch: 8 Test Loss: 0.9304031296209856 Accuracy: 0.6808238636363636 Time: 7.079657316207886 Learning Rate: 0.005 Batch Size: 16\n",
      "Epoch: 9 Test Loss: 0.9693168618462302 Accuracy: 0.6669034090909091 Time: 7.176485061645508 Learning Rate: 0.005 Batch Size: 16\n",
      "Epoch: 10 Test Loss: 0.9360705180601641 Accuracy: 0.6782670454545454 Time: 7.0449135303497314 Learning Rate: 0.005 Batch Size: 16\n",
      "Epoch: 1 Test Loss: 1.1440924676981838 Accuracy: 0.6091382575757576 Time: 7.159549951553345 Learning Rate: 0.005 Batch Size: 32\n",
      "Epoch: 2 Test Loss: 1.0991185984828256 Accuracy: 0.6363162878787878 Time: 7.141854286193848 Learning Rate: 0.005 Batch Size: 32\n",
      "Epoch: 3 Test Loss: 1.0447381030429492 Accuracy: 0.6409090909090909 Time: 7.110933303833008 Learning Rate: 0.005 Batch Size: 32\n",
      "Epoch: 4 Test Loss: 1.02113875746727 Accuracy: 0.6574810606060606 Time: 7.079851865768433 Learning Rate: 0.005 Batch Size: 32\n",
      "Epoch: 5 Test Loss: 1.0740344605662606 Accuracy: 0.6646306818181817 Time: 6.048168659210205 Learning Rate: 0.005 Batch Size: 32\n",
      "Epoch: 6 Test Loss: 0.9331757778471167 Accuracy: 0.688967803030303 Time: 7.0332605838775635 Learning Rate: 0.005 Batch Size: 32\n",
      "Epoch: 7 Test Loss: 0.9745123792778362 Accuracy: 0.6822916666666666 Time: 7.173959016799927 Learning Rate: 0.005 Batch Size: 32\n",
      "Epoch: 8 Test Loss: 0.9405434456738558 Accuracy: 0.713967803030303 Time: 7.050526857376099 Learning Rate: 0.005 Batch Size: 32\n",
      "Epoch: 9 Test Loss: 0.9145991043611006 Accuracy: 0.6966382575757576 Time: 7.173747539520264 Learning Rate: 0.005 Batch Size: 32\n",
      "Epoch: 10 Test Loss: 0.907515821131793 Accuracy: 0.696496212121212 Time: 7.112030744552612 Learning Rate: 0.005 Batch Size: 32\n",
      "Epoch: 1 Test Loss: 1.279403036290949 Accuracy: 0.555965909090909 Time: 7.127081632614136 Learning Rate: 0.005 Batch Size: 64\n",
      "Epoch: 2 Test Loss: 1.0498286160555752 Accuracy: 0.6351325757575758 Time: 6.110645055770874 Learning Rate: 0.005 Batch Size: 64\n",
      "Epoch: 3 Test Loss: 0.9887627309018915 Accuracy: 0.6662405303030302 Time: 7.142930030822754 Learning Rate: 0.005 Batch Size: 64\n",
      "Epoch: 4 Test Loss: 1.0144278650934047 Accuracy: 0.6668087121212122 Time: 7.144319295883179 Learning Rate: 0.005 Batch Size: 64\n",
      "Epoch: 5 Test Loss: 0.9430276372215964 Accuracy: 0.6779829545454545 Time: 7.172009706497192 Learning Rate: 0.005 Batch Size: 64\n",
      "Epoch: 6 Test Loss: 0.9847966215827249 Accuracy: 0.6851799242424242 Time: 7.0789289474487305 Learning Rate: 0.005 Batch Size: 64\n",
      "Epoch: 7 Test Loss: 1.0069747458804736 Accuracy: 0.6644412878787879 Time: 7.112480401992798 Learning Rate: 0.005 Batch Size: 64\n",
      "Epoch: 8 Test Loss: 1.038346615704623 Accuracy: 0.6591382575757575 Time: 5.392678260803223 Learning Rate: 0.005 Batch Size: 64\n",
      "Epoch: 9 Test Loss: 0.9662229716777802 Accuracy: 0.6857007575757575 Time: 5.54871940612793 Learning Rate: 0.005 Batch Size: 64\n",
      "Epoch: 10 Test Loss: 1.0338962511582808 Accuracy: 0.679782196969697 Time: 7.063676357269287 Learning Rate: 0.005 Batch Size: 64\n",
      "Epoch: 1 Test Loss: 1.148319341919639 Accuracy: 0.5919034090909091 Time: 7.1118998527526855 Learning Rate: 0.005 Batch Size: 128\n",
      "Epoch: 2 Test Loss: 1.098444020206278 Accuracy: 0.6205965909090909 Time: 7.1729137897491455 Learning Rate: 0.005 Batch Size: 128\n",
      "Epoch: 3 Test Loss: 1.0320004468614405 Accuracy: 0.6290719696969697 Time: 7.080504894256592 Learning Rate: 0.005 Batch Size: 128\n",
      "Epoch: 4 Test Loss: 0.9762915670871735 Accuracy: 0.6611742424242424 Time: 7.221075057983398 Learning Rate: 0.005 Batch Size: 128\n",
      "Epoch: 5 Test Loss: 1.015775041146712 Accuracy: 0.6544034090909091 Time: 7.126951456069946 Learning Rate: 0.005 Batch Size: 128\n",
      "Epoch: 6 Test Loss: 0.949627551165494 Accuracy: 0.6746685606060606 Time: 7.173725128173828 Learning Rate: 0.005 Batch Size: 128\n",
      "Epoch: 7 Test Loss: 0.9595544202761217 Accuracy: 0.6749526515151515 Time: 7.049706220626831 Learning Rate: 0.005 Batch Size: 128\n",
      "Epoch: 8 Test Loss: 0.974860738624226 Accuracy: 0.6696022727272727 Time: 7.033421754837036 Learning Rate: 0.005 Batch Size: 128\n",
      "Epoch: 9 Test Loss: 0.9793781529773365 Accuracy: 0.6779829545454545 Time: 7.0968406200408936 Learning Rate: 0.005 Batch Size: 128\n",
      "Epoch: 10 Test Loss: 1.0431110994382338 Accuracy: 0.6591382575757575 Time: 7.111375570297241 Learning Rate: 0.005 Batch Size: 128\n",
      "Epoch: 1 Test Loss: 1.1955014846541665 Accuracy: 0.6068655303030304 Time: 7.158507347106934 Learning Rate: 0.01 Batch Size: 16\n",
      "Epoch: 2 Test Loss: 1.0217387865890155 Accuracy: 0.6690340909090909 Time: 7.063380002975464 Learning Rate: 0.01 Batch Size: 16\n",
      "Epoch: 3 Test Loss: 0.9483326917344873 Accuracy: 0.6937973484848485 Time: 7.052166938781738 Learning Rate: 0.01 Batch Size: 16\n",
      "Epoch: 4 Test Loss: 0.9910727441310883 Accuracy: 0.6750946969696969 Time: 7.04828405380249 Learning Rate: 0.01 Batch Size: 16\n",
      "Epoch: 5 Test Loss: 0.9778727672316812 Accuracy: 0.674905303030303 Time: 7.111402273178101 Learning Rate: 0.01 Batch Size: 16\n",
      "Epoch: 6 Test Loss: 0.9494790814139626 Accuracy: 0.6853219696969697 Time: 7.173436164855957 Learning Rate: 0.01 Batch Size: 16\n",
      "Epoch: 7 Test Loss: 0.9719702438874678 Accuracy: 0.680965909090909 Time: 7.095564603805542 Learning Rate: 0.01 Batch Size: 16\n",
      "Epoch: 8 Test Loss: 0.9447779872200706 Accuracy: 0.6868371212121211 Time: 7.145543098449707 Learning Rate: 0.01 Batch Size: 16\n",
      "Epoch: 9 Test Loss: 0.9393483319065787 Accuracy: 0.7133049242424243 Time: 7.1581573486328125 Learning Rate: 0.01 Batch Size: 16\n",
      "Epoch: 10 Test Loss: 0.9327734492041848 Accuracy: 0.7000000000000001 Time: 7.207153558731079 Learning Rate: 0.01 Batch Size: 16\n",
      "Epoch: 1 Test Loss: 1.3282915435054086 Accuracy: 0.5392992424242424 Time: 7.1601786613464355 Learning Rate: 0.01 Batch Size: 32\n",
      "Epoch: 2 Test Loss: 1.0786541429432956 Accuracy: 0.6281249999999999 Time: 7.097057819366455 Learning Rate: 0.01 Batch Size: 32\n",
      "Epoch: 3 Test Loss: 1.013010556047613 Accuracy: 0.646875 Time: 7.26855206489563 Learning Rate: 0.01 Batch Size: 32\n",
      "Epoch: 4 Test Loss: 1.023166228424419 Accuracy: 0.6415246212121212 Time: 7.144691228866577 Learning Rate: 0.01 Batch Size: 32\n",
      "Epoch: 5 Test Loss: 1.0214917659759521 Accuracy: 0.6708806818181818 Time: 7.09886622428894 Learning Rate: 0.01 Batch Size: 32\n",
      "Epoch: 6 Test Loss: 0.9920922734520652 Accuracy: 0.6919507575757575 Time: 7.082512378692627 Learning Rate: 0.01 Batch Size: 32\n",
      "Epoch: 7 Test Loss: 0.9432644952427257 Accuracy: 0.6875473484848484 Time: 7.222048997879028 Learning Rate: 0.01 Batch Size: 32\n",
      "Epoch: 8 Test Loss: 0.9290418435226787 Accuracy: 0.6977272727272728 Time: 7.079859495162964 Learning Rate: 0.01 Batch Size: 32\n",
      "Epoch: 9 Test Loss: 0.8823358741673556 Accuracy: 0.7062026515151515 Time: 7.139023065567017 Learning Rate: 0.01 Batch Size: 32\n",
      "Epoch: 10 Test Loss: 0.8732600645585493 Accuracy: 0.7106060606060606 Time: 7.095828056335449 Learning Rate: 0.01 Batch Size: 32\n",
      "Epoch: 1 Test Loss: 1.2442429986867038 Accuracy: 0.5652935606060606 Time: 5.157860040664673 Learning Rate: 0.01 Batch Size: 64\n",
      "Epoch: 2 Test Loss: 1.0974338542331348 Accuracy: 0.622064393939394 Time: 5.0949387550354 Learning Rate: 0.01 Batch Size: 64\n",
      "Epoch: 3 Test Loss: 1.0834172097119419 Accuracy: 0.6341382575757576 Time: 6.132080316543579 Learning Rate: 0.01 Batch Size: 64\n",
      "Epoch: 4 Test Loss: 1.0216447169130498 Accuracy: 0.6404356060606061 Time: 5.21328067779541 Learning Rate: 0.01 Batch Size: 64\n",
      "Epoch: 5 Test Loss: 1.045269093730233 Accuracy: 0.6363636363636364 Time: 5.1432576179504395 Learning Rate: 0.01 Batch Size: 64\n"
     ]
    },
    {
     "name": "stdout",
     "output_type": "stream",
     "text": [
      "Epoch: 6 Test Loss: 1.0258371884172612 Accuracy: 0.6545454545454545 Time: 5.392806768417358 Learning Rate: 0.01 Batch Size: 64\n",
      "Epoch: 7 Test Loss: 0.9579488093202765 Accuracy: 0.6899147727272728 Time: 5.689409255981445 Learning Rate: 0.01 Batch Size: 64\n",
      "Epoch: 8 Test Loss: 0.9989591620185159 Accuracy: 0.6727746212121212 Time: 6.1725053787231445 Learning Rate: 0.01 Batch Size: 64\n",
      "Epoch: 9 Test Loss: 1.0604736750776118 Accuracy: 0.6607481060606061 Time: 6.205413579940796 Learning Rate: 0.01 Batch Size: 64\n",
      "Epoch: 10 Test Loss: 0.9475867585702376 Accuracy: 0.6939867424242424 Time: 5.971820116043091 Learning Rate: 0.01 Batch Size: 64\n",
      "Epoch: 1 Test Loss: 1.2556113492358814 Accuracy: 0.5624526515151514 Time: 7.110090255737305 Learning Rate: 0.01 Batch Size: 128\n",
      "Epoch: 2 Test Loss: 1.0881975238973445 Accuracy: 0.627935606060606 Time: 7.1277406215667725 Learning Rate: 0.01 Batch Size: 128\n",
      "Epoch: 3 Test Loss: 1.1435530212792484 Accuracy: 0.6147727272727272 Time: 5.939721584320068 Learning Rate: 0.01 Batch Size: 128\n",
      "Epoch: 4 Test Loss: 0.9749789617278359 Accuracy: 0.677935606060606 Time: 7.0496814250946045 Learning Rate: 0.01 Batch Size: 128\n",
      "Epoch: 5 Test Loss: 0.981602132320404 Accuracy: 0.6670454545454546 Time: 7.019343852996826 Learning Rate: 0.01 Batch Size: 128\n",
      "Epoch: 6 Test Loss: 0.9112952839244496 Accuracy: 0.6890151515151515 Time: 7.1276936531066895 Learning Rate: 0.01 Batch Size: 128\n",
      "Epoch: 7 Test Loss: 0.9410095404494893 Accuracy: 0.686316287878788 Time: 7.079474925994873 Learning Rate: 0.01 Batch Size: 128\n",
      "Epoch: 8 Test Loss: 0.8775878142226826 Accuracy: 0.7167613636363637 Time: 6.079296350479126 Learning Rate: 0.01 Batch Size: 128\n",
      "Epoch: 9 Test Loss: 0.9086223136294972 Accuracy: 0.6931344696969698 Time: 5.250981092453003 Learning Rate: 0.01 Batch Size: 128\n",
      "Epoch: 10 Test Loss: 0.8600712228905071 Accuracy: 0.7214962121212122 Time: 5.188873291015625 Learning Rate: 0.01 Batch Size: 128\n",
      "Epoch: 1 Test Loss: 1.1647750410166653 Accuracy: 0.5886363636363636 Time: 5.157592296600342 Learning Rate: 0.015 Batch Size: 16\n",
      "Epoch: 2 Test Loss: 1.0572780804200606 Accuracy: 0.6410037878787879 Time: 5.142221927642822 Learning Rate: 0.015 Batch Size: 16\n",
      "Epoch: 3 Test Loss: 1.0144353021274914 Accuracy: 0.6540246212121212 Time: 5.188686847686768 Learning Rate: 0.015 Batch Size: 16\n",
      "Epoch: 4 Test Loss: 1.0041783939708362 Accuracy: 0.6690814393939394 Time: 5.517707586288452 Learning Rate: 0.015 Batch Size: 16\n",
      "Epoch: 5 Test Loss: 0.95554534684528 Accuracy: 0.6674242424242425 Time: 5.969675540924072 Learning Rate: 0.015 Batch Size: 16\n",
      "Epoch: 6 Test Loss: 0.9250134988264604 Accuracy: 0.6870265151515151 Time: 6.48749852180481 Learning Rate: 0.015 Batch Size: 16\n",
      "Epoch: 7 Test Loss: 0.9707616134123369 Accuracy: 0.6853693181818182 Time: 5.110916376113892 Learning Rate: 0.015 Batch Size: 16\n",
      "Epoch: 8 Test Loss: 0.9698452651500702 Accuracy: 0.6788825757575757 Time: 5.141925573348999 Learning Rate: 0.015 Batch Size: 16\n",
      "Epoch: 9 Test Loss: 0.9406021941791881 Accuracy: 0.6924242424242424 Time: 5.517983675003052 Learning Rate: 0.015 Batch Size: 16\n",
      "Epoch: 10 Test Loss: 1.0927874608473345 Accuracy: 0.6480113636363636 Time: 5.547935724258423 Learning Rate: 0.015 Batch Size: 16\n",
      "Epoch: 1 Test Loss: 1.1268092691898346 Accuracy: 0.6190814393939393 Time: 5.0951783657073975 Learning Rate: 0.015 Batch Size: 32\n",
      "Epoch: 2 Test Loss: 1.2301054244691676 Accuracy: 0.579876893939394 Time: 5.454449892044067 Learning Rate: 0.015 Batch Size: 32\n",
      "Epoch: 3 Test Loss: 0.9907845665108074 Accuracy: 0.6536931818181818 Time: 5.924183368682861 Learning Rate: 0.015 Batch Size: 32\n",
      "Epoch: 4 Test Loss: 1.0071156350049106 Accuracy: 0.6568655303030303 Time: 7.064162254333496 Learning Rate: 0.015 Batch Size: 32\n",
      "Epoch: 5 Test Loss: 0.9976960528980602 Accuracy: 0.662784090909091 Time: 7.441288232803345 Learning Rate: 0.015 Batch Size: 32\n",
      "Epoch: 6 Test Loss: 0.9423973289403048 Accuracy: 0.6768939393939394 Time: 7.098608016967773 Learning Rate: 0.015 Batch Size: 32\n",
      "Epoch: 7 Test Loss: 0.9732015295462175 Accuracy: 0.6734848484848485 Time: 7.1114819049835205 Learning Rate: 0.015 Batch Size: 32\n",
      "Epoch: 8 Test Loss: 1.0037969621745022 Accuracy: 0.6683712121212121 Time: 5.675869464874268 Learning Rate: 0.015 Batch Size: 32\n",
      "Epoch: 9 Test Loss: 0.9409488547932018 Accuracy: 0.6959753787878789 Time: 6.496363401412964 Learning Rate: 0.015 Batch Size: 32\n",
      "Epoch: 10 Test Loss: 0.9040927318009463 Accuracy: 0.6974431818181818 Time: 7.115058183670044 Learning Rate: 0.015 Batch Size: 32\n",
      "Epoch: 1 Test Loss: 1.1703877286477522 Accuracy: 0.5884469696969696 Time: 7.190781354904175 Learning Rate: 0.015 Batch Size: 64\n",
      "Epoch: 2 Test Loss: 1.0450757308439775 Accuracy: 0.6397253787878788 Time: 7.22243857383728 Learning Rate: 0.015 Batch Size: 64\n",
      "Epoch: 3 Test Loss: 0.9916288771412589 Accuracy: 0.6640625 Time: 7.17367959022522 Learning Rate: 0.015 Batch Size: 64\n",
      "Epoch: 4 Test Loss: 0.9751958521929655 Accuracy: 0.6699810606060607 Time: 6.366801977157593 Learning Rate: 0.015 Batch Size: 64\n",
      "Epoch: 5 Test Loss: 0.9727338281544772 Accuracy: 0.673626893939394 Time: 6.376669883728027 Learning Rate: 0.015 Batch Size: 64\n",
      "Epoch: 6 Test Loss: 0.9206223271109841 Accuracy: 0.6915719696969697 Time: 5.142221212387085 Learning Rate: 0.015 Batch Size: 64\n",
      "Epoch: 7 Test Loss: 1.0232713357968763 Accuracy: 0.6480587121212121 Time: 5.141429901123047 Learning Rate: 0.015 Batch Size: 64\n",
      "Epoch: 8 Test Loss: 0.966500076380643 Accuracy: 0.6854166666666667 Time: 5.548417329788208 Learning Rate: 0.015 Batch Size: 64\n",
      "Epoch: 9 Test Loss: 0.9358467595143751 Accuracy: 0.6850852272727272 Time: 5.017058849334717 Learning Rate: 0.015 Batch Size: 64\n",
      "Epoch: 10 Test Loss: 0.8989013677293604 Accuracy: 0.7124526515151515 Time: 5.174359560012817 Learning Rate: 0.015 Batch Size: 64\n",
      "Epoch: 1 Test Loss: 1.0978834249756553 Accuracy: 0.625094696969697 Time: 5.110301971435547 Learning Rate: 0.015 Batch Size: 128\n",
      "Epoch: 2 Test Loss: 1.0487899780273438 Accuracy: 0.6239583333333333 Time: 5.831372976303101 Learning Rate: 0.015 Batch Size: 128\n",
      "Epoch: 3 Test Loss: 1.0649930076165632 Accuracy: 0.6187026515151515 Time: 5.253097295761108 Learning Rate: 0.015 Batch Size: 128\n",
      "Epoch: 4 Test Loss: 1.01452345197851 Accuracy: 0.657623106060606 Time: 5.8877036571502686 Learning Rate: 0.015 Batch Size: 128\n",
      "Epoch: 5 Test Loss: 0.9646261659535494 Accuracy: 0.6959280303030303 Time: 6.4076080322265625 Learning Rate: 0.015 Batch Size: 128\n",
      "Epoch: 6 Test Loss: 0.9807106012647803 Accuracy: 0.6998579545454545 Time: 5.189055442810059 Learning Rate: 0.015 Batch Size: 128\n",
      "Epoch: 7 Test Loss: 0.9059164361520247 Accuracy: 0.712594696969697 Time: 5.080092191696167 Learning Rate: 0.015 Batch Size: 128\n",
      "Epoch: 8 Test Loss: 0.8976833007552407 Accuracy: 0.7168087121212121 Time: 5.891976833343506 Learning Rate: 0.015 Batch Size: 128\n",
      "Epoch: 9 Test Loss: 0.9494649876247753 Accuracy: 0.6893939393939393 Time: 7.064202785491943 Learning Rate: 0.015 Batch Size: 128\n",
      "Epoch: 10 Test Loss: 1.512231864712455 Accuracy: 0.5913825757575757 Time: 7.127189874649048 Learning Rate: 0.015 Batch Size: 128\n",
      "Epoch: 1 Test Loss: 1.20790649544109 Accuracy: 0.6114583333333333 Time: 7.186826229095459 Learning Rate: 0.02 Batch Size: 16\n",
      "Epoch: 2 Test Loss: 1.0367733944546094 Accuracy: 0.6485795454545454 Time: 7.080508232116699 Learning Rate: 0.02 Batch Size: 16\n",
      "Epoch: 3 Test Loss: 1.1023635295304386 Accuracy: 0.6397253787878788 Time: 7.080061674118042 Learning Rate: 0.02 Batch Size: 16\n",
      "Epoch: 4 Test Loss: 0.962700058113445 Accuracy: 0.6636363636363636 Time: 7.002275228500366 Learning Rate: 0.02 Batch Size: 16\n",
      "Epoch: 5 Test Loss: 0.9413486637852408 Accuracy: 0.6954545454545454 Time: 5.878093481063843 Learning Rate: 0.02 Batch Size: 16\n",
      "Epoch: 6 Test Loss: 0.9804821881380948 Accuracy: 0.6679924242424242 Time: 5.767089605331421 Learning Rate: 0.02 Batch Size: 16\n",
      "Epoch: 7 Test Loss: 0.9303433840925043 Accuracy: 0.6931818181818182 Time: 5.234408378601074 Learning Rate: 0.02 Batch Size: 16\n",
      "Epoch: 8 Test Loss: 0.9483918656002391 Accuracy: 0.6971590909090909 Time: 5.095380067825317 Learning Rate: 0.02 Batch Size: 16\n",
      "Epoch: 9 Test Loss: 0.9369638670574535 Accuracy: 0.6903409090909091 Time: 6.517768859863281 Learning Rate: 0.02 Batch Size: 16\n",
      "Epoch: 10 Test Loss: 0.8959749611941251 Accuracy: 0.7208806818181818 Time: 6.955737829208374 Learning Rate: 0.02 Batch Size: 16\n"
     ]
    },
    {
     "name": "stdout",
     "output_type": "stream",
     "text": [
      "Epoch: 1 Test Loss: 1.2426769083196467 Accuracy: 0.5676609848484848 Time: 5.5325329303741455 Learning Rate: 0.02 Batch Size: 32\n",
      "Epoch: 2 Test Loss: 1.092449502511458 Accuracy: 0.6042140151515152 Time: 5.111649513244629 Learning Rate: 0.02 Batch Size: 32\n",
      "Epoch: 3 Test Loss: 1.065084078095176 Accuracy: 0.6476799242424242 Time: 6.737685203552246 Learning Rate: 0.02 Batch Size: 32\n",
      "Epoch: 4 Test Loss: 0.9758661551909014 Accuracy: 0.6669507575757575 Time: 5.095729827880859 Learning Rate: 0.02 Batch Size: 32\n",
      "Epoch: 5 Test Loss: 0.9279593987898394 Accuracy: 0.7022253787878788 Time: 5.099869728088379 Learning Rate: 0.02 Batch Size: 32\n",
      "Epoch: 6 Test Loss: 0.9349621994928881 Accuracy: 0.6848484848484848 Time: 5.032429933547974 Learning Rate: 0.02 Batch Size: 32\n",
      "Epoch: 7 Test Loss: 0.9298388768326152 Accuracy: 0.6933712121212121 Time: 5.940145492553711 Learning Rate: 0.02 Batch Size: 32\n",
      "Epoch: 8 Test Loss: 0.9999882091175426 Accuracy: 0.6497632575757576 Time: 7.033325433731079 Learning Rate: 0.02 Batch Size: 32\n",
      "Epoch: 9 Test Loss: 0.8992411412976005 Accuracy: 0.709375 Time: 6.671268701553345 Learning Rate: 0.02 Batch Size: 32\n",
      "Epoch: 10 Test Loss: 0.9624366706067865 Accuracy: 0.6809185606060606 Time: 6.391657590866089 Learning Rate: 0.02 Batch Size: 32\n",
      "Epoch: 1 Test Loss: 1.1577675288373774 Accuracy: 0.5863636363636364 Time: 7.113149642944336 Learning Rate: 0.02 Batch Size: 64\n",
      "Epoch: 2 Test Loss: 1.0695524703372608 Accuracy: 0.6247159090909091 Time: 6.1105945110321045 Learning Rate: 0.02 Batch Size: 64\n",
      "Epoch: 3 Test Loss: 1.0028312558477575 Accuracy: 0.6589015151515152 Time: 5.126314401626587 Learning Rate: 0.02 Batch Size: 64\n",
      "Epoch: 4 Test Loss: 0.9776056056672876 Accuracy: 0.6798295454545454 Time: 5.111872911453247 Learning Rate: 0.02 Batch Size: 64\n",
      "Epoch: 5 Test Loss: 0.9457886462861841 Accuracy: 0.688873106060606 Time: 5.190589666366577 Learning Rate: 0.02 Batch Size: 64\n",
      "Epoch: 6 Test Loss: 0.9468682462518866 Accuracy: 0.6869318181818183 Time: 5.910473346710205 Learning Rate: 0.02 Batch Size: 64\n",
      "Epoch: 7 Test Loss: 0.9553330892866309 Accuracy: 0.673058712121212 Time: 5.174903631210327 Learning Rate: 0.02 Batch Size: 64\n",
      "Epoch: 8 Test Loss: 0.9562411308288574 Accuracy: 0.657528409090909 Time: 5.735659599304199 Learning Rate: 0.02 Batch Size: 64\n",
      "Epoch: 9 Test Loss: 0.9258201041004874 Accuracy: 0.6875 Time: 6.486162185668945 Learning Rate: 0.02 Batch Size: 64\n",
      "Epoch: 10 Test Loss: 0.900164008140564 Accuracy: 0.7021780303030303 Time: 5.189518928527832 Learning Rate: 0.02 Batch Size: 64\n",
      "Epoch: 1 Test Loss: 1.2222236828370527 Accuracy: 0.5714488636363636 Time: 5.657972574234009 Learning Rate: 0.02 Batch Size: 128\n",
      "Epoch: 2 Test Loss: 1.107110408219424 Accuracy: 0.6206439393939394 Time: 5.697457790374756 Learning Rate: 0.02 Batch Size: 128\n",
      "Epoch: 3 Test Loss: 1.0540342710234902 Accuracy: 0.6346117424242425 Time: 7.064868211746216 Learning Rate: 0.02 Batch Size: 128\n",
      "Epoch: 4 Test Loss: 0.9482307921756398 Accuracy: 0.6892992424242425 Time: 7.048814058303833 Learning Rate: 0.02 Batch Size: 128\n",
      "Epoch: 5 Test Loss: 1.0201461694457314 Accuracy: 0.6495265151515152 Time: 7.002625226974487 Learning Rate: 0.02 Batch Size: 128\n",
      "Epoch: 6 Test Loss: 0.9845057644627311 Accuracy: 0.6721117424242424 Time: 7.251495838165283 Learning Rate: 0.02 Batch Size: 128\n",
      "Epoch: 7 Test Loss: 0.9184398434378884 Accuracy: 0.7068181818181819 Time: 7.064241409301758 Learning Rate: 0.02 Batch Size: 128\n",
      "Epoch: 8 Test Loss: 1.072178141637282 Accuracy: 0.6467329545454545 Time: 7.063847780227661 Learning Rate: 0.02 Batch Size: 128\n",
      "Epoch: 9 Test Loss: 0.9520097374916077 Accuracy: 0.6774621212121212 Time: 7.063665866851807 Learning Rate: 0.02 Batch Size: 128\n",
      "Epoch: 10 Test Loss: 0.9408804394982078 Accuracy: 0.6855587121212121 Time: 7.048748254776001 Learning Rate: 0.02 Batch Size: 128\n"
     ]
    }
   ],
   "source": [
    "for i in range(4):\n",
    "    for j in range(4,8):\n",
    "        model, criterion, optimizer = initModel(True, device, \"\", learningRate,MyNet)\n",
    "    \n",
    "        # main training loop for model\n",
    "        trainLosses, testLosses, trainAccuracies, testAccuracies = epochLoop(epochNumber, model, train_dataloader, test_dataloader, criterion, device, optimizer, batchSize**j, (learningRate+(learningRate*i)))"
   ]
  },
  {
   "attachments": {
    "64-1Conv-1Fc-Tablo-7.png": {
     "image/png": "[encoded data removed]"
    }
   },
   "cell_type": "markdown",
   "metadata": {},
   "source": [
    "![64-1Conv-1Fc-Tablo-7.png](attachment:64-1Conv-1Fc-Tablo-7.png)"
   ]
  },
  {
   "cell_type": "markdown",
   "metadata": {},
   "source": [
    "##### I choosed lr=0.01, batch size=128 and I will try different activation functions to see the differences. (ReLU gived 0.721)"
   ]
  },
  {
   "cell_type": "code",
   "execution_count": 16,
   "metadata": {},
   "outputs": [],
   "source": [
    "#This class uses Sigmoid as activation function.\n",
    "class MyNet4(nn.Module):\n",
    "    def __init__(self):\n",
    "        super(MyNet4, self).__init__()\n",
    "\n",
    "        self.model = nn.Sequential(\n",
    "            nn.Conv2d(3, 16, kernel_size=3, padding=1),\n",
    "            nn.Sigmoid(),\n",
    "            nn.MaxPool2d(2, 2)).to(device)\n",
    "\n",
    "        self.classifier = nn.Sequential(\n",
    "            nn.Flatten(),\n",
    "            nn.Linear(16384, 7),\n",
    "            \n",
    "        ).to(device)\n",
    "       \n",
    "    def forward(self, value):\n",
    "        value = self.model(value)\n",
    "        value = self.classifier(value)\n",
    "        return value\n"
   ]
  },
  {
   "cell_type": "code",
   "execution_count": 17,
   "metadata": {},
   "outputs": [
    {
     "name": "stdout",
     "output_type": "stream",
     "text": [
      "Epoch: 1 Test Loss: 1.8827711885625666 Accuracy: 0.4502840909090909 Time: 8.528215408325195 Learning Rate: 0.01 Batch Size: 128\n",
      "Epoch: 2 Test Loss: 3.9675745368003845 Accuracy: 0.3302556818181818 Time: 7.670785665512085 Learning Rate: 0.01 Batch Size: 128\n",
      "Epoch: 3 Test Loss: 2.26636603474617 Accuracy: 0.4375 Time: 7.773770809173584 Learning Rate: 0.01 Batch Size: 128\n",
      "Epoch: 4 Test Loss: 2.2075490788979963 Accuracy: 0.4269412878787879 Time: 8.386277198791504 Learning Rate: 0.01 Batch Size: 128\n",
      "Epoch: 5 Test Loss: 1.8323449492454529 Accuracy: 0.45288825757575757 Time: 7.81364893913269 Learning Rate: 0.01 Batch Size: 128\n",
      "Epoch: 6 Test Loss: 2.082725855437192 Accuracy: 0.4620265151515151 Time: 8.005872011184692 Learning Rate: 0.01 Batch Size: 128\n",
      "Epoch: 7 Test Loss: 1.8674014562910253 Accuracy: 0.4768465909090909 Time: 7.806575775146484 Learning Rate: 0.01 Batch Size: 128\n",
      "Epoch: 8 Test Loss: 2.186317660591819 Accuracy: 0.42916666666666664 Time: 7.718475818634033 Learning Rate: 0.01 Batch Size: 128\n",
      "Epoch: 9 Test Loss: 1.5828187546946786 Accuracy: 0.5208806818181818 Time: 7.553422927856445 Learning Rate: 0.01 Batch Size: 128\n",
      "Epoch: 10 Test Loss: 1.786457281221043 Accuracy: 0.4687026515151515 Time: 6.97381854057312 Learning Rate: 0.01 Batch Size: 128\n"
     ]
    }
   ],
   "source": [
    "model, criterion, optimizer = initModel(True, device, \"\", learningRate,MyNet4)\n",
    "trainLosses, testLosses, trainAccuracies, testAccuracies = epochLoop(epochNumber, model, train_dataloader, test_dataloader, criterion, device, optimizer, 128, 0.01)"
   ]
  },
  {
   "cell_type": "code",
   "execution_count": 18,
   "metadata": {},
   "outputs": [],
   "source": [
    "#This class uses tanh as activation function.\n",
    "class MyNet5(nn.Module):\n",
    "    def __init__(self):\n",
    "        super(MyNet5, self).__init__()\n",
    "\n",
    "        self.model = nn.Sequential(\n",
    "            nn.Conv2d(3, 16, kernel_size=3, padding=1),\n",
    "            nn.Tanh(),\n",
    "            nn.MaxPool2d(2, 2)).to(device)\n",
    "\n",
    "        self.classifier = nn.Sequential(\n",
    "            nn.Flatten(),\n",
    "            nn.Linear(16384, 7),\n",
    "            \n",
    "        ).to(device)\n",
    "       \n",
    "    def forward(self, value):\n",
    "        value = self.model(value)\n",
    "        value = self.classifier(value)\n",
    "        return value\n"
   ]
  },
  {
   "cell_type": "code",
   "execution_count": 19,
   "metadata": {},
   "outputs": [
    {
     "name": "stdout",
     "output_type": "stream",
     "text": [
      "Epoch: 1 Test Loss: 1.3905332305214622 Accuracy: 0.4964015151515151 Time: 8.28998851776123 Learning Rate: 0.01 Batch Size: 128\n",
      "Epoch: 2 Test Loss: 1.3962807330218228 Accuracy: 0.5314867424242424 Time: 8.40925908088684 Learning Rate: 0.01 Batch Size: 128\n",
      "Epoch: 3 Test Loss: 1.2816308357498862 Accuracy: 0.5422348484848485 Time: 8.17359185218811 Learning Rate: 0.01 Batch Size: 128\n",
      "Epoch: 4 Test Loss: 1.210306384346702 Accuracy: 0.5906250000000001 Time: 8.413010358810425 Learning Rate: 0.01 Batch Size: 128\n",
      "Epoch: 5 Test Loss: 1.2917271744121204 Accuracy: 0.5522253787878788 Time: 8.134125471115112 Learning Rate: 0.01 Batch Size: 128\n",
      "Epoch: 6 Test Loss: 1.2282974882559343 Accuracy: 0.5819602272727272 Time: 7.826078414916992 Learning Rate: 0.01 Batch Size: 128\n",
      "Epoch: 7 Test Loss: 1.227710648016496 Accuracy: 0.5743371212121212 Time: 7.987324953079224 Learning Rate: 0.01 Batch Size: 128\n",
      "Epoch: 8 Test Loss: 1.2724824222651394 Accuracy: 0.5670928030303031 Time: 7.713644027709961 Learning Rate: 0.01 Batch Size: 128\n",
      "Epoch: 9 Test Loss: 1.1238831010731785 Accuracy: 0.6117424242424243 Time: 7.188103199005127 Learning Rate: 0.01 Batch Size: 128\n",
      "Epoch: 10 Test Loss: 1.2486038370565935 Accuracy: 0.5921875 Time: 7.454799175262451 Learning Rate: 0.01 Batch Size: 128\n"
     ]
    }
   ],
   "source": [
    "model, criterion, optimizer = initModel(True, device, \"\", learningRate,MyNet5)\n",
    "trainLosses, testLosses, trainAccuracies, testAccuracies = epochLoop(epochNumber, model, train_dataloader, test_dataloader, criterion, device, optimizer, 128, 0.01)"
   ]
  },
  {
   "cell_type": "markdown",
   "metadata": {},
   "source": [
    "As you see, I tried Tanh, ReLU and Sigmoid functions. ReLU performed best."
   ]
  },
  {
   "cell_type": "markdown",
   "metadata": {},
   "source": [
    "### 2 Conv 2 FC Model"
   ]
  },
  {
   "cell_type": "code",
   "execution_count": 26,
   "metadata": {},
   "outputs": [],
   "source": [
    "class MyNet2(nn.Module):\n",
    "    def __init__(self):\n",
    "        super(MyNet2, self).__init__()\n",
    "\n",
    "        self.model = nn.Sequential(\n",
    "            nn.Conv2d(3, 16, kernel_size=3, padding=1),\n",
    "            nn.ReLU(),\n",
    "            nn.MaxPool2d(2, 2),\n",
    "\n",
    "            nn.Conv2d(16, 32, kernel_size=3, padding=1),\n",
    "            nn.ReLU(),\n",
    "            nn.MaxPool2d(2, 2)).to(device)\n",
    "        self.classifier = nn.Sequential(\n",
    "            nn.Flatten(),\n",
    "            nn.Linear(8192, 256),\n",
    "            nn.ReLU(),\n",
    "            nn.Flatten(),\n",
    "            nn.Linear(256, 7) ).to(device)\n",
    "       \n",
    "    def forward(self, value):\n",
    "        value = self.model(value)\n",
    "        value = self.classifier(value)\n",
    "        return value"
   ]
  },
  {
   "cell_type": "code",
   "execution_count": 27,
   "metadata": {},
   "outputs": [
    {
     "name": "stdout",
     "output_type": "stream",
     "text": [
      "Epoch: 1 Test Loss: 1.380451343276284 Accuracy: 0.5026041666666666 Time: 5.268660306930542 Learning Rate: 0.005 Batch Size: 16\n",
      "Epoch: 2 Test Loss: 1.237963784824718 Accuracy: 0.5425189393939394 Time: 6.880353927612305 Learning Rate: 0.005 Batch Size: 16\n",
      "Epoch: 3 Test Loss: 1.1117120005867698 Accuracy: 0.5945075757575757 Time: 7.252880334854126 Learning Rate: 0.005 Batch Size: 16\n",
      "Epoch: 4 Test Loss: 1.0688981413841248 Accuracy: 0.5970643939393939 Time: 7.2210962772369385 Learning Rate: 0.005 Batch Size: 16\n",
      "Epoch: 5 Test Loss: 1.0416012785651467 Accuracy: 0.6365530303030303 Time: 7.204683303833008 Learning Rate: 0.005 Batch Size: 16\n",
      "Epoch: 6 Test Loss: 0.9995967691594904 Accuracy: 0.6331439393939394 Time: 7.3185670375823975 Learning Rate: 0.005 Batch Size: 16\n",
      "Epoch: 7 Test Loss: 0.9628501534461975 Accuracy: 0.6697443181818182 Time: 7.158331871032715 Learning Rate: 0.005 Batch Size: 16\n",
      "Epoch: 8 Test Loss: 0.8916291215203025 Accuracy: 0.6812026515151515 Time: 7.220202445983887 Learning Rate: 0.005 Batch Size: 16\n",
      "Epoch: 9 Test Loss: 0.8525435463948683 Accuracy: 0.6918560606060606 Time: 6.065228462219238 Learning Rate: 0.005 Batch Size: 16\n",
      "Epoch: 10 Test Loss: 0.8396339335224845 Accuracy: 0.7089488636363637 Time: 7.2856152057647705 Learning Rate: 0.005 Batch Size: 16\n",
      "Epoch: 1 Test Loss: 1.2596288377588445 Accuracy: 0.5430871212121212 Time: 7.268661022186279 Learning Rate: 0.005 Batch Size: 32\n",
      "Epoch: 2 Test Loss: 1.1035451916131107 Accuracy: 0.5892518939393939 Time: 7.205401659011841 Learning Rate: 0.005 Batch Size: 32\n",
      "Epoch: 3 Test Loss: 1.04846914248033 Accuracy: 0.6373579545454545 Time: 7.1888415813446045 Learning Rate: 0.005 Batch Size: 32\n",
      "Epoch: 4 Test Loss: 1.0039231560447 Accuracy: 0.6385890151515151 Time: 7.173638343811035 Learning Rate: 0.005 Batch Size: 32\n",
      "Epoch: 5 Test Loss: 0.9950931857932698 Accuracy: 0.6400094696969697 Time: 7.173373222351074 Learning Rate: 0.005 Batch Size: 32\n",
      "Epoch: 6 Test Loss: 1.0103486017747358 Accuracy: 0.6346590909090909 Time: 7.3143205642700195 Learning Rate: 0.005 Batch Size: 32\n",
      "Epoch: 7 Test Loss: 0.9558623974973505 Accuracy: 0.6623579545454545 Time: 7.751657247543335 Learning Rate: 0.005 Batch Size: 32\n",
      "Epoch: 8 Test Loss: 0.9252103079449047 Accuracy: 0.6686553030303031 Time: 7.331415176391602 Learning Rate: 0.005 Batch Size: 32\n",
      "Epoch: 9 Test Loss: 0.9067599692127921 Accuracy: 0.6846590909090909 Time: 7.242085695266724 Learning Rate: 0.005 Batch Size: 32\n",
      "Epoch: 10 Test Loss: 0.9120214229280298 Accuracy: 0.6840435606060606 Time: 5.299468755722046 Learning Rate: 0.005 Batch Size: 32\n",
      "Epoch: 1 Test Loss: 1.6293678825551814 Accuracy: 0.31425189393939396 Time: 7.21701979637146 Learning Rate: 0.005 Batch Size: 64\n",
      "Epoch: 2 Test Loss: 1.521866581656716 Accuracy: 0.35108901515151514 Time: 7.269768238067627 Learning Rate: 0.005 Batch Size: 64\n",
      "Epoch: 3 Test Loss: 1.483513268557462 Accuracy: 0.4025094696969697 Time: 7.330075025558472 Learning Rate: 0.005 Batch Size: 64\n",
      "Epoch: 4 Test Loss: 1.3852431774139404 Accuracy: 0.44739583333333327 Time: 7.205865859985352 Learning Rate: 0.005 Batch Size: 64\n",
      "Epoch: 5 Test Loss: 1.3182235089215366 Accuracy: 0.47528409090909096 Time: 7.296425819396973 Learning Rate: 0.005 Batch Size: 64\n",
      "Epoch: 6 Test Loss: 1.2966857769272544 Accuracy: 0.5032670454545455 Time: 7.205901384353638 Learning Rate: 0.005 Batch Size: 64\n",
      "Epoch: 7 Test Loss: 1.3699299693107605 Accuracy: 0.4637784090909091 Time: 7.235392093658447 Learning Rate: 0.005 Batch Size: 64\n",
      "Epoch: 8 Test Loss: 1.2389191063967617 Accuracy: 0.5212121212121212 Time: 7.221040725708008 Learning Rate: 0.005 Batch Size: 64\n",
      "Epoch: 9 Test Loss: 1.2319103425199336 Accuracy: 0.5339015151515152 Time: 7.346359968185425 Learning Rate: 0.005 Batch Size: 64\n",
      "Epoch: 10 Test Loss: 1.210767843506553 Accuracy: 0.5582386363636364 Time: 7.194742202758789 Learning Rate: 0.005 Batch Size: 64\n",
      "Epoch: 1 Test Loss: 1.661380339752544 Accuracy: 0.3176609848484848 Time: 7.158419132232666 Learning Rate: 0.005 Batch Size: 128\n",
      "Epoch: 2 Test Loss: 1.5238435864448547 Accuracy: 0.4244318181818182 Time: 6.6736345291137695 Learning Rate: 0.005 Batch Size: 128\n",
      "Epoch: 3 Test Loss: 1.5156966718760403 Accuracy: 0.3978219696969697 Time: 7.1278977394104 Learning Rate: 0.005 Batch Size: 128\n",
      "Epoch: 4 Test Loss: 1.3940840526060625 Accuracy: 0.46770833333333334 Time: 7.1270952224731445 Learning Rate: 0.005 Batch Size: 128\n",
      "Epoch: 5 Test Loss: 1.3440724557096309 Accuracy: 0.4974431818181818 Time: 7.346037149429321 Learning Rate: 0.005 Batch Size: 128\n",
      "Epoch: 6 Test Loss: 1.3339691920713945 Accuracy: 0.5038352272727272 Time: 7.269672870635986 Learning Rate: 0.005 Batch Size: 128\n",
      "Epoch: 7 Test Loss: 1.308730336752805 Accuracy: 0.49815340909090905 Time: 7.250974655151367 Learning Rate: 0.005 Batch Size: 128\n",
      "Epoch: 8 Test Loss: 1.2602932886643843 Accuracy: 0.5359848484848485 Time: 7.220930099487305 Learning Rate: 0.005 Batch Size: 128\n",
      "Epoch: 9 Test Loss: 1.2528406327421016 Accuracy: 0.5321022727272727 Time: 7.1907477378845215 Learning Rate: 0.005 Batch Size: 128\n",
      "Epoch: 10 Test Loss: 1.251611747524955 Accuracy: 0.5288352272727272 Time: 7.222394704818726 Learning Rate: 0.005 Batch Size: 128\n",
      "Epoch: 1 Test Loss: 1.3269495368003845 Accuracy: 0.49270833333333336 Time: 7.235444068908691 Learning Rate: 0.01 Batch Size: 16\n",
      "Epoch: 2 Test Loss: 1.0984451554038308 Accuracy: 0.6034090909090909 Time: 7.26149582862854 Learning Rate: 0.01 Batch Size: 16\n",
      "Epoch: 3 Test Loss: 1.0619244006547062 Accuracy: 0.6137784090909091 Time: 7.282438516616821 Learning Rate: 0.01 Batch Size: 16\n",
      "Epoch: 4 Test Loss: 1.0132720334963365 Accuracy: 0.6206439393939394 Time: 7.281643390655518 Learning Rate: 0.01 Batch Size: 16\n",
      "Epoch: 5 Test Loss: 1.0152981172908435 Accuracy: 0.6265151515151515 Time: 7.25385308265686 Learning Rate: 0.01 Batch Size: 16\n",
      "Epoch: 6 Test Loss: 0.9689405885609713 Accuracy: 0.6600852272727272 Time: 7.158942699432373 Learning Rate: 0.01 Batch Size: 16\n",
      "Epoch: 7 Test Loss: 0.9171825240958821 Accuracy: 0.6667613636363636 Time: 7.205999374389648 Learning Rate: 0.01 Batch Size: 16\n",
      "Epoch: 8 Test Loss: 0.8714892322366888 Accuracy: 0.7048295454545455 Time: 7.252195119857788 Learning Rate: 0.01 Batch Size: 16\n",
      "Epoch: 9 Test Loss: 0.8553592237559232 Accuracy: 0.6987215909090909 Time: 7.236299753189087 Learning Rate: 0.01 Batch Size: 16\n",
      "Epoch: 10 Test Loss: 0.8353678448633715 Accuracy: 0.7006155303030304 Time: 7.23550271987915 Learning Rate: 0.01 Batch Size: 16\n",
      "Epoch: 1 Test Loss: 1.9460440657355569 Accuracy: 0.14204545454545456 Time: 5.939777612686157 Learning Rate: 0.01 Batch Size: 32\n",
      "Epoch: 2 Test Loss: 1.945855270732533 Accuracy: 0.14772727272727273 Time: 7.236278295516968 Learning Rate: 0.01 Batch Size: 32\n",
      "Epoch: 3 Test Loss: 1.9459990913217717 Accuracy: 0.14204545454545456 Time: 7.173682689666748 Learning Rate: 0.01 Batch Size: 32\n",
      "Epoch: 4 Test Loss: 1.9459441358392888 Accuracy: 0.14204545454545456 Time: 7.3618974685668945 Learning Rate: 0.01 Batch Size: 32\n",
      "Epoch: 5 Test Loss: 1.9460894844748757 Accuracy: 0.14204545454545456 Time: 7.282398223876953 Learning Rate: 0.01 Batch Size: 32\n",
      "Epoch: 6 Test Loss: 1.9459597305818037 Accuracy: 0.14204545454545456 Time: 7.173661947250366 Learning Rate: 0.01 Batch Size: 32\n",
      "Epoch: 7 Test Loss: 1.9459386197003452 Accuracy: 0.14204545454545456 Time: 7.166185617446899 Learning Rate: 0.01 Batch Size: 32\n",
      "Epoch: 8 Test Loss: 1.9459517760710283 Accuracy: 0.14204545454545456 Time: 7.221397399902344 Learning Rate: 0.01 Batch Size: 32\n",
      "Epoch: 9 Test Loss: 1.945957292209972 Accuracy: 0.14204545454545456 Time: 7.326871871948242 Learning Rate: 0.01 Batch Size: 32\n",
      "Epoch: 10 Test Loss: 1.9459957426244563 Accuracy: 0.14204545454545456 Time: 7.282252788543701 Learning Rate: 0.01 Batch Size: 32\n",
      "Epoch: 1 Test Loss: 1.4277378645810215 Accuracy: 0.4363162878787879 Time: 7.220414876937866 Learning Rate: 0.01 Batch Size: 64\n",
      "Epoch: 2 Test Loss: 1.2752702940594067 Accuracy: 0.5166666666666667 Time: 5.891834735870361 Learning Rate: 0.01 Batch Size: 64\n",
      "Epoch: 3 Test Loss: 1.2358864843845367 Accuracy: 0.5232007575757576 Time: 7.27655029296875 Learning Rate: 0.01 Batch Size: 64\n",
      "Epoch: 4 Test Loss: 1.133861948143352 Accuracy: 0.5638257575757576 Time: 7.2797956466674805 Learning Rate: 0.01 Batch Size: 64\n",
      "Epoch: 5 Test Loss: 1.170711487531662 Accuracy: 0.5723484848484849 Time: 7.190798044204712 Learning Rate: 0.01 Batch Size: 64\n"
     ]
    },
    {
     "name": "stdout",
     "output_type": "stream",
     "text": [
      "Epoch: 6 Test Loss: 0.9956602670929648 Accuracy: 0.6319128787878788 Time: 7.205986976623535 Learning Rate: 0.01 Batch Size: 64\n",
      "Epoch: 7 Test Loss: 0.9425581720742312 Accuracy: 0.6619791666666667 Time: 7.268582344055176 Learning Rate: 0.01 Batch Size: 64\n",
      "Epoch: 8 Test Loss: 0.9066570590842854 Accuracy: 0.6793087121212121 Time: 7.3614537715911865 Learning Rate: 0.01 Batch Size: 64\n",
      "Epoch: 9 Test Loss: 0.8813381547277624 Accuracy: 0.6928977272727272 Time: 7.221592426300049 Learning Rate: 0.01 Batch Size: 64\n",
      "Epoch: 10 Test Loss: 0.9137928187847137 Accuracy: 0.6639204545454546 Time: 7.190922737121582 Learning Rate: 0.01 Batch Size: 64\n",
      "Epoch: 1 Test Loss: 1.6597894755276767 Accuracy: 0.3553977272727273 Time: 5.876361131668091 Learning Rate: 0.01 Batch Size: 128\n",
      "Epoch: 2 Test Loss: 1.5101553906093945 Accuracy: 0.4164772727272727 Time: 7.142230987548828 Learning Rate: 0.01 Batch Size: 128\n",
      "Epoch: 3 Test Loss: 1.4386307326230137 Accuracy: 0.4524147727272727 Time: 7.26754093170166 Learning Rate: 0.01 Batch Size: 128\n",
      "Epoch: 4 Test Loss: 1.3639537692070007 Accuracy: 0.49180871212121213 Time: 7.158584356307983 Learning Rate: 0.01 Batch Size: 128\n",
      "Epoch: 5 Test Loss: 1.3573504469611428 Accuracy: 0.5121685606060606 Time: 7.329439640045166 Learning Rate: 0.01 Batch Size: 128\n",
      "Epoch: 6 Test Loss: 1.320689158006148 Accuracy: 0.5026515151515152 Time: 7.2767791748046875 Learning Rate: 0.01 Batch Size: 128\n",
      "Epoch: 7 Test Loss: 1.3515978022055193 Accuracy: 0.5022253787878788 Time: 7.346547365188599 Learning Rate: 0.01 Batch Size: 128\n",
      "Epoch: 8 Test Loss: 1.290189575065266 Accuracy: 0.5177083333333333 Time: 7.267871856689453 Learning Rate: 0.01 Batch Size: 128\n",
      "Epoch: 9 Test Loss: 1.2434312917969443 Accuracy: 0.5413352272727273 Time: 7.237282037734985 Learning Rate: 0.01 Batch Size: 128\n",
      "Epoch: 10 Test Loss: 1.2737352035262368 Accuracy: 0.5378314393939394 Time: 7.2216877937316895 Learning Rate: 0.01 Batch Size: 128\n",
      "Epoch: 1 Test Loss: 1.4963424639268355 Accuracy: 0.39474431818181815 Time: 7.2058093547821045 Learning Rate: 0.015 Batch Size: 16\n",
      "Epoch: 2 Test Loss: 1.2343362623995 Accuracy: 0.5319602272727273 Time: 7.373368501663208 Learning Rate: 0.015 Batch Size: 16\n",
      "Epoch: 3 Test Loss: 1.202509037472985 Accuracy: 0.5525568181818182 Time: 7.2875587940216064 Learning Rate: 0.015 Batch Size: 16\n",
      "Epoch: 4 Test Loss: 1.168905794620514 Accuracy: 0.5526988636363637 Time: 7.191328048706055 Learning Rate: 0.015 Batch Size: 16\n",
      "Epoch: 5 Test Loss: 1.1605392477729104 Accuracy: 0.555965909090909 Time: 7.235719442367554 Learning Rate: 0.015 Batch Size: 16\n",
      "Epoch: 6 Test Loss: 1.0967525921084664 Accuracy: 0.5735795454545455 Time: 7.189337730407715 Learning Rate: 0.015 Batch Size: 16\n",
      "Epoch: 7 Test Loss: 1.0684384351426905 Accuracy: 0.5974431818181819 Time: 5.26683235168457 Learning Rate: 0.015 Batch Size: 16\n",
      "Epoch: 8 Test Loss: 1.0943740118633618 Accuracy: 0.576846590909091 Time: 7.313750982284546 Learning Rate: 0.015 Batch Size: 16\n",
      "Epoch: 9 Test Loss: 1.0333365472880276 Accuracy: 0.6075284090909091 Time: 7.252895355224609 Learning Rate: 0.015 Batch Size: 16\n",
      "Epoch: 10 Test Loss: 1.0639418363571167 Accuracy: 0.5992897727272727 Time: 7.267094373703003 Learning Rate: 0.015 Batch Size: 16\n",
      "Epoch: 1 Test Loss: 1.2083439068360762 Accuracy: 0.5618844696969697 Time: 7.252023935317993 Learning Rate: 0.015 Batch Size: 32\n",
      "Epoch: 2 Test Loss: 1.0484338023445823 Accuracy: 0.6254734848484849 Time: 7.315917491912842 Learning Rate: 0.015 Batch Size: 32\n",
      "Epoch: 3 Test Loss: 0.95572368665175 Accuracy: 0.6740530303030302 Time: 7.412058591842651 Learning Rate: 0.015 Batch Size: 32\n",
      "Epoch: 4 Test Loss: 0.9532949220050465 Accuracy: 0.6757575757575758 Time: 7.190227031707764 Learning Rate: 0.015 Batch Size: 32\n",
      "Epoch: 5 Test Loss: 0.886043060909618 Accuracy: 0.7017045454545454 Time: 7.171613931655884 Learning Rate: 0.015 Batch Size: 32\n",
      "Epoch: 6 Test Loss: 0.8703978928652677 Accuracy: 0.7106534090909091 Time: 7.079357862472534 Learning Rate: 0.015 Batch Size: 32\n",
      "Epoch: 7 Test Loss: 0.8313156230883165 Accuracy: 0.7148674242424242 Time: 7.268269300460815 Learning Rate: 0.015 Batch Size: 32\n",
      "Epoch: 8 Test Loss: 0.8231718486005609 Accuracy: 0.7241003787878788 Time: 7.314059257507324 Learning Rate: 0.015 Batch Size: 32\n",
      "Epoch: 9 Test Loss: 0.7763086719946428 Accuracy: 0.7326704545454544 Time: 7.097655296325684 Learning Rate: 0.015 Batch Size: 32\n",
      "Epoch: 10 Test Loss: 0.9063133326443759 Accuracy: 0.7160511363636364 Time: 7.252947807312012 Learning Rate: 0.015 Batch Size: 32\n",
      "Epoch: 1 Test Loss: 1.1656298203901811 Accuracy: 0.579308712121212 Time: 7.128716468811035 Learning Rate: 0.015 Batch Size: 64\n",
      "Epoch: 2 Test Loss: 1.0285880457271228 Accuracy: 0.6296401515151515 Time: 7.219895124435425 Learning Rate: 0.015 Batch Size: 64\n",
      "Epoch: 3 Test Loss: 0.9946718649430708 Accuracy: 0.6509469696969696 Time: 7.345031499862671 Learning Rate: 0.015 Batch Size: 64\n",
      "Epoch: 4 Test Loss: 0.983348781412298 Accuracy: 0.656155303030303 Time: 7.250880241394043 Learning Rate: 0.015 Batch Size: 64\n",
      "Epoch: 5 Test Loss: 0.9185978282581676 Accuracy: 0.6761363636363636 Time: 7.204046726226807 Learning Rate: 0.015 Batch Size: 64\n",
      "Epoch: 6 Test Loss: 0.890281081199646 Accuracy: 0.6999526515151515 Time: 7.2992284297943115 Learning Rate: 0.015 Batch Size: 64\n",
      "Epoch: 7 Test Loss: 0.9086970524354414 Accuracy: 0.6919034090909091 Time: 7.345685243606567 Learning Rate: 0.015 Batch Size: 64\n",
      "Epoch: 8 Test Loss: 0.8587118685245514 Accuracy: 0.6942708333333333 Time: 7.314982652664185 Learning Rate: 0.015 Batch Size: 64\n",
      "Epoch: 9 Test Loss: 0.8289765200831674 Accuracy: 0.7189867424242424 Time: 7.235501766204834 Learning Rate: 0.015 Batch Size: 64\n",
      "Epoch: 10 Test Loss: 0.8667386228388007 Accuracy: 0.7102272727272727 Time: 7.195385694503784 Learning Rate: 0.015 Batch Size: 64\n",
      "Epoch: 1 Test Loss: 1.2978541688485579 Accuracy: 0.5154356060606061 Time: 7.191989183425903 Learning Rate: 0.015 Batch Size: 128\n",
      "Epoch: 2 Test Loss: 1.142354130744934 Accuracy: 0.5882102272727273 Time: 7.1416778564453125 Learning Rate: 0.015 Batch Size: 128\n",
      "Epoch: 3 Test Loss: 1.078775774348866 Accuracy: 0.6179450757575757 Time: 7.282694578170776 Learning Rate: 0.015 Batch Size: 128\n",
      "Epoch: 4 Test Loss: 1.0288475914434954 Accuracy: 0.6149621212121212 Time: 7.244791269302368 Learning Rate: 0.015 Batch Size: 128\n",
      "Epoch: 5 Test Loss: 1.0150923295454546 Accuracy: 0.6356534090909091 Time: 7.211176872253418 Learning Rate: 0.015 Batch Size: 128\n",
      "Epoch: 6 Test Loss: 0.9741124023090709 Accuracy: 0.6482481060606061 Time: 7.236730575561523 Learning Rate: 0.015 Batch Size: 128\n",
      "Epoch: 7 Test Loss: 0.9173044562339783 Accuracy: 0.6732007575757576 Time: 7.437372446060181 Learning Rate: 0.015 Batch Size: 128\n",
      "Epoch: 8 Test Loss: 0.9189290079203519 Accuracy: 0.6786931818181818 Time: 7.348017930984497 Learning Rate: 0.015 Batch Size: 128\n",
      "Epoch: 9 Test Loss: 0.9457944631576538 Accuracy: 0.6606534090909091 Time: 7.253744602203369 Learning Rate: 0.015 Batch Size: 128\n",
      "Epoch: 10 Test Loss: 0.9069291840900074 Accuracy: 0.6805397727272727 Time: 5.314368724822998 Learning Rate: 0.015 Batch Size: 128\n",
      "Epoch: 1 Test Loss: 1.9459838542071255 Accuracy: 0.14204545454545456 Time: 7.228570461273193 Learning Rate: 0.02 Batch Size: 16\n",
      "Epoch: 2 Test Loss: 1.9459078745408491 Accuracy: 0.14772727272727273 Time: 7.394123792648315 Learning Rate: 0.02 Batch Size: 16\n",
      "Epoch: 3 Test Loss: 1.9459786198355935 Accuracy: 0.14204545454545456 Time: 7.297974586486816 Learning Rate: 0.02 Batch Size: 16\n",
      "Epoch: 4 Test Loss: 1.9459945071827283 Accuracy: 0.14204545454545456 Time: 7.203808069229126 Learning Rate: 0.02 Batch Size: 16\n",
      "Epoch: 5 Test Loss: 1.9459956776012073 Accuracy: 0.14204545454545456 Time: 7.349611282348633 Learning Rate: 0.02 Batch Size: 16\n",
      "Epoch: 6 Test Loss: 1.9460148811340332 Accuracy: 0.14204545454545456 Time: 7.267161130905151 Learning Rate: 0.02 Batch Size: 16\n",
      "Epoch: 7 Test Loss: 1.9460439682006836 Accuracy: 0.14204545454545456 Time: 7.2208733558654785 Learning Rate: 0.02 Batch Size: 16\n",
      "Epoch: 8 Test Loss: 1.9459410255605525 Accuracy: 0.14204545454545456 Time: 7.222312688827515 Learning Rate: 0.02 Batch Size: 16\n",
      "Epoch: 9 Test Loss: 1.945851900360801 Accuracy: 0.14772727272727273 Time: 7.21648907661438 Learning Rate: 0.02 Batch Size: 16\n",
      "Epoch: 10 Test Loss: 1.946088509126143 Accuracy: 0.14204545454545456 Time: 5.923945426940918 Learning Rate: 0.02 Batch Size: 16\n"
     ]
    },
    {
     "name": "stdout",
     "output_type": "stream",
     "text": [
      "Epoch: 1 Test Loss: 1.481849112293937 Accuracy: 0.4491950757575758 Time: 7.33728551864624 Learning Rate: 0.02 Batch Size: 32\n",
      "Epoch: 2 Test Loss: 1.0830791375853799 Accuracy: 0.6034090909090909 Time: 7.176559925079346 Learning Rate: 0.02 Batch Size: 32\n",
      "Epoch: 3 Test Loss: 0.9895040013573386 Accuracy: 0.649715909090909 Time: 7.253773927688599 Learning Rate: 0.02 Batch Size: 32\n",
      "Epoch: 4 Test Loss: 1.001404724337838 Accuracy: 0.6510890151515152 Time: 7.3857903480529785 Learning Rate: 0.02 Batch Size: 32\n",
      "Epoch: 5 Test Loss: 0.95695115219463 Accuracy: 0.6595170454545455 Time: 7.158321857452393 Learning Rate: 0.02 Batch Size: 32\n",
      "Epoch: 6 Test Loss: 1.0158710859038613 Accuracy: 0.670123106060606 Time: 7.204685926437378 Learning Rate: 0.02 Batch Size: 32\n",
      "Epoch: 7 Test Loss: 0.8956923864104531 Accuracy: 0.686316287878788 Time: 7.298948526382446 Learning Rate: 0.02 Batch Size: 32\n",
      "Epoch: 8 Test Loss: 0.9056795320727609 Accuracy: 0.6900094696969696 Time: 7.221760511398315 Learning Rate: 0.02 Batch Size: 32\n",
      "Epoch: 9 Test Loss: 0.9147488068450581 Accuracy: 0.6878314393939394 Time: 7.251462936401367 Learning Rate: 0.02 Batch Size: 32\n",
      "Epoch: 10 Test Loss: 0.8900880515575409 Accuracy: 0.6849905303030304 Time: 7.235757350921631 Learning Rate: 0.02 Batch Size: 32\n",
      "Epoch: 1 Test Loss: 1.7593227245590903 Accuracy: 0.26851325757575756 Time: 5.98539400100708 Learning Rate: 0.02 Batch Size: 64\n",
      "Epoch: 2 Test Loss: 1.6081020073457197 Accuracy: 0.3178977272727273 Time: 7.188077211380005 Learning Rate: 0.02 Batch Size: 64\n",
      "Epoch: 3 Test Loss: 1.4785610166462986 Accuracy: 0.4287878787878788 Time: 7.282900333404541 Learning Rate: 0.02 Batch Size: 64\n",
      "Epoch: 4 Test Loss: 1.2722114812244067 Accuracy: 0.5135416666666667 Time: 7.105208873748779 Learning Rate: 0.02 Batch Size: 64\n",
      "Epoch: 5 Test Loss: 1.1121243021704934 Accuracy: 0.6035037878787879 Time: 7.329636335372925 Learning Rate: 0.02 Batch Size: 64\n",
      "Epoch: 6 Test Loss: 1.0176565511660143 Accuracy: 0.6275568181818182 Time: 7.222460746765137 Learning Rate: 0.02 Batch Size: 64\n",
      "Epoch: 7 Test Loss: 1.0275061076337642 Accuracy: 0.6179450757575758 Time: 6.095433712005615 Learning Rate: 0.02 Batch Size: 64\n",
      "Epoch: 8 Test Loss: 1.0314206264235757 Accuracy: 0.6196496212121212 Time: 7.31276273727417 Learning Rate: 0.02 Batch Size: 64\n",
      "Epoch: 9 Test Loss: 0.9332251711325212 Accuracy: 0.6698863636363637 Time: 7.249155282974243 Learning Rate: 0.02 Batch Size: 64\n",
      "Epoch: 10 Test Loss: 0.9189444915814833 Accuracy: 0.6834280303030303 Time: 7.17314076423645 Learning Rate: 0.02 Batch Size: 64\n",
      "Epoch: 1 Test Loss: 1.9459983869032427 Accuracy: 0.14204545454545456 Time: 7.237715482711792 Learning Rate: 0.02 Batch Size: 128\n",
      "Epoch: 2 Test Loss: 1.9459555365822532 Accuracy: 0.14204545454545456 Time: 7.194971084594727 Learning Rate: 0.02 Batch Size: 128\n",
      "Epoch: 3 Test Loss: 1.9459729194641113 Accuracy: 0.14204545454545456 Time: 7.267897367477417 Learning Rate: 0.02 Batch Size: 128\n",
      "Epoch: 4 Test Loss: 1.945901014588096 Accuracy: 0.14204545454545456 Time: 7.1417810916900635 Learning Rate: 0.02 Batch Size: 128\n",
      "Epoch: 5 Test Loss: 1.9459069642153652 Accuracy: 0.14204545454545456 Time: 7.220175266265869 Learning Rate: 0.02 Batch Size: 128\n",
      "Epoch: 6 Test Loss: 1.9458792968229814 Accuracy: 0.14772727272727273 Time: 7.157415390014648 Learning Rate: 0.02 Batch Size: 128\n",
      "Epoch: 7 Test Loss: 1.9459184733304111 Accuracy: 0.14204545454545456 Time: 7.251513719558716 Learning Rate: 0.02 Batch Size: 128\n",
      "Epoch: 8 Test Loss: 1.9458986629139294 Accuracy: 0.14204545454545456 Time: 7.128251314163208 Learning Rate: 0.02 Batch Size: 128\n",
      "Epoch: 9 Test Loss: 1.9459029869599775 Accuracy: 0.14204545454545456 Time: 7.18852972984314 Learning Rate: 0.02 Batch Size: 128\n",
      "Epoch: 10 Test Loss: 1.945993791926991 Accuracy: 0.14204545454545456 Time: 7.2211754322052 Learning Rate: 0.02 Batch Size: 128\n"
     ]
    }
   ],
   "source": [
    "for i in range(4):\n",
    "    for j in range(4,8):\n",
    "        model, criterion, optimizer = initModel(True, device, \"\", learningRate,MyNet2)\n",
    "    \n",
    "        # main training loop for model\n",
    "        trainLosses, testLosses, trainAccuracies, testAccuracies = epochLoop(epochNumber, model, train_dataloader, test_dataloader, criterion, device, optimizer, batchSize**j, (learningRate+(learningRate*i)))"
   ]
  },
  {
   "attachments": {
    "64-2-Conv-2-Fc-Tablo-8.png": {
     "image/png": "[encoded data removed]"
    }
   },
   "cell_type": "markdown",
   "metadata": {},
   "source": [
    "![64-2-Conv-2-Fc-Tablo-8.png](attachment:64-2-Conv-2-Fc-Tablo-8.png)"
   ]
  },
  {
   "cell_type": "markdown",
   "metadata": {},
   "source": [
    "##### I choosed lr=0.015, batch size=32. It gives 0.716 accuracy in 2 CONV 2 FC model."
   ]
  },
  {
   "cell_type": "markdown",
   "metadata": {},
   "source": [
    "### 5 Conv  2 FC models with dropout"
   ]
  },
  {
   "cell_type": "code",
   "execution_count": 28,
   "metadata": {},
   "outputs": [],
   "source": [
    "class MyNet3(nn.Module):\n",
    "    def __init__(self):\n",
    "        super(MyNet3, self).__init__()\n",
    "    \n",
    "        self.model = nn.Sequential(\n",
    "            nn.Conv2d(3, 16, kernel_size=3, padding=1),\n",
    "            nn.ReLU(),\n",
    "            nn.MaxPool2d(2, 2),\n",
    "\n",
    "            nn.Conv2d(16, 32, kernel_size=3, padding=1),\n",
    "            nn.ReLU(),\n",
    "            nn.MaxPool2d(2, 2),\n",
    "\n",
    "            nn.Conv2d(32, 64, kernel_size=3, padding=1),\n",
    "            nn.ReLU(),\n",
    "            nn.MaxPool2d(2, 2),\n",
    "\n",
    "            nn.Conv2d(64, 128, kernel_size=3, padding=1),\n",
    "            nn.ReLU(),\n",
    "            nn.MaxPool2d(2, 2),\n",
    "\n",
    "            nn.Conv2d(128, 256, kernel_size=3, padding=1),\n",
    "            nn.ReLU(),\n",
    "            nn.MaxPool2d(2, 2),\n",
    "        ).to(device)\n",
    "\n",
    "        # nn.Dropout(0.25),\n",
    "        # nn.Dropout(0.5),\n",
    "        self.classifier = nn.Sequential(\n",
    "            nn.Flatten(),\n",
    "            nn.Linear(1024, 256),\n",
    "            nn.ReLU(),\n",
    "            nn.Linear(256, 7)\n",
    "        ).to(device)\n",
    "\n",
    "    def forward(self, value):\n",
    "        value = self.model(value)\n",
    "        value = self.classifier(value)\n",
    "        return value"
   ]
  },
  {
   "cell_type": "code",
   "execution_count": 29,
   "metadata": {},
   "outputs": [
    {
     "name": "stdout",
     "output_type": "stream",
     "text": [
      "Epoch: 1 Test Loss: 1.4805740822445264 Accuracy: 0.35298295454545453 Time: 7.265925407409668 Learning Rate: 0.005 Batch Size: 16\n",
      "Epoch: 2 Test Loss: 1.1909759640693665 Accuracy: 0.5475378787878787 Time: 7.407564878463745 Learning Rate: 0.005 Batch Size: 16\n",
      "Epoch: 3 Test Loss: 0.9931312284686349 Accuracy: 0.6461647727272727 Time: 7.277137994766235 Learning Rate: 0.005 Batch Size: 16\n",
      "Epoch: 4 Test Loss: 0.9071547063914213 Accuracy: 0.673153409090909 Time: 7.297315835952759 Learning Rate: 0.005 Batch Size: 16\n",
      "Epoch: 5 Test Loss: 0.8981877782128074 Accuracy: 0.671780303030303 Time: 7.478131055831909 Learning Rate: 0.005 Batch Size: 16\n",
      "Epoch: 6 Test Loss: 0.8660214164040305 Accuracy: 0.7127840909090909 Time: 7.283008098602295 Learning Rate: 0.005 Batch Size: 16\n",
      "Epoch: 7 Test Loss: 0.8379092487421903 Accuracy: 0.6996212121212121 Time: 7.407532691955566 Learning Rate: 0.005 Batch Size: 16\n",
      "Epoch: 8 Test Loss: 0.8113914836536754 Accuracy: 0.7189867424242424 Time: 7.4396233558654785 Learning Rate: 0.005 Batch Size: 16\n",
      "Epoch: 9 Test Loss: 0.7463217594406821 Accuracy: 0.7323863636363637 Time: 7.438045501708984 Learning Rate: 0.005 Batch Size: 16\n",
      "Epoch: 10 Test Loss: 0.7471977228468115 Accuracy: 0.742092803030303 Time: 7.360958814620972 Learning Rate: 0.005 Batch Size: 16\n",
      "Epoch: 1 Test Loss: 1.4184514067389749 Accuracy: 0.4583806818181818 Time: 7.331017732620239 Learning Rate: 0.005 Batch Size: 32\n",
      "Epoch: 2 Test Loss: 1.109659736806696 Accuracy: 0.6056818181818181 Time: 7.314469814300537 Learning Rate: 0.005 Batch Size: 32\n",
      "Epoch: 3 Test Loss: 1.003453953699632 Accuracy: 0.646875 Time: 7.488295793533325 Learning Rate: 0.005 Batch Size: 32\n",
      "Epoch: 4 Test Loss: 1.054942873391238 Accuracy: 0.6274621212121212 Time: 7.360516786575317 Learning Rate: 0.005 Batch Size: 32\n",
      "Epoch: 5 Test Loss: 0.949116051197052 Accuracy: 0.6556818181818183 Time: 7.345602750778198 Learning Rate: 0.005 Batch Size: 32\n",
      "Epoch: 6 Test Loss: 0.91335913809863 Accuracy: 0.6612689393939394 Time: 7.330474615097046 Learning Rate: 0.005 Batch Size: 32\n",
      "Epoch: 7 Test Loss: 0.9457513419064608 Accuracy: 0.6665246212121212 Time: 7.417118072509766 Learning Rate: 0.005 Batch Size: 32\n",
      "Epoch: 8 Test Loss: 0.8340572010387074 Accuracy: 0.7162405303030304 Time: 7.472459316253662 Learning Rate: 0.005 Batch Size: 32\n",
      "Epoch: 9 Test Loss: 0.8427274443886497 Accuracy: 0.7222537878787879 Time: 7.335009336471558 Learning Rate: 0.005 Batch Size: 32\n",
      "Epoch: 10 Test Loss: 0.8124821348623796 Accuracy: 0.7062499999999999 Time: 7.440510511398315 Learning Rate: 0.005 Batch Size: 32\n",
      "Epoch: 1 Test Loss: 1.4038141044703396 Accuracy: 0.43191287878787876 Time: 7.348043203353882 Learning Rate: 0.005 Batch Size: 64\n",
      "Epoch: 2 Test Loss: 1.0756374434991316 Accuracy: 0.5911931818181818 Time: 7.547640323638916 Learning Rate: 0.005 Batch Size: 64\n",
      "Epoch: 3 Test Loss: 1.0257540453564038 Accuracy: 0.6446022727272728 Time: 7.470108509063721 Learning Rate: 0.005 Batch Size: 64\n",
      "Epoch: 4 Test Loss: 0.9202407923611727 Accuracy: 0.6696496212121212 Time: 7.36011004447937 Learning Rate: 0.005 Batch Size: 64\n",
      "Epoch: 5 Test Loss: 0.8770134801214392 Accuracy: 0.6848011363636364 Time: 7.35189414024353 Learning Rate: 0.005 Batch Size: 64\n",
      "Epoch: 6 Test Loss: 0.8683793978257612 Accuracy: 0.6994791666666667 Time: 7.393435478210449 Learning Rate: 0.005 Batch Size: 64\n",
      "Epoch: 7 Test Loss: 0.8627754747867584 Accuracy: 0.6974431818181818 Time: 7.300803184509277 Learning Rate: 0.005 Batch Size: 64\n",
      "Epoch: 8 Test Loss: 0.7899942181327126 Accuracy: 0.7098011363636364 Time: 7.423692464828491 Learning Rate: 0.005 Batch Size: 64\n",
      "Epoch: 9 Test Loss: 0.7664287903092124 Accuracy: 0.7347064393939394 Time: 7.353043556213379 Learning Rate: 0.005 Batch Size: 64\n",
      "Epoch: 10 Test Loss: 0.743865657936443 Accuracy: 0.7294981060606062 Time: 7.282396078109741 Learning Rate: 0.005 Batch Size: 64\n",
      "Epoch: 1 Test Loss: 1.4382677620107478 Accuracy: 0.44512310606060607 Time: 7.502184152603149 Learning Rate: 0.005 Batch Size: 128\n",
      "Epoch: 2 Test Loss: 1.2486100034280256 Accuracy: 0.5132575757575757 Time: 7.3140294551849365 Learning Rate: 0.005 Batch Size: 128\n",
      "Epoch: 3 Test Loss: 1.0881114602088928 Accuracy: 0.592282196969697 Time: 7.282784461975098 Learning Rate: 0.005 Batch Size: 128\n",
      "Epoch: 4 Test Loss: 0.9955946207046509 Accuracy: 0.6372632575757575 Time: 7.440599203109741 Learning Rate: 0.005 Batch Size: 128\n",
      "Epoch: 5 Test Loss: 0.9240089113062079 Accuracy: 0.6608428030303031 Time: 7.37671160697937 Learning Rate: 0.005 Batch Size: 128\n",
      "Epoch: 6 Test Loss: 0.880435894836079 Accuracy: 0.6822443181818182 Time: 7.345229864120483 Learning Rate: 0.005 Batch Size: 128\n",
      "Epoch: 7 Test Loss: 0.8852732127363031 Accuracy: 0.6906723484848485 Time: 7.501002788543701 Learning Rate: 0.005 Batch Size: 128\n",
      "Epoch: 8 Test Loss: 0.8431794047355652 Accuracy: 0.6891098484848485 Time: 7.347116708755493 Learning Rate: 0.005 Batch Size: 128\n",
      "Epoch: 9 Test Loss: 0.8182656304402784 Accuracy: 0.6962121212121212 Time: 7.252593040466309 Learning Rate: 0.005 Batch Size: 128\n",
      "Epoch: 10 Test Loss: 0.8082743856039915 Accuracy: 0.709185606060606 Time: 7.423871755599976 Learning Rate: 0.005 Batch Size: 128\n",
      "Epoch: 1 Test Loss: 1.4834421927278691 Accuracy: 0.415719696969697 Time: 7.392384052276611 Learning Rate: 0.01 Batch Size: 16\n",
      "Epoch: 2 Test Loss: 1.1126546968113293 Accuracy: 0.5936079545454546 Time: 7.331304550170898 Learning Rate: 0.01 Batch Size: 16\n",
      "Epoch: 3 Test Loss: 1.024158401922746 Accuracy: 0.6319128787878788 Time: 7.3312766551971436 Learning Rate: 0.01 Batch Size: 16\n",
      "Epoch: 4 Test Loss: 0.918525216254321 Accuracy: 0.662405303030303 Time: 7.392094612121582 Learning Rate: 0.01 Batch Size: 16\n",
      "Epoch: 5 Test Loss: 0.881813564083793 Accuracy: 0.6881628787878789 Time: 7.407801389694214 Learning Rate: 0.01 Batch Size: 16\n",
      "Epoch: 6 Test Loss: 0.8691528304056688 Accuracy: 0.692282196969697 Time: 7.3157243728637695 Learning Rate: 0.01 Batch Size: 16\n",
      "Epoch: 7 Test Loss: 0.8717416660352186 Accuracy: 0.6798768939393939 Time: 7.316335916519165 Learning Rate: 0.01 Batch Size: 16\n",
      "Epoch: 8 Test Loss: 0.8601165197112344 Accuracy: 0.6865530303030303 Time: 7.392347574234009 Learning Rate: 0.01 Batch Size: 16\n",
      "Epoch: 9 Test Loss: 0.7599516348405317 Accuracy: 0.7245265151515151 Time: 7.2983152866363525 Learning Rate: 0.01 Batch Size: 16\n",
      "Epoch: 10 Test Loss: 0.7815124961462888 Accuracy: 0.7246212121212121 Time: 7.360771656036377 Learning Rate: 0.01 Batch Size: 16\n",
      "Epoch: 1 Test Loss: 1.4809491634368896 Accuracy: 0.37518939393939393 Time: 7.441519498825073 Learning Rate: 0.01 Batch Size: 32\n",
      "Epoch: 2 Test Loss: 1.0994496995752507 Accuracy: 0.5996212121212121 Time: 7.283989906311035 Learning Rate: 0.01 Batch Size: 32\n",
      "Epoch: 3 Test Loss: 0.9899404346942902 Accuracy: 0.6550189393939394 Time: 7.314950227737427 Learning Rate: 0.01 Batch Size: 32\n",
      "Epoch: 4 Test Loss: 1.0015856677835637 Accuracy: 0.6326231060606061 Time: 7.300286531448364 Learning Rate: 0.01 Batch Size: 32\n",
      "Epoch: 5 Test Loss: 0.8993333889679476 Accuracy: 0.681155303030303 Time: 7.3149330615997314 Learning Rate: 0.01 Batch Size: 32\n",
      "Epoch: 6 Test Loss: 0.8249092400074005 Accuracy: 0.6991477272727272 Time: 7.361462593078613 Learning Rate: 0.01 Batch Size: 32\n",
      "Epoch: 7 Test Loss: 0.8012427145784552 Accuracy: 0.7239583333333334 Time: 7.361272811889648 Learning Rate: 0.01 Batch Size: 32\n",
      "Epoch: 8 Test Loss: 0.822087902914394 Accuracy: 0.7099905303030303 Time: 7.386657238006592 Learning Rate: 0.01 Batch Size: 32\n",
      "Epoch: 9 Test Loss: 0.7693819241090254 Accuracy: 0.7357954545454546 Time: 7.3778135776519775 Learning Rate: 0.01 Batch Size: 32\n",
      "Epoch: 10 Test Loss: 0.7887104668400504 Accuracy: 0.7350852272727273 Time: 7.347962141036987 Learning Rate: 0.01 Batch Size: 32\n",
      "Epoch: 1 Test Loss: 1.244876211339777 Accuracy: 0.5008049242424243 Time: 7.4237449169158936 Learning Rate: 0.01 Batch Size: 64\n",
      "Epoch: 2 Test Loss: 1.0839515870267695 Accuracy: 0.5978219696969697 Time: 7.439331293106079 Learning Rate: 0.01 Batch Size: 64\n",
      "Epoch: 3 Test Loss: 0.9695868979800831 Accuracy: 0.6473958333333333 Time: 7.455962419509888 Learning Rate: 0.01 Batch Size: 64\n",
      "Epoch: 4 Test Loss: 0.8686712032014673 Accuracy: 0.7028409090909091 Time: 7.439083576202393 Learning Rate: 0.01 Batch Size: 64\n",
      "Epoch: 5 Test Loss: 0.8167745904488997 Accuracy: 0.720407196969697 Time: 7.530765056610107 Learning Rate: 0.01 Batch Size: 64\n"
     ]
    },
    {
     "name": "stdout",
     "output_type": "stream",
     "text": [
      "Epoch: 6 Test Loss: 0.8732820369980552 Accuracy: 0.6960227272727273 Time: 7.438725709915161 Learning Rate: 0.01 Batch Size: 64\n",
      "Epoch: 7 Test Loss: 0.8086224279620431 Accuracy: 0.734280303030303 Time: 7.346008539199829 Learning Rate: 0.01 Batch Size: 64\n",
      "Epoch: 8 Test Loss: 0.8215495944023132 Accuracy: 0.7333333333333333 Time: 7.346518278121948 Learning Rate: 0.01 Batch Size: 64\n",
      "Epoch: 9 Test Loss: 0.8105071837251837 Accuracy: 0.7214488636363636 Time: 7.488923788070679 Learning Rate: 0.01 Batch Size: 64\n",
      "Epoch: 10 Test Loss: 0.8094636635346846 Accuracy: 0.7223958333333333 Time: 7.497724533081055 Learning Rate: 0.01 Batch Size: 64\n",
      "Epoch: 1 Test Loss: 1.593476490540938 Accuracy: 0.3196022727272727 Time: 7.426006078720093 Learning Rate: 0.01 Batch Size: 128\n",
      "Epoch: 2 Test Loss: 1.1128534972667694 Accuracy: 0.5804924242424243 Time: 7.330874681472778 Learning Rate: 0.01 Batch Size: 128\n",
      "Epoch: 3 Test Loss: 0.9928861152042042 Accuracy: 0.6540719696969698 Time: 7.282596111297607 Learning Rate: 0.01 Batch Size: 128\n",
      "Epoch: 4 Test Loss: 0.9264604069969871 Accuracy: 0.6842329545454545 Time: 7.377809286117554 Learning Rate: 0.01 Batch Size: 128\n",
      "Epoch: 5 Test Loss: 0.8842907845973969 Accuracy: 0.6846117424242424 Time: 7.471121788024902 Learning Rate: 0.01 Batch Size: 128\n",
      "Epoch: 6 Test Loss: 0.8708079999143427 Accuracy: 0.6922348484848485 Time: 7.333727598190308 Learning Rate: 0.01 Batch Size: 128\n",
      "Epoch: 7 Test Loss: 0.8425000987269662 Accuracy: 0.7113162878787879 Time: 7.438909292221069 Learning Rate: 0.01 Batch Size: 128\n",
      "Epoch: 8 Test Loss: 0.7998174537311901 Accuracy: 0.7176136363636364 Time: 7.442289352416992 Learning Rate: 0.01 Batch Size: 128\n",
      "Epoch: 9 Test Loss: 0.8594479181549766 Accuracy: 0.7100378787878788 Time: 7.314475059509277 Learning Rate: 0.01 Batch Size: 128\n",
      "Epoch: 10 Test Loss: 0.799437243830074 Accuracy: 0.7276988636363636 Time: 7.336188077926636 Learning Rate: 0.01 Batch Size: 128\n",
      "Epoch: 1 Test Loss: 1.373626947402954 Accuracy: 0.43745265151515156 Time: 7.377190589904785 Learning Rate: 0.015 Batch Size: 16\n",
      "Epoch: 2 Test Loss: 1.0487447543577715 Accuracy: 0.6194602272727273 Time: 7.344764709472656 Learning Rate: 0.015 Batch Size: 16\n",
      "Epoch: 3 Test Loss: 0.970616178079085 Accuracy: 0.6622632575757575 Time: 7.3374669551849365 Learning Rate: 0.015 Batch Size: 16\n",
      "Epoch: 4 Test Loss: 0.9196288910779086 Accuracy: 0.6903882575757575 Time: 7.344819068908691 Learning Rate: 0.015 Batch Size: 16\n",
      "Epoch: 5 Test Loss: 0.9078664183616638 Accuracy: 0.6850378787878788 Time: 7.394150733947754 Learning Rate: 0.015 Batch Size: 16\n",
      "Epoch: 6 Test Loss: 0.8165413087064569 Accuracy: 0.7100378787878788 Time: 7.4720375537872314 Learning Rate: 0.015 Batch Size: 16\n",
      "Epoch: 7 Test Loss: 0.7747729231010784 Accuracy: 0.7165719696969697 Time: 7.401069641113281 Learning Rate: 0.015 Batch Size: 16\n",
      "Epoch: 8 Test Loss: 0.7736805541948839 Accuracy: 0.7149621212121212 Time: 7.395256519317627 Learning Rate: 0.015 Batch Size: 16\n",
      "Epoch: 9 Test Loss: 0.7412099269303408 Accuracy: 0.7432765151515152 Time: 7.345615386962891 Learning Rate: 0.015 Batch Size: 16\n",
      "Epoch: 10 Test Loss: 0.7308640778064728 Accuracy: 0.7412878787878788 Time: 7.330642223358154 Learning Rate: 0.015 Batch Size: 16\n",
      "Epoch: 1 Test Loss: 1.4448031132871455 Accuracy: 0.434375 Time: 7.4395458698272705 Learning Rate: 0.015 Batch Size: 32\n",
      "Epoch: 2 Test Loss: 1.1782686764543706 Accuracy: 0.5635416666666667 Time: 7.423346757888794 Learning Rate: 0.015 Batch Size: 32\n",
      "Epoch: 3 Test Loss: 0.9796274466948076 Accuracy: 0.6381628787878788 Time: 7.496332406997681 Learning Rate: 0.015 Batch Size: 32\n",
      "Epoch: 4 Test Loss: 0.9434683268720453 Accuracy: 0.6572443181818182 Time: 7.38642692565918 Learning Rate: 0.015 Batch Size: 32\n",
      "Epoch: 5 Test Loss: 0.8598537959835746 Accuracy: 0.6908617424242425 Time: 7.282758474349976 Learning Rate: 0.015 Batch Size: 32\n",
      "Epoch: 6 Test Loss: 0.867023375901309 Accuracy: 0.701373106060606 Time: 7.361892938613892 Learning Rate: 0.015 Batch Size: 32\n",
      "Epoch: 7 Test Loss: 0.795251193371686 Accuracy: 0.7098484848484848 Time: 7.423758268356323 Learning Rate: 0.015 Batch Size: 32\n",
      "Epoch: 8 Test Loss: 0.8544891937212511 Accuracy: 0.6866950757575757 Time: 7.362187385559082 Learning Rate: 0.015 Batch Size: 32\n",
      "Epoch: 9 Test Loss: 0.8071137151934884 Accuracy: 0.7240056818181818 Time: 7.299471616744995 Learning Rate: 0.015 Batch Size: 32\n",
      "Epoch: 10 Test Loss: 0.752088950438933 Accuracy: 0.7456439393939394 Time: 7.375638723373413 Learning Rate: 0.015 Batch Size: 32\n",
      "Epoch: 1 Test Loss: 1.4217784296382556 Accuracy: 0.43139204545454546 Time: 7.351913213729858 Learning Rate: 0.015 Batch Size: 64\n",
      "Epoch: 2 Test Loss: 1.1669428456913342 Accuracy: 0.557717803030303 Time: 7.505067586898804 Learning Rate: 0.015 Batch Size: 64\n",
      "Epoch: 3 Test Loss: 1.0315268879587 Accuracy: 0.6331912878787879 Time: 7.423288583755493 Learning Rate: 0.015 Batch Size: 64\n",
      "Epoch: 4 Test Loss: 0.9238251908258959 Accuracy: 0.6667613636363636 Time: 7.440780878067017 Learning Rate: 0.015 Batch Size: 64\n",
      "Epoch: 5 Test Loss: 0.9156081676483154 Accuracy: 0.6761363636363636 Time: 7.412009954452515 Learning Rate: 0.015 Batch Size: 64\n",
      "Epoch: 6 Test Loss: 0.8525009670040824 Accuracy: 0.7237689393939394 Time: 7.2991392612457275 Learning Rate: 0.015 Batch Size: 64\n",
      "Epoch: 7 Test Loss: 0.8165929263288324 Accuracy: 0.7052083333333333 Time: 7.344944000244141 Learning Rate: 0.015 Batch Size: 64\n",
      "Epoch: 8 Test Loss: 0.7957402874122966 Accuracy: 0.713967803030303 Time: 7.300652027130127 Learning Rate: 0.015 Batch Size: 64\n",
      "Epoch: 9 Test Loss: 0.7732860202139075 Accuracy: 0.7390625 Time: 7.409116983413696 Learning Rate: 0.015 Batch Size: 64\n",
      "Epoch: 10 Test Loss: 0.758220371874896 Accuracy: 0.7331439393939394 Time: 7.222744941711426 Learning Rate: 0.015 Batch Size: 64\n",
      "Epoch: 1 Test Loss: 1.2253024090420117 Accuracy: 0.5424715909090909 Time: 7.362739562988281 Learning Rate: 0.015 Batch Size: 128\n",
      "Epoch: 2 Test Loss: 1.01256770437414 Accuracy: 0.6276515151515152 Time: 7.43099308013916 Learning Rate: 0.015 Batch Size: 128\n",
      "Epoch: 3 Test Loss: 0.9362317296591672 Accuracy: 0.6645833333333333 Time: 7.377540826797485 Learning Rate: 0.015 Batch Size: 128\n",
      "Epoch: 4 Test Loss: 0.8587562143802643 Accuracy: 0.7037878787878789 Time: 7.471221446990967 Learning Rate: 0.015 Batch Size: 128\n",
      "Epoch: 5 Test Loss: 0.8600930761207234 Accuracy: 0.7146780303030303 Time: 7.360937118530273 Learning Rate: 0.015 Batch Size: 128\n",
      "Epoch: 6 Test Loss: 0.7823202420364727 Accuracy: 0.7324810606060606 Time: 7.392637014389038 Learning Rate: 0.015 Batch Size: 128\n",
      "Epoch: 7 Test Loss: 0.7886325364763086 Accuracy: 0.728125 Time: 7.422630786895752 Learning Rate: 0.015 Batch Size: 128\n",
      "Epoch: 8 Test Loss: 0.7913411449302327 Accuracy: 0.7292613636363636 Time: 7.377500295639038 Learning Rate: 0.015 Batch Size: 128\n",
      "Epoch: 9 Test Loss: 0.7742217941717668 Accuracy: 0.7166193181818182 Time: 7.39783501625061 Learning Rate: 0.015 Batch Size: 128\n",
      "Epoch: 10 Test Loss: 0.751003163782033 Accuracy: 0.7377367424242425 Time: 7.42373251914978 Learning Rate: 0.015 Batch Size: 128\n",
      "Epoch: 1 Test Loss: 1.4984934004870327 Accuracy: 0.4164772727272727 Time: 7.408660650253296 Learning Rate: 0.02 Batch Size: 16\n",
      "Epoch: 2 Test Loss: 1.222765094854615 Accuracy: 0.5760890151515151 Time: 7.330410957336426 Learning Rate: 0.02 Batch Size: 16\n",
      "Epoch: 3 Test Loss: 1.042905715378848 Accuracy: 0.609280303030303 Time: 7.36193060874939 Learning Rate: 0.02 Batch Size: 16\n",
      "Epoch: 4 Test Loss: 0.900433518669822 Accuracy: 0.6701704545454545 Time: 7.3151092529296875 Learning Rate: 0.02 Batch Size: 16\n",
      "Epoch: 5 Test Loss: 0.8852946785363284 Accuracy: 0.6934659090909091 Time: 7.423182725906372 Learning Rate: 0.02 Batch Size: 16\n",
      "Epoch: 6 Test Loss: 0.8858038891445507 Accuracy: 0.6873579545454546 Time: 7.383459568023682 Learning Rate: 0.02 Batch Size: 16\n",
      "Epoch: 7 Test Loss: 0.8242604380304163 Accuracy: 0.6988162878787879 Time: 7.4872682094573975 Learning Rate: 0.02 Batch Size: 16\n",
      "Epoch: 8 Test Loss: 0.8232596272772009 Accuracy: 0.7288825757575758 Time: 7.357804536819458 Learning Rate: 0.02 Batch Size: 16\n",
      "Epoch: 9 Test Loss: 0.8147299100052227 Accuracy: 0.7067708333333333 Time: 7.282090663909912 Learning Rate: 0.02 Batch Size: 16\n",
      "Epoch: 10 Test Loss: 0.7967399995435368 Accuracy: 0.7361742424242425 Time: 7.394361734390259 Learning Rate: 0.02 Batch Size: 16\n"
     ]
    },
    {
     "name": "stdout",
     "output_type": "stream",
     "text": [
      "Epoch: 1 Test Loss: 1.5970102115110918 Accuracy: 0.29924242424242425 Time: 7.407034397125244 Learning Rate: 0.02 Batch Size: 32\n",
      "Epoch: 2 Test Loss: 1.481320858001709 Accuracy: 0.4018939393939394 Time: 7.439768075942993 Learning Rate: 0.02 Batch Size: 32\n",
      "Epoch: 3 Test Loss: 1.3319905617020347 Accuracy: 0.4897727272727273 Time: 7.3288350105285645 Learning Rate: 0.02 Batch Size: 32\n",
      "Epoch: 4 Test Loss: 1.1670367690649899 Accuracy: 0.5423295454545455 Time: 7.34509539604187 Learning Rate: 0.02 Batch Size: 32\n",
      "Epoch: 5 Test Loss: 1.0339059829711914 Accuracy: 0.6274621212121212 Time: 7.44033408164978 Learning Rate: 0.02 Batch Size: 32\n",
      "Epoch: 6 Test Loss: 1.0111790841275996 Accuracy: 0.6424242424242425 Time: 7.468284845352173 Learning Rate: 0.02 Batch Size: 32\n",
      "Epoch: 7 Test Loss: 0.8972929553552107 Accuracy: 0.680871212121212 Time: 7.3613340854644775 Learning Rate: 0.02 Batch Size: 32\n",
      "Epoch: 8 Test Loss: 0.8535883020270955 Accuracy: 0.6828124999999999 Time: 7.3465940952301025 Learning Rate: 0.02 Batch Size: 32\n",
      "Epoch: 9 Test Loss: 0.8905611742626537 Accuracy: 0.6796875 Time: 7.315416097640991 Learning Rate: 0.02 Batch Size: 32\n",
      "Epoch: 10 Test Loss: 0.8407733738422394 Accuracy: 0.6930397727272727 Time: 7.406752586364746 Learning Rate: 0.02 Batch Size: 32\n",
      "Epoch: 1 Test Loss: 1.3027485392310403 Accuracy: 0.4953598484848485 Time: 7.25144624710083 Learning Rate: 0.02 Batch Size: 64\n",
      "Epoch: 2 Test Loss: 1.108609213070436 Accuracy: 0.5824337121212122 Time: 7.360615253448486 Learning Rate: 0.02 Batch Size: 64\n",
      "Epoch: 3 Test Loss: 1.0181808525865728 Accuracy: 0.6380681818181818 Time: 7.351986885070801 Learning Rate: 0.02 Batch Size: 64\n",
      "Epoch: 4 Test Loss: 0.9831426252018322 Accuracy: 0.6429924242424243 Time: 7.459354400634766 Learning Rate: 0.02 Batch Size: 64\n",
      "Epoch: 5 Test Loss: 0.9085791761224921 Accuracy: 0.6832386363636364 Time: 7.385273694992065 Learning Rate: 0.02 Batch Size: 64\n",
      "Epoch: 6 Test Loss: 1.0126027410680598 Accuracy: 0.6452651515151515 Time: 7.3164637088775635 Learning Rate: 0.02 Batch Size: 64\n",
      "Epoch: 7 Test Loss: 0.8586539897051725 Accuracy: 0.698342803030303 Time: 7.251647472381592 Learning Rate: 0.02 Batch Size: 64\n",
      "Epoch: 8 Test Loss: 0.8420653532851826 Accuracy: 0.7084280303030304 Time: 7.40762734413147 Learning Rate: 0.02 Batch Size: 64\n",
      "Epoch: 9 Test Loss: 0.8542693203145807 Accuracy: 0.7003787878787878 Time: 7.392235279083252 Learning Rate: 0.02 Batch Size: 64\n",
      "Epoch: 10 Test Loss: 0.8065341182730414 Accuracy: 0.721685606060606 Time: 7.42402458190918 Learning Rate: 0.02 Batch Size: 64\n",
      "Epoch: 1 Test Loss: 1.340753517367623 Accuracy: 0.4651515151515151 Time: 7.316680908203125 Learning Rate: 0.02 Batch Size: 128\n",
      "Epoch: 2 Test Loss: 1.0184588432312012 Accuracy: 0.6303503787878788 Time: 7.33026385307312 Learning Rate: 0.02 Batch Size: 128\n",
      "Epoch: 3 Test Loss: 0.937890730120919 Accuracy: 0.6642045454545454 Time: 7.305375099182129 Learning Rate: 0.02 Batch Size: 128\n",
      "Epoch: 4 Test Loss: 0.8626738353209062 Accuracy: 0.7039772727272727 Time: 7.408123016357422 Learning Rate: 0.02 Batch Size: 128\n",
      "Epoch: 5 Test Loss: 0.9302778514948759 Accuracy: 0.6835227272727272 Time: 7.425998687744141 Learning Rate: 0.02 Batch Size: 128\n",
      "Epoch: 6 Test Loss: 0.7964393333955244 Accuracy: 0.7211647727272728 Time: 7.360931634902954 Learning Rate: 0.02 Batch Size: 128\n",
      "Epoch: 7 Test Loss: 0.8037457655776631 Accuracy: 0.7232481060606061 Time: 7.3224475383758545 Learning Rate: 0.02 Batch Size: 128\n",
      "Epoch: 8 Test Loss: 0.7894270541993055 Accuracy: 0.7195075757575757 Time: 7.314655780792236 Learning Rate: 0.02 Batch Size: 128\n",
      "Epoch: 9 Test Loss: 0.784328506751494 Accuracy: 0.7335700757575757 Time: 7.296507835388184 Learning Rate: 0.02 Batch Size: 128\n",
      "Epoch: 10 Test Loss: 0.7834511670199308 Accuracy: 0.7403409090909091 Time: 7.348403215408325 Learning Rate: 0.02 Batch Size: 128\n"
     ]
    }
   ],
   "source": [
    "for i in range(4):\n",
    "    for j in range(4,8):\n",
    "        model, criterion, optimizer = initModel(True, device, \"\", learningRate,MyNet3)\n",
    "\n",
    "        trainLosses, testLosses, trainAccuracies, testAccuracies = epochLoop(epochNumber, model, train_dataloader, test_dataloader, criterion, device, optimizer, batchSize**j, (learningRate+(learningRate*i)))"
   ]
  },
  {
   "attachments": {
    "64-5Conv-2Fc-Tablo-9.png": {
     "image/png": "[encoded data removed]"
    }
   },
   "cell_type": "markdown",
   "metadata": {},
   "source": [
    "![64-5Conv-2Fc-Tablo-9.png](attachment:64-5Conv-2Fc-Tablo-9.png)"
   ]
  },
  {
   "cell_type": "markdown",
   "metadata": {},
   "source": [
    "##### I choosed lr=0.015, batch size=32. It gives 0.745 accuracy in 5 CONV 2 FC model."
   ]
  },
  {
   "cell_type": "markdown",
   "metadata": {},
   "source": [
    "### From now on, I will change the image sizes as 32 and recalculate"
   ]
  },
  {
   "cell_type": "code",
   "execution_count": 30,
   "metadata": {},
   "outputs": [],
   "source": [
    "mean = [0.554, 0.450, 0.343]\n",
    "std = [0.231, 0.241, 0.241]\n",
    "image_size = 32      # 32x32, 64x64, 128x128\n",
    "batch_size = 128"
   ]
  },
  {
   "cell_type": "code",
   "execution_count": 31,
   "metadata": {},
   "outputs": [],
   "source": [
    "main_transform = transforms.Compose([\n",
    "    transforms.Resize((image_size, image_size)),  \n",
    "    transforms.ToTensor(),\n",
    "    transforms.Normalize(mean,std)      # normalize\n",
    "])\n",
    "\n",
    "aug_transform = transforms.Compose([\n",
    "    transforms.Resize((image_size, image_size)),\n",
    "    transforms.RandomRotation(20),   # rotate images 20 degree randomly\n",
    "    transforms.RandomHorizontalFlip(),\n",
    "    transforms.ColorJitter(0.1,0.1,0.1),    # about saturation brightness vs.\n",
    "    transforms.ToTensor(),\n",
    "    transforms.Normalize(mean,std),\n",
    "    transforms.RandomErasing()      #randomly erasing pixels \n",
    "])"
   ]
  },
  {
   "cell_type": "code",
   "execution_count": 32,
   "metadata": {},
   "outputs": [],
   "source": [
    "train_dataset = datasets.ImageFolder(train_path, transform=aug_transform)"
   ]
  },
  {
   "cell_type": "code",
   "execution_count": 33,
   "metadata": {},
   "outputs": [],
   "source": [
    "test_dataset = datasets.ImageFolder(test_path, transform=main_transform)"
   ]
  },
  {
   "cell_type": "code",
   "execution_count": 34,
   "metadata": {},
   "outputs": [],
   "source": [
    "train_dataloader = DataLoader(train_dataset, batch_size = batch_size, shuffle=True, num_workers=2)"
   ]
  },
  {
   "cell_type": "code",
   "execution_count": 35,
   "metadata": {},
   "outputs": [],
   "source": [
    "test_dataloader = DataLoader(test_dataset, batch_size = batch_size, shuffle=False, num_workers=2)"
   ]
  },
  {
   "cell_type": "code",
   "execution_count": 36,
   "metadata": {},
   "outputs": [],
   "source": [
    "class MyNet6(nn.Module):\n",
    "    def __init__(self):\n",
    "        super(MyNet6, self).__init__()\n",
    "\n",
    "        self.model = nn.Sequential(\n",
    "            nn.Conv2d(3, 16, kernel_size=3, padding=1),\n",
    "            nn.ReLU(),\n",
    "            nn.MaxPool2d(2, 2)).to(device)\n",
    "\n",
    "        self.classifier = nn.Sequential(\n",
    "            nn.Flatten(),\n",
    "            nn.Linear(4096, 7),\n",
    "            \n",
    "        ).to(device)\n",
    "       \n",
    "    def forward(self, value):\n",
    "        value = self.model(value)\n",
    "        value = self.classifier(value)\n",
    "        return value\n",
    "\n",
    "        return out"
   ]
  },
  {
   "cell_type": "code",
   "execution_count": 37,
   "metadata": {},
   "outputs": [
    {
     "name": "stdout",
     "output_type": "stream",
     "text": [
      "Epoch: 1 Test Loss: 1.1427372314713218 Accuracy: 0.6053503787878788 Time: 5.5478222370147705 Learning Rate: 0.005 Batch Size: 16\n",
      "Epoch: 2 Test Loss: 1.0743857730518689 Accuracy: 0.6100852272727273 Time: 5.18847918510437 Learning Rate: 0.005 Batch Size: 16\n",
      "Epoch: 3 Test Loss: 1.0979479984803633 Accuracy: 0.6204545454545455 Time: 4.814531087875366 Learning Rate: 0.005 Batch Size: 16\n",
      "Epoch: 4 Test Loss: 1.0255825031887402 Accuracy: 0.6536458333333334 Time: 6.753464221954346 Learning Rate: 0.005 Batch Size: 16\n",
      "Epoch: 5 Test Loss: 0.9560301737351851 Accuracy: 0.6741477272727273 Time: 6.782198905944824 Learning Rate: 0.005 Batch Size: 16\n",
      "Epoch: 6 Test Loss: 0.9502879326993768 Accuracy: 0.6911931818181819 Time: 5.15771746635437 Learning Rate: 0.005 Batch Size: 16\n",
      "Epoch: 7 Test Loss: 0.9237853478301655 Accuracy: 0.7020833333333333 Time: 4.921559810638428 Learning Rate: 0.005 Batch Size: 16\n",
      "Epoch: 8 Test Loss: 0.9115718738599257 Accuracy: 0.7089488636363637 Time: 6.127466201782227 Learning Rate: 0.005 Batch Size: 16\n",
      "Epoch: 9 Test Loss: 0.9292006384242665 Accuracy: 0.7030776515151516 Time: 6.821902275085449 Learning Rate: 0.005 Batch Size: 16\n",
      "Epoch: 10 Test Loss: 0.8979138731956482 Accuracy: 0.7006155303030304 Time: 5.298697233200073 Learning Rate: 0.005 Batch Size: 16\n",
      "Epoch: 1 Test Loss: 1.160364199768413 Accuracy: 0.5922348484848485 Time: 4.892181873321533 Learning Rate: 0.005 Batch Size: 32\n",
      "Epoch: 2 Test Loss: 1.118992957201871 Accuracy: 0.6071496212121212 Time: 5.926336050033569 Learning Rate: 0.005 Batch Size: 32\n",
      "Epoch: 3 Test Loss: 1.0085840848359195 Accuracy: 0.6557291666666667 Time: 6.673164367675781 Learning Rate: 0.005 Batch Size: 32\n",
      "Epoch: 4 Test Loss: 1.1181900853460485 Accuracy: 0.6366003787878788 Time: 6.719053030014038 Learning Rate: 0.005 Batch Size: 32\n",
      "Epoch: 5 Test Loss: 0.984647125005722 Accuracy: 0.6798295454545454 Time: 4.829540729522705 Learning Rate: 0.005 Batch Size: 32\n",
      "Epoch: 6 Test Loss: 0.9375606260516427 Accuracy: 0.6897253787878788 Time: 5.110509872436523 Learning Rate: 0.005 Batch Size: 32\n",
      "Epoch: 7 Test Loss: 0.9585237177935514 Accuracy: 0.6778882575757575 Time: 6.766788482666016 Learning Rate: 0.005 Batch Size: 32\n",
      "Epoch: 8 Test Loss: 0.9663522162220695 Accuracy: 0.6831439393939394 Time: 6.424178600311279 Learning Rate: 0.005 Batch Size: 32\n",
      "Epoch: 9 Test Loss: 0.9356922182169828 Accuracy: 0.6859848484848485 Time: 4.738224029541016 Learning Rate: 0.005 Batch Size: 32\n",
      "Epoch: 10 Test Loss: 1.1162672205404802 Accuracy: 0.6485795454545454 Time: 5.254097938537598 Learning Rate: 0.005 Batch Size: 32\n",
      "Epoch: 1 Test Loss: 1.1266589706594294 Accuracy: 0.5970170454545455 Time: 5.744832992553711 Learning Rate: 0.005 Batch Size: 64\n",
      "Epoch: 2 Test Loss: 1.17012357711792 Accuracy: 0.596685606060606 Time: 6.720851898193359 Learning Rate: 0.005 Batch Size: 64\n",
      "Epoch: 3 Test Loss: 1.0537893067706714 Accuracy: 0.6202651515151515 Time: 6.836644649505615 Learning Rate: 0.005 Batch Size: 64\n",
      "Epoch: 4 Test Loss: 1.0008364211429248 Accuracy: 0.6477272727272727 Time: 5.126087665557861 Learning Rate: 0.005 Batch Size: 64\n",
      "Epoch: 5 Test Loss: 1.0540315183726223 Accuracy: 0.6510416666666666 Time: 4.781908750534058 Learning Rate: 0.005 Batch Size: 64\n",
      "Epoch: 6 Test Loss: 0.9753888601606543 Accuracy: 0.6670454545454546 Time: 6.486443281173706 Learning Rate: 0.005 Batch Size: 64\n",
      "Epoch: 7 Test Loss: 0.9505816481330178 Accuracy: 0.6818655303030302 Time: 6.721400260925293 Learning Rate: 0.005 Batch Size: 64\n",
      "Epoch: 8 Test Loss: 0.9435766664418307 Accuracy: 0.6740530303030302 Time: 4.891822814941406 Learning Rate: 0.005 Batch Size: 64\n",
      "Epoch: 9 Test Loss: 0.9250604943795637 Accuracy: 0.6967329545454546 Time: 5.157729625701904 Learning Rate: 0.005 Batch Size: 64\n",
      "Epoch: 10 Test Loss: 0.9136675921353427 Accuracy: 0.6882102272727273 Time: 6.797806739807129 Learning Rate: 0.005 Batch Size: 64\n",
      "Epoch: 1 Test Loss: 1.2047018788077615 Accuracy: 0.5662405303030303 Time: 6.751241207122803 Learning Rate: 0.005 Batch Size: 128\n",
      "Epoch: 2 Test Loss: 1.151485350998965 Accuracy: 0.5676136363636364 Time: 5.782835960388184 Learning Rate: 0.005 Batch Size: 128\n",
      "Epoch: 3 Test Loss: 1.0406491187485782 Accuracy: 0.6450757575757575 Time: 4.860599994659424 Learning Rate: 0.005 Batch Size: 128\n",
      "Epoch: 4 Test Loss: 0.9971573813395067 Accuracy: 0.6551136363636364 Time: 5.141927480697632 Learning Rate: 0.005 Batch Size: 128\n",
      "Epoch: 5 Test Loss: 0.975787953896956 Accuracy: 0.6673768939393939 Time: 6.8773369789123535 Learning Rate: 0.005 Batch Size: 128\n",
      "Epoch: 6 Test Loss: 0.9346971566026862 Accuracy: 0.6794034090909091 Time: 6.722985506057739 Learning Rate: 0.005 Batch Size: 128\n",
      "Epoch: 7 Test Loss: 0.901485180312937 Accuracy: 0.7017992424242424 Time: 4.84490180015564 Learning Rate: 0.005 Batch Size: 128\n",
      "Epoch: 8 Test Loss: 0.9011574604294517 Accuracy: 0.6989109848484848 Time: 4.940966606140137 Learning Rate: 0.005 Batch Size: 128\n",
      "Epoch: 9 Test Loss: 0.9036812701008536 Accuracy: 0.6786931818181818 Time: 5.0815651416778564 Learning Rate: 0.005 Batch Size: 128\n",
      "Epoch: 10 Test Loss: 0.921942884271795 Accuracy: 0.6836647727272728 Time: 6.767539739608765 Learning Rate: 0.005 Batch Size: 128\n",
      "Epoch: 1 Test Loss: 1.190127437764948 Accuracy: 0.5658143939393939 Time: 6.767354488372803 Learning Rate: 0.01 Batch Size: 16\n",
      "Epoch: 2 Test Loss: 1.1022672653198242 Accuracy: 0.5991477272727272 Time: 6.393288612365723 Learning Rate: 0.01 Batch Size: 16\n",
      "Epoch: 3 Test Loss: 1.0496508506211368 Accuracy: 0.6294981060606061 Time: 4.751260757446289 Learning Rate: 0.01 Batch Size: 16\n",
      "Epoch: 4 Test Loss: 0.9794093641367826 Accuracy: 0.6652935606060606 Time: 4.86143684387207 Learning Rate: 0.01 Batch Size: 16\n",
      "Epoch: 5 Test Loss: 1.0044579180804165 Accuracy: 0.6489109848484849 Time: 4.813010931015015 Learning Rate: 0.01 Batch Size: 16\n",
      "Epoch: 6 Test Loss: 0.9625181555747986 Accuracy: 0.6734375 Time: 6.786161184310913 Learning Rate: 0.01 Batch Size: 16\n",
      "Epoch: 7 Test Loss: 0.9168505912477319 Accuracy: 0.6889204545454546 Time: 6.846257209777832 Learning Rate: 0.01 Batch Size: 16\n",
      "Epoch: 8 Test Loss: 0.9358337033878673 Accuracy: 0.6929450757575757 Time: 6.735291242599487 Learning Rate: 0.01 Batch Size: 16\n",
      "Epoch: 9 Test Loss: 0.9237254478714683 Accuracy: 0.6907196969696969 Time: 4.766771078109741 Learning Rate: 0.01 Batch Size: 16\n",
      "Epoch: 10 Test Loss: 0.9286955324086276 Accuracy: 0.682623106060606 Time: 4.892354249954224 Learning Rate: 0.01 Batch Size: 16\n",
      "Epoch: 1 Test Loss: 1.1715402684428475 Accuracy: 0.5761837121212121 Time: 5.126120567321777 Learning Rate: 0.01 Batch Size: 32\n",
      "Epoch: 2 Test Loss: 1.1261090582067317 Accuracy: 0.5939867424242424 Time: 4.884882211685181 Learning Rate: 0.01 Batch Size: 32\n",
      "Epoch: 3 Test Loss: 1.070777248252522 Accuracy: 0.6186079545454546 Time: 6.829571485519409 Learning Rate: 0.01 Batch Size: 32\n",
      "Epoch: 4 Test Loss: 0.9930126667022705 Accuracy: 0.663967803030303 Time: 6.782708168029785 Learning Rate: 0.01 Batch Size: 32\n",
      "Epoch: 5 Test Loss: 0.9898184863003817 Accuracy: 0.6664772727272728 Time: 4.785703182220459 Learning Rate: 0.01 Batch Size: 32\n",
      "Epoch: 6 Test Loss: 1.0022927522659302 Accuracy: 0.6760890151515151 Time: 5.642992973327637 Learning Rate: 0.01 Batch Size: 32\n",
      "Epoch: 7 Test Loss: 0.9219551519914106 Accuracy: 0.688778409090909 Time: 6.783080101013184 Learning Rate: 0.01 Batch Size: 32\n",
      "Epoch: 8 Test Loss: 0.9421144994822416 Accuracy: 0.6853219696969697 Time: 6.876144886016846 Learning Rate: 0.01 Batch Size: 32\n",
      "Epoch: 9 Test Loss: 0.908989356322722 Accuracy: 0.6958333333333333 Time: 5.251151084899902 Learning Rate: 0.01 Batch Size: 32\n",
      "Epoch: 10 Test Loss: 0.9015517776662653 Accuracy: 0.7056344696969696 Time: 5.156769275665283 Learning Rate: 0.01 Batch Size: 32\n",
      "Epoch: 1 Test Loss: 1.2245077815922825 Accuracy: 0.5495265151515152 Time: 6.705816030502319 Learning Rate: 0.01 Batch Size: 64\n",
      "Epoch: 2 Test Loss: 1.1309117945757778 Accuracy: 0.6038825757575758 Time: 4.8668107986450195 Learning Rate: 0.01 Batch Size: 64\n",
      "Epoch: 3 Test Loss: 1.077542938969352 Accuracy: 0.6200284090909091 Time: 5.192636251449585 Learning Rate: 0.01 Batch Size: 64\n",
      "Epoch: 4 Test Loss: 1.001675714146007 Accuracy: 0.6596590909090909 Time: 6.832187652587891 Learning Rate: 0.01 Batch Size: 64\n",
      "Epoch: 5 Test Loss: 1.0254217901013114 Accuracy: 0.6544034090909091 Time: 4.8134424686431885 Learning Rate: 0.01 Batch Size: 64\n"
     ]
    },
    {
     "name": "stdout",
     "output_type": "stream",
     "text": [
      "Epoch: 6 Test Loss: 1.0237405083396218 Accuracy: 0.6570075757575758 Time: 5.565120697021484 Learning Rate: 0.01 Batch Size: 64\n",
      "Epoch: 7 Test Loss: 1.0309109064665707 Accuracy: 0.6632102272727273 Time: 6.847556829452515 Learning Rate: 0.01 Batch Size: 64\n",
      "Epoch: 8 Test Loss: 0.9569657011465593 Accuracy: 0.6833806818181819 Time: 6.781850576400757 Learning Rate: 0.01 Batch Size: 64\n",
      "Epoch: 9 Test Loss: 0.971803445707668 Accuracy: 0.6850378787878788 Time: 4.939709663391113 Learning Rate: 0.01 Batch Size: 64\n",
      "Epoch: 10 Test Loss: 0.9459751194173639 Accuracy: 0.6773674242424242 Time: 5.049489259719849 Learning Rate: 0.01 Batch Size: 64\n",
      "Epoch: 1 Test Loss: 1.1825573390180415 Accuracy: 0.5587121212121212 Time: 6.924175977706909 Learning Rate: 0.01 Batch Size: 128\n",
      "Epoch: 2 Test Loss: 1.196274004199288 Accuracy: 0.5797348484848485 Time: 6.814251899719238 Learning Rate: 0.01 Batch Size: 128\n",
      "Epoch: 3 Test Loss: 1.0864790136163884 Accuracy: 0.6082386363636364 Time: 4.8688061237335205 Learning Rate: 0.01 Batch Size: 128\n",
      "Epoch: 4 Test Loss: 1.0056330561637878 Accuracy: 0.6491477272727273 Time: 5.564892530441284 Learning Rate: 0.01 Batch Size: 128\n",
      "Epoch: 5 Test Loss: 1.0207903927022761 Accuracy: 0.641808712121212 Time: 6.815992593765259 Learning Rate: 0.01 Batch Size: 128\n",
      "Epoch: 6 Test Loss: 0.9765593192794106 Accuracy: 0.6734848484848485 Time: 6.768073320388794 Learning Rate: 0.01 Batch Size: 128\n",
      "Epoch: 7 Test Loss: 0.9235489964485168 Accuracy: 0.6924242424242425 Time: 4.7202558517456055 Learning Rate: 0.01 Batch Size: 128\n",
      "Epoch: 8 Test Loss: 0.943887244571339 Accuracy: 0.6887310606060606 Time: 5.096588850021362 Learning Rate: 0.01 Batch Size: 128\n",
      "Epoch: 9 Test Loss: 0.9320380091667175 Accuracy: 0.6829545454545455 Time: 6.732783794403076 Learning Rate: 0.01 Batch Size: 128\n",
      "Epoch: 10 Test Loss: 0.9276955127716064 Accuracy: 0.6896306818181818 Time: 6.844274520874023 Learning Rate: 0.01 Batch Size: 128\n",
      "Epoch: 1 Test Loss: 1.224985810843381 Accuracy: 0.5674242424242424 Time: 4.766891717910767 Learning Rate: 0.015 Batch Size: 16\n",
      "Epoch: 2 Test Loss: 1.1148988712917676 Accuracy: 0.6162878787878788 Time: 6.2833757400512695 Learning Rate: 0.015 Batch Size: 16\n",
      "Epoch: 3 Test Loss: 1.0990443283861333 Accuracy: 0.6036458333333333 Time: 6.738511323928833 Learning Rate: 0.015 Batch Size: 16\n",
      "Epoch: 4 Test Loss: 0.9827216863632202 Accuracy: 0.6569602272727273 Time: 5.172409772872925 Learning Rate: 0.015 Batch Size: 16\n",
      "Epoch: 5 Test Loss: 0.933195330879905 Accuracy: 0.6750473484848485 Time: 5.220634937286377 Learning Rate: 0.015 Batch Size: 16\n",
      "Epoch: 6 Test Loss: 0.9298447641459379 Accuracy: 0.6778882575757575 Time: 6.7512290477752686 Learning Rate: 0.015 Batch Size: 16\n",
      "Epoch: 7 Test Loss: 0.910402075810866 Accuracy: 0.69375 Time: 6.832136154174805 Learning Rate: 0.015 Batch Size: 16\n",
      "Epoch: 8 Test Loss: 0.9691585464911028 Accuracy: 0.6755208333333333 Time: 5.1267409324646 Learning Rate: 0.015 Batch Size: 16\n",
      "Epoch: 9 Test Loss: 0.8963066827167164 Accuracy: 0.6987215909090909 Time: 6.7981276512146 Learning Rate: 0.015 Batch Size: 16\n",
      "Epoch: 10 Test Loss: 0.9682694185863842 Accuracy: 0.6695549242424242 Time: 5.736002683639526 Learning Rate: 0.015 Batch Size: 16\n",
      "Epoch: 1 Test Loss: 1.1897915547544307 Accuracy: 0.5631155303030303 Time: 5.42463755607605 Learning Rate: 0.015 Batch Size: 32\n",
      "Epoch: 2 Test Loss: 1.1103159297596326 Accuracy: 0.6335700757575758 Time: 4.95470118522644 Learning Rate: 0.015 Batch Size: 32\n",
      "Epoch: 3 Test Loss: 1.0811840566721829 Accuracy: 0.6158617424242424 Time: 6.674103260040283 Learning Rate: 0.015 Batch Size: 32\n",
      "Epoch: 4 Test Loss: 1.0031786804849452 Accuracy: 0.6490530303030303 Time: 6.812970161437988 Learning Rate: 0.015 Batch Size: 32\n",
      "Epoch: 5 Test Loss: 0.9910936247218739 Accuracy: 0.6612215909090909 Time: 6.706177473068237 Learning Rate: 0.015 Batch Size: 32\n",
      "Epoch: 6 Test Loss: 0.9467698389833624 Accuracy: 0.6749999999999999 Time: 4.970730781555176 Learning Rate: 0.015 Batch Size: 32\n",
      "Epoch: 7 Test Loss: 0.9246546788649126 Accuracy: 0.6844223484848485 Time: 4.860145092010498 Learning Rate: 0.015 Batch Size: 32\n",
      "Epoch: 8 Test Loss: 0.9236508228562095 Accuracy: 0.6919981060606061 Time: 6.766453981399536 Learning Rate: 0.015 Batch Size: 32\n",
      "Epoch: 9 Test Loss: 0.923865101554177 Accuracy: 0.6894412878787879 Time: 6.784499168395996 Learning Rate: 0.015 Batch Size: 32\n",
      "Epoch: 10 Test Loss: 0.9466623176227916 Accuracy: 0.6948390151515151 Time: 5.251210689544678 Learning Rate: 0.015 Batch Size: 32\n",
      "Epoch: 1 Test Loss: 1.185410044410012 Accuracy: 0.5657670454545455 Time: 5.347413539886475 Learning Rate: 0.015 Batch Size: 64\n",
      "Epoch: 2 Test Loss: 1.0810339505022222 Accuracy: 0.615625 Time: 6.017636775970459 Learning Rate: 0.015 Batch Size: 64\n",
      "Epoch: 3 Test Loss: 1.0711324594237588 Accuracy: 0.6136837121212121 Time: 6.770445108413696 Learning Rate: 0.015 Batch Size: 64\n",
      "Epoch: 4 Test Loss: 1.0496015765450217 Accuracy: 0.6281249999999999 Time: 6.815887689590454 Learning Rate: 0.015 Batch Size: 64\n",
      "Epoch: 5 Test Loss: 1.0413202209906145 Accuracy: 0.6377367424242424 Time: 6.797591686248779 Learning Rate: 0.015 Batch Size: 64\n",
      "Epoch: 6 Test Loss: 0.9787096706303683 Accuracy: 0.6749999999999999 Time: 5.596283674240112 Learning Rate: 0.015 Batch Size: 64\n",
      "Epoch: 7 Test Loss: 0.9355622828006744 Accuracy: 0.6875473484848484 Time: 4.8609137535095215 Learning Rate: 0.015 Batch Size: 64\n",
      "Epoch: 8 Test Loss: 0.9487906260923906 Accuracy: 0.6631628787878788 Time: 5.204159736633301 Learning Rate: 0.015 Batch Size: 64\n",
      "Epoch: 9 Test Loss: 0.9447069655765187 Accuracy: 0.6951231060606061 Time: 6.8003621101379395 Learning Rate: 0.015 Batch Size: 64\n",
      "Epoch: 10 Test Loss: 0.9400325417518616 Accuracy: 0.6813920454545455 Time: 6.764244556427002 Learning Rate: 0.015 Batch Size: 64\n",
      "Epoch: 1 Test Loss: 1.156641797585921 Accuracy: 0.5784090909090909 Time: 5.003894567489624 Learning Rate: 0.015 Batch Size: 128\n",
      "Epoch: 2 Test Loss: 1.037983769720251 Accuracy: 0.6295928030303031 Time: 5.23611855506897 Learning Rate: 0.015 Batch Size: 128\n",
      "Epoch: 3 Test Loss: 1.0119595636021008 Accuracy: 0.6734848484848485 Time: 6.700320243835449 Learning Rate: 0.015 Batch Size: 128\n",
      "Epoch: 4 Test Loss: 1.0581213344227185 Accuracy: 0.6396306818181818 Time: 5.314434766769409 Learning Rate: 0.015 Batch Size: 128\n",
      "Epoch: 5 Test Loss: 0.9841330593282526 Accuracy: 0.6530303030303031 Time: 5.923342227935791 Learning Rate: 0.015 Batch Size: 128\n",
      "Epoch: 6 Test Loss: 0.9797512482513081 Accuracy: 0.6660511363636363 Time: 6.707421779632568 Learning Rate: 0.015 Batch Size: 128\n",
      "Epoch: 7 Test Loss: 0.965403372591192 Accuracy: 0.6842329545454545 Time: 6.768210172653198 Learning Rate: 0.015 Batch Size: 128\n",
      "Epoch: 8 Test Loss: 0.9479946006428112 Accuracy: 0.6794507575757576 Time: 5.310887575149536 Learning Rate: 0.015 Batch Size: 128\n",
      "Epoch: 9 Test Loss: 0.939405853098089 Accuracy: 0.6748579545454546 Time: 4.794728755950928 Learning Rate: 0.015 Batch Size: 128\n",
      "Epoch: 10 Test Loss: 0.934980181130496 Accuracy: 0.6687973484848485 Time: 5.650494813919067 Learning Rate: 0.015 Batch Size: 128\n",
      "Epoch: 1 Test Loss: 1.210164400664243 Accuracy: 0.553503787878788 Time: 6.753090858459473 Learning Rate: 0.02 Batch Size: 16\n",
      "Epoch: 2 Test Loss: 1.1656390753659336 Accuracy: 0.5583806818181819 Time: 6.767085313796997 Learning Rate: 0.02 Batch Size: 16\n",
      "Epoch: 3 Test Loss: 1.0604728731242092 Accuracy: 0.6210700757575758 Time: 4.860767841339111 Learning Rate: 0.02 Batch Size: 16\n",
      "Epoch: 4 Test Loss: 1.0308084325356917 Accuracy: 0.6535511363636364 Time: 5.565609693527222 Learning Rate: 0.02 Batch Size: 16\n",
      "Epoch: 5 Test Loss: 1.0307118377902291 Accuracy: 0.6369791666666667 Time: 6.767256259918213 Learning Rate: 0.02 Batch Size: 16\n",
      "Epoch: 6 Test Loss: 0.9636334831064398 Accuracy: 0.6674715909090909 Time: 6.095864295959473 Learning Rate: 0.02 Batch Size: 16\n",
      "Epoch: 7 Test Loss: 0.9850883944468065 Accuracy: 0.6692708333333334 Time: 5.203984260559082 Learning Rate: 0.02 Batch Size: 16\n",
      "Epoch: 8 Test Loss: 0.9297792694785378 Accuracy: 0.6919981060606061 Time: 6.718050718307495 Learning Rate: 0.02 Batch Size: 16\n",
      "Epoch: 9 Test Loss: 0.935362696647644 Accuracy: 0.6772727272727272 Time: 5.875964879989624 Learning Rate: 0.02 Batch Size: 16\n",
      "Epoch: 10 Test Loss: 0.9361487139355053 Accuracy: 0.6894412878787879 Time: 5.219831943511963 Learning Rate: 0.02 Batch Size: 16\n"
     ]
    },
    {
     "name": "stdout",
     "output_type": "stream",
     "text": [
      "Epoch: 1 Test Loss: 1.135359758680517 Accuracy: 0.6016098484848486 Time: 4.816510200500488 Learning Rate: 0.02 Batch Size: 32\n",
      "Epoch: 2 Test Loss: 1.0963124470277266 Accuracy: 0.625 Time: 5.923582315444946 Learning Rate: 0.02 Batch Size: 32\n",
      "Epoch: 3 Test Loss: 0.9999021562662992 Accuracy: 0.6565340909090909 Time: 6.850703477859497 Learning Rate: 0.02 Batch Size: 32\n",
      "Epoch: 4 Test Loss: 0.9605734077366915 Accuracy: 0.6752367424242425 Time: 6.753399610519409 Learning Rate: 0.02 Batch Size: 32\n",
      "Epoch: 5 Test Loss: 0.9515355066819624 Accuracy: 0.686221590909091 Time: 4.828902244567871 Learning Rate: 0.02 Batch Size: 32\n",
      "Epoch: 6 Test Loss: 0.9564092592759565 Accuracy: 0.6815814393939393 Time: 5.610435485839844 Learning Rate: 0.02 Batch Size: 32\n",
      "Epoch: 7 Test Loss: 0.939300309528004 Accuracy: 0.6867897727272727 Time: 6.673196315765381 Learning Rate: 0.02 Batch Size: 32\n",
      "Epoch: 8 Test Loss: 0.930844550782984 Accuracy: 0.6808238636363636 Time: 6.657939195632935 Learning Rate: 0.02 Batch Size: 32\n",
      "Epoch: 9 Test Loss: 0.9348595630038868 Accuracy: 0.685748106060606 Time: 4.7973949909210205 Learning Rate: 0.02 Batch Size: 32\n",
      "Epoch: 10 Test Loss: 0.9252128384330056 Accuracy: 0.6843276515151515 Time: 6.83004355430603 Learning Rate: 0.02 Batch Size: 32\n",
      "Epoch: 1 Test Loss: 1.173099246892062 Accuracy: 0.5737689393939394 Time: 5.519193410873413 Learning Rate: 0.02 Batch Size: 64\n",
      "Epoch: 2 Test Loss: 1.1368391947312788 Accuracy: 0.5947443181818182 Time: 5.061903238296509 Learning Rate: 0.02 Batch Size: 64\n",
      "Epoch: 3 Test Loss: 1.0292239785194397 Accuracy: 0.6410511363636364 Time: 5.064489126205444 Learning Rate: 0.02 Batch Size: 64\n",
      "Epoch: 4 Test Loss: 1.0171450484882703 Accuracy: 0.6648674242424243 Time: 5.142789602279663 Learning Rate: 0.02 Batch Size: 64\n",
      "Epoch: 5 Test Loss: 0.977876441045241 Accuracy: 0.6570075757575757 Time: 4.891940116882324 Learning Rate: 0.02 Batch Size: 64\n",
      "Epoch: 6 Test Loss: 0.9462507204575972 Accuracy: 0.6817708333333333 Time: 6.658109188079834 Learning Rate: 0.02 Batch Size: 64\n",
      "Epoch: 7 Test Loss: 0.9881661317565225 Accuracy: 0.6590435606060606 Time: 6.861707925796509 Learning Rate: 0.02 Batch Size: 64\n",
      "Epoch: 8 Test Loss: 0.9663341045379639 Accuracy: 0.6779829545454545 Time: 4.750802278518677 Learning Rate: 0.02 Batch Size: 64\n",
      "Epoch: 9 Test Loss: 0.9271763671528209 Accuracy: 0.7098958333333333 Time: 6.707602262496948 Learning Rate: 0.02 Batch Size: 64\n",
      "Epoch: 10 Test Loss: 0.9239339909770272 Accuracy: 0.7008049242424242 Time: 6.685357332229614 Learning Rate: 0.02 Batch Size: 64\n",
      "Epoch: 1 Test Loss: 1.159776974808086 Accuracy: 0.598626893939394 Time: 5.251400470733643 Learning Rate: 0.02 Batch Size: 128\n",
      "Epoch: 2 Test Loss: 1.1279002048752524 Accuracy: 0.6005208333333333 Time: 5.267064571380615 Learning Rate: 0.02 Batch Size: 128\n",
      "Epoch: 3 Test Loss: 1.059452696280046 Accuracy: 0.6420454545454546 Time: 4.767172574996948 Learning Rate: 0.02 Batch Size: 128\n",
      "Epoch: 4 Test Loss: 0.989079003984278 Accuracy: 0.6678030303030303 Time: 5.2039453983306885 Learning Rate: 0.02 Batch Size: 128\n",
      "Epoch: 5 Test Loss: 0.9717653366652402 Accuracy: 0.6862689393939394 Time: 5.782326936721802 Learning Rate: 0.02 Batch Size: 128\n",
      "Epoch: 6 Test Loss: 0.9437440877610986 Accuracy: 0.6894886363636363 Time: 6.711288213729858 Learning Rate: 0.02 Batch Size: 128\n",
      "Epoch: 7 Test Loss: 0.9423854080113497 Accuracy: 0.6854640151515151 Time: 5.563352823257446 Learning Rate: 0.02 Batch Size: 128\n",
      "Epoch: 8 Test Loss: 0.9648871313441884 Accuracy: 0.6857007575757575 Time: 4.813435792922974 Learning Rate: 0.02 Batch Size: 128\n",
      "Epoch: 9 Test Loss: 0.9274352328343825 Accuracy: 0.7008996212121212 Time: 6.717683792114258 Learning Rate: 0.02 Batch Size: 128\n",
      "Epoch: 10 Test Loss: 0.923743871125308 Accuracy: 0.6842803030303031 Time: 6.705111265182495 Learning Rate: 0.02 Batch Size: 128\n"
     ]
    }
   ],
   "source": [
    "for i in range(4):\n",
    "    for j in range(4,8):\n",
    "        model, criterion, optimizer = initModel(True, device, \"\", learningRate,MyNet6)\n",
    "      \n",
    "        trainLosses, testLosses, trainAccuracies, testAccuracies = epochLoop(epochNumber, model, train_dataloader, test_dataloader, criterion, device, optimizer, batchSize**j, (learningRate+(learningRate*i)))"
   ]
  },
  {
   "attachments": {
    "32-1Conv-1Fc-Tablo-10.png": {
     "image/png": "[encoded data removed]"
    }
   },
   "cell_type": "markdown",
   "metadata": {},
   "source": [
    "![32-1Conv-1Fc-Tablo-10.png](attachment:32-1Conv-1Fc-Tablo-10.png)"
   ]
  },
  {
   "cell_type": "markdown",
   "metadata": {},
   "source": [
    "##### I choosed lr=0.01, batch size=32. It gives 0.705 accuracy in 1CONV 1 FC model."
   ]
  },
  {
   "cell_type": "code",
   "execution_count": 38,
   "metadata": {},
   "outputs": [],
   "source": [
    "class MyNet7(nn.Module):\n",
    "    def __init__(self):\n",
    "        super(MyNet7, self).__init__()\n",
    "\n",
    "        self.model = nn.Sequential(\n",
    "            nn.Conv2d(3, 16, kernel_size=3, padding=1),\n",
    "            nn.ReLU(),\n",
    "            nn.MaxPool2d(2, 2),\n",
    "\n",
    "            nn.Conv2d(16, 32, kernel_size=3, padding=1),\n",
    "            nn.ReLU(),\n",
    "            nn.MaxPool2d(2, 2)).to(device)\n",
    "        self.classifier = nn.Sequential(\n",
    "            nn.Flatten(),\n",
    "            nn.Linear(2048, 128),\n",
    "            nn.ReLU(),\n",
    "            nn.Flatten(),\n",
    "            nn.Linear(128, 7) ).to(device)\n",
    "       \n",
    "    def forward(self, value):\n",
    "        value = self.model(value)\n",
    "        value = self.classifier(value)\n",
    "        return value\n",
    "        return out"
   ]
  },
  {
   "cell_type": "code",
   "execution_count": 39,
   "metadata": {},
   "outputs": [
    {
     "name": "stdout",
     "output_type": "stream",
     "text": [
      "Epoch: 1 Test Loss: 1.239957338029688 Accuracy: 0.5356534090909091 Time: 4.812764644622803 Learning Rate: 0.005 Batch Size: 16\n",
      "Epoch: 2 Test Loss: 1.1326031630689448 Accuracy: 0.5856060606060606 Time: 5.2041637897491455 Learning Rate: 0.005 Batch Size: 16\n",
      "Epoch: 3 Test Loss: 0.9896831891753457 Accuracy: 0.6425189393939393 Time: 6.923241853713989 Learning Rate: 0.005 Batch Size: 16\n",
      "Epoch: 4 Test Loss: 0.9287399730899117 Accuracy: 0.6765625000000001 Time: 6.868009805679321 Learning Rate: 0.005 Batch Size: 16\n",
      "Epoch: 5 Test Loss: 0.8779921206561002 Accuracy: 0.7094223484848485 Time: 6.003143310546875 Learning Rate: 0.005 Batch Size: 16\n",
      "Epoch: 6 Test Loss: 0.8640748235312375 Accuracy: 0.701467803030303 Time: 5.31374454498291 Learning Rate: 0.005 Batch Size: 16\n",
      "Epoch: 7 Test Loss: 0.8608599521897056 Accuracy: 0.7084753787878788 Time: 4.829437255859375 Learning Rate: 0.005 Batch Size: 16\n",
      "Epoch: 8 Test Loss: 0.8331351334398444 Accuracy: 0.7005681818181818 Time: 6.252485990524292 Learning Rate: 0.005 Batch Size: 16\n",
      "Epoch: 9 Test Loss: 0.8349445001645521 Accuracy: 0.7025568181818183 Time: 5.954902648925781 Learning Rate: 0.005 Batch Size: 16\n",
      "Epoch: 10 Test Loss: 0.7919729758392681 Accuracy: 0.7299715909090909 Time: 5.549917459487915 Learning Rate: 0.005 Batch Size: 16\n",
      "Epoch: 1 Test Loss: 1.383984300223264 Accuracy: 0.4668087121212121 Time: 4.844646215438843 Learning Rate: 0.005 Batch Size: 32\n",
      "Epoch: 2 Test Loss: 1.1025898510759526 Accuracy: 0.5896780303030303 Time: 5.281609773635864 Learning Rate: 0.005 Batch Size: 32\n",
      "Epoch: 3 Test Loss: 1.033642134883187 Accuracy: 0.6285511363636364 Time: 6.863105773925781 Learning Rate: 0.005 Batch Size: 32\n",
      "Epoch: 4 Test Loss: 0.9847663830627095 Accuracy: 0.6524621212121212 Time: 6.784005165100098 Learning Rate: 0.005 Batch Size: 32\n",
      "Epoch: 5 Test Loss: 0.9405073360963301 Accuracy: 0.6685132575757575 Time: 6.87717342376709 Learning Rate: 0.005 Batch Size: 32\n",
      "Epoch: 6 Test Loss: 0.9198398644273932 Accuracy: 0.6764204545454545 Time: 6.236806631088257 Learning Rate: 0.005 Batch Size: 32\n",
      "Epoch: 7 Test Loss: 0.9140347323634408 Accuracy: 0.6797348484848486 Time: 5.15815806388855 Learning Rate: 0.005 Batch Size: 32\n",
      "Epoch: 8 Test Loss: 0.910860614343123 Accuracy: 0.6897253787878788 Time: 5.189150333404541 Learning Rate: 0.005 Batch Size: 32\n",
      "Epoch: 9 Test Loss: 0.8863330131227319 Accuracy: 0.6918087121212121 Time: 4.846717119216919 Learning Rate: 0.005 Batch Size: 32\n",
      "Epoch: 10 Test Loss: 0.8580902300097726 Accuracy: 0.6963068181818182 Time: 6.829834222793579 Learning Rate: 0.005 Batch Size: 32\n",
      "Epoch: 1 Test Loss: 1.1108120354739102 Accuracy: 0.5883522727272728 Time: 6.846362590789795 Learning Rate: 0.005 Batch Size: 64\n",
      "Epoch: 2 Test Loss: 1.0384349904277108 Accuracy: 0.6390625 Time: 4.969766139984131 Learning Rate: 0.005 Batch Size: 64\n",
      "Epoch: 3 Test Loss: 0.9997918443246321 Accuracy: 0.6535511363636364 Time: 4.876386404037476 Learning Rate: 0.005 Batch Size: 64\n",
      "Epoch: 4 Test Loss: 0.8587804951451041 Accuracy: 0.6914299242424242 Time: 5.1579248905181885 Learning Rate: 0.005 Batch Size: 64\n",
      "Epoch: 5 Test Loss: 0.8766856735402887 Accuracy: 0.6832859848484848 Time: 6.784016847610474 Learning Rate: 0.005 Batch Size: 64\n",
      "Epoch: 6 Test Loss: 0.8385260267691179 Accuracy: 0.7059659090909091 Time: 5.110655784606934 Learning Rate: 0.005 Batch Size: 64\n",
      "Epoch: 7 Test Loss: 0.8256345364180478 Accuracy: 0.7140151515151515 Time: 5.251135349273682 Learning Rate: 0.005 Batch Size: 64\n",
      "Epoch: 8 Test Loss: 0.8141585425897078 Accuracy: 0.7240530303030304 Time: 5.001118183135986 Learning Rate: 0.005 Batch Size: 64\n",
      "Epoch: 9 Test Loss: 0.7679591910405592 Accuracy: 0.7399621212121211 Time: 5.001856565475464 Learning Rate: 0.005 Batch Size: 64\n",
      "Epoch: 10 Test Loss: 0.77811645377766 Accuracy: 0.7378787878787879 Time: 6.7826149463653564 Learning Rate: 0.005 Batch Size: 64\n",
      "Epoch: 1 Test Loss: 1.3791212168606846 Accuracy: 0.4788352272727273 Time: 6.767777681350708 Learning Rate: 0.005 Batch Size: 128\n",
      "Epoch: 2 Test Loss: 1.1665570627559314 Accuracy: 0.5794507575757576 Time: 4.9574761390686035 Learning Rate: 0.005 Batch Size: 128\n",
      "Epoch: 3 Test Loss: 1.0667827020991931 Accuracy: 0.6225378787878788 Time: 5.5662055015563965 Learning Rate: 0.005 Batch Size: 128\n",
      "Epoch: 4 Test Loss: 1.0265431512485852 Accuracy: 0.631155303030303 Time: 6.855013847351074 Learning Rate: 0.005 Batch Size: 128\n",
      "Epoch: 5 Test Loss: 0.9840793772177263 Accuracy: 0.648342803030303 Time: 6.830650329589844 Learning Rate: 0.005 Batch Size: 128\n",
      "Epoch: 6 Test Loss: 1.0061104893684387 Accuracy: 0.6342329545454546 Time: 4.814777851104736 Learning Rate: 0.005 Batch Size: 128\n",
      "Epoch: 7 Test Loss: 0.9398712136528709 Accuracy: 0.6516098484848485 Time: 5.6257874965667725 Learning Rate: 0.005 Batch Size: 128\n",
      "Epoch: 8 Test Loss: 0.86865234375 Accuracy: 0.686032196969697 Time: 6.861834287643433 Learning Rate: 0.005 Batch Size: 128\n",
      "Epoch: 9 Test Loss: 0.8630471148274161 Accuracy: 0.6839015151515152 Time: 6.813926696777344 Learning Rate: 0.005 Batch Size: 128\n",
      "Epoch: 10 Test Loss: 0.8735115880315955 Accuracy: 0.6919507575757575 Time: 5.860931396484375 Learning Rate: 0.005 Batch Size: 128\n",
      "Epoch: 1 Test Loss: 1.1238970377228477 Accuracy: 0.5825757575757575 Time: 4.922777414321899 Learning Rate: 0.01 Batch Size: 16\n",
      "Epoch: 2 Test Loss: 1.0193251886151053 Accuracy: 0.6302083333333334 Time: 6.126325368881226 Learning Rate: 0.01 Batch Size: 16\n",
      "Epoch: 3 Test Loss: 1.0094741095196118 Accuracy: 0.6221590909090909 Time: 6.783556699752808 Learning Rate: 0.01 Batch Size: 16\n",
      "Epoch: 4 Test Loss: 0.9255105934359811 Accuracy: 0.6729640151515152 Time: 6.798863172531128 Learning Rate: 0.01 Batch Size: 16\n",
      "Epoch: 5 Test Loss: 0.8667814325202595 Accuracy: 0.7015625 Time: 4.9698991775512695 Learning Rate: 0.01 Batch Size: 16\n",
      "Epoch: 6 Test Loss: 0.9404430660334501 Accuracy: 0.6538825757575757 Time: 4.829131364822388 Learning Rate: 0.01 Batch Size: 16\n",
      "Epoch: 7 Test Loss: 0.8941560225053267 Accuracy: 0.6802083333333333 Time: 6.847686767578125 Learning Rate: 0.01 Batch Size: 16\n",
      "Epoch: 8 Test Loss: 0.8578336374326185 Accuracy: 0.7068181818181819 Time: 6.798320293426514 Learning Rate: 0.01 Batch Size: 16\n",
      "Epoch: 9 Test Loss: 0.8013803498311476 Accuracy: 0.7178977272727273 Time: 5.079177618026733 Learning Rate: 0.01 Batch Size: 16\n",
      "Epoch: 10 Test Loss: 0.8130250085483898 Accuracy: 0.7248579545454545 Time: 4.895303249359131 Learning Rate: 0.01 Batch Size: 16\n",
      "Epoch: 1 Test Loss: 1.073256647044962 Accuracy: 0.5937973484848484 Time: 5.219689607620239 Learning Rate: 0.01 Batch Size: 32\n",
      "Epoch: 2 Test Loss: 0.9811817136677828 Accuracy: 0.656344696969697 Time: 6.282395601272583 Learning Rate: 0.01 Batch Size: 32\n",
      "Epoch: 3 Test Loss: 0.9629946621981534 Accuracy: 0.6597064393939394 Time: 6.782022476196289 Learning Rate: 0.01 Batch Size: 32\n",
      "Epoch: 4 Test Loss: 0.8856322494420138 Accuracy: 0.6956912878787879 Time: 6.829582691192627 Learning Rate: 0.01 Batch Size: 32\n",
      "Epoch: 5 Test Loss: 0.8367838642813943 Accuracy: 0.6983901515151515 Time: 6.814057111740112 Learning Rate: 0.01 Batch Size: 32\n",
      "Epoch: 6 Test Loss: 0.7857959839430723 Accuracy: 0.7238162878787878 Time: 5.018646717071533 Learning Rate: 0.01 Batch Size: 32\n",
      "Epoch: 7 Test Loss: 0.7976843931458213 Accuracy: 0.7206912878787879 Time: 5.407676458358765 Learning Rate: 0.01 Batch Size: 32\n",
      "Epoch: 8 Test Loss: 0.769825201142918 Accuracy: 0.7413352272727273 Time: 6.79895281791687 Learning Rate: 0.01 Batch Size: 32\n",
      "Epoch: 9 Test Loss: 0.760470298203555 Accuracy: 0.7495738636363637 Time: 6.867063045501709 Learning Rate: 0.01 Batch Size: 32\n",
      "Epoch: 10 Test Loss: 0.7510143626819957 Accuracy: 0.742282196969697 Time: 4.893625736236572 Learning Rate: 0.01 Batch Size: 32\n",
      "Epoch: 1 Test Loss: 1.3746030276471919 Accuracy: 0.49829545454545454 Time: 5.651991128921509 Learning Rate: 0.01 Batch Size: 64\n",
      "Epoch: 2 Test Loss: 1.2412291087887504 Accuracy: 0.5444602272727272 Time: 6.845182657241821 Learning Rate: 0.01 Batch Size: 64\n",
      "Epoch: 3 Test Loss: 1.1444248990579085 Accuracy: 0.5803030303030302 Time: 6.738437175750732 Learning Rate: 0.01 Batch Size: 64\n",
      "Epoch: 4 Test Loss: 1.046138340776617 Accuracy: 0.5982007575757575 Time: 5.970627069473267 Learning Rate: 0.01 Batch Size: 64\n",
      "Epoch: 5 Test Loss: 0.9735789028081027 Accuracy: 0.6619791666666667 Time: 5.0333092212677 Learning Rate: 0.01 Batch Size: 64\n"
     ]
    },
    {
     "name": "stdout",
     "output_type": "stream",
     "text": [
      "Epoch: 6 Test Loss: 0.9280918674035505 Accuracy: 0.6791193181818183 Time: 5.210997581481934 Learning Rate: 0.01 Batch Size: 64\n",
      "Epoch: 7 Test Loss: 0.898053302006288 Accuracy: 0.6750473484848485 Time: 4.907936334609985 Learning Rate: 0.01 Batch Size: 64\n",
      "Epoch: 8 Test Loss: 0.8974095257845792 Accuracy: 0.6796401515151516 Time: 6.783086061477661 Learning Rate: 0.01 Batch Size: 64\n",
      "Epoch: 9 Test Loss: 0.8531815897334706 Accuracy: 0.7052083333333333 Time: 6.8006768226623535 Learning Rate: 0.01 Batch Size: 64\n",
      "Epoch: 10 Test Loss: 0.8270265107805078 Accuracy: 0.7143465909090909 Time: 6.877303123474121 Learning Rate: 0.01 Batch Size: 64\n",
      "Epoch: 1 Test Loss: 1.1310130899602717 Accuracy: 0.600094696969697 Time: 5.18829870223999 Learning Rate: 0.01 Batch Size: 128\n",
      "Epoch: 2 Test Loss: 0.9843537319790233 Accuracy: 0.6443655303030303 Time: 5.299611568450928 Learning Rate: 0.01 Batch Size: 128\n",
      "Epoch: 3 Test Loss: 0.9173311645334418 Accuracy: 0.676657196969697 Time: 4.8297343254089355 Learning Rate: 0.01 Batch Size: 128\n",
      "Epoch: 4 Test Loss: 0.9174148061058738 Accuracy: 0.6845170454545454 Time: 6.551281213760376 Learning Rate: 0.01 Batch Size: 128\n",
      "Epoch: 5 Test Loss: 0.8986552140929482 Accuracy: 0.6945549242424243 Time: 6.922871112823486 Learning Rate: 0.01 Batch Size: 128\n",
      "Epoch: 6 Test Loss: 0.871117811311375 Accuracy: 0.7026988636363636 Time: 6.782404899597168 Learning Rate: 0.01 Batch Size: 128\n",
      "Epoch: 7 Test Loss: 0.8081636510112069 Accuracy: 0.7258996212121211 Time: 4.883748292922974 Learning Rate: 0.01 Batch Size: 128\n",
      "Epoch: 8 Test Loss: 0.7989417558366602 Accuracy: 0.7300189393939394 Time: 6.773720741271973 Learning Rate: 0.01 Batch Size: 128\n",
      "Epoch: 9 Test Loss: 0.7958952323956923 Accuracy: 0.7334753787878788 Time: 6.7669901847839355 Learning Rate: 0.01 Batch Size: 128\n",
      "Epoch: 10 Test Loss: 0.7799019136212089 Accuracy: 0.7434185606060606 Time: 7.33696985244751 Learning Rate: 0.01 Batch Size: 128\n",
      "Epoch: 1 Test Loss: 1.1254170509901913 Accuracy: 0.5961647727272728 Time: 4.82992148399353 Learning Rate: 0.015 Batch Size: 16\n",
      "Epoch: 2 Test Loss: 0.9976599189368162 Accuracy: 0.6399621212121211 Time: 4.844617605209351 Learning Rate: 0.015 Batch Size: 16\n",
      "Epoch: 3 Test Loss: 0.9579747156663374 Accuracy: 0.6617424242424242 Time: 5.223302125930786 Learning Rate: 0.015 Batch Size: 16\n",
      "Epoch: 4 Test Loss: 0.8917238522659648 Accuracy: 0.6772253787878788 Time: 6.772345542907715 Learning Rate: 0.015 Batch Size: 16\n",
      "Epoch: 5 Test Loss: 0.825417548418045 Accuracy: 0.7071022727272728 Time: 6.814256429672241 Learning Rate: 0.015 Batch Size: 16\n",
      "Epoch: 6 Test Loss: 0.8184404589913108 Accuracy: 0.7196022727272727 Time: 6.4803571701049805 Learning Rate: 0.015 Batch Size: 16\n",
      "Epoch: 7 Test Loss: 0.8218447891148654 Accuracy: 0.7080492424242425 Time: 5.503412246704102 Learning Rate: 0.015 Batch Size: 16\n",
      "Epoch: 8 Test Loss: 0.8118227476423437 Accuracy: 0.7195075757575757 Time: 6.735740900039673 Learning Rate: 0.015 Batch Size: 16\n",
      "Epoch: 9 Test Loss: 0.7922631881453774 Accuracy: 0.7262310606060606 Time: 5.899636507034302 Learning Rate: 0.015 Batch Size: 16\n",
      "Epoch: 10 Test Loss: 0.7939784581010992 Accuracy: 0.7220643939393939 Time: 4.876142263412476 Learning Rate: 0.015 Batch Size: 16\n",
      "Epoch: 1 Test Loss: 1.3241033337332986 Accuracy: 0.5074810606060606 Time: 5.157089471817017 Learning Rate: 0.015 Batch Size: 32\n",
      "Epoch: 2 Test Loss: 1.1584024646065452 Accuracy: 0.5748579545454545 Time: 6.798665523529053 Learning Rate: 0.015 Batch Size: 32\n",
      "Epoch: 3 Test Loss: 1.0353064374490217 Accuracy: 0.6214015151515151 Time: 6.84507942199707 Learning Rate: 0.015 Batch Size: 32\n",
      "Epoch: 4 Test Loss: 1.0514997921206735 Accuracy: 0.6004261363636364 Time: 5.689008474349976 Learning Rate: 0.015 Batch Size: 32\n",
      "Epoch: 5 Test Loss: 0.9916312125596133 Accuracy: 0.6530303030303031 Time: 5.043209791183472 Learning Rate: 0.015 Batch Size: 32\n",
      "Epoch: 6 Test Loss: 0.9779392887245525 Accuracy: 0.6392045454545454 Time: 5.826185703277588 Learning Rate: 0.015 Batch Size: 32\n",
      "Epoch: 7 Test Loss: 0.9125703058459542 Accuracy: 0.671969696969697 Time: 6.7817018032073975 Learning Rate: 0.015 Batch Size: 32\n",
      "Epoch: 8 Test Loss: 0.8751514066349376 Accuracy: 0.6966856060606061 Time: 6.83021879196167 Learning Rate: 0.015 Batch Size: 32\n",
      "Epoch: 9 Test Loss: 0.8883084167133678 Accuracy: 0.6928977272727272 Time: 6.779815196990967 Learning Rate: 0.015 Batch Size: 32\n",
      "Epoch: 10 Test Loss: 0.8539264527234164 Accuracy: 0.6910037878787879 Time: 5.001766920089722 Learning Rate: 0.015 Batch Size: 32\n",
      "Epoch: 1 Test Loss: 1.0958683815869419 Accuracy: 0.610558712121212 Time: 5.962263107299805 Learning Rate: 0.015 Batch Size: 64\n",
      "Epoch: 2 Test Loss: 0.9393589767542753 Accuracy: 0.6733901515151515 Time: 5.644802570343018 Learning Rate: 0.015 Batch Size: 64\n",
      "Epoch: 3 Test Loss: 0.9141077372160825 Accuracy: 0.6853693181818182 Time: 5.141703367233276 Learning Rate: 0.015 Batch Size: 64\n",
      "Epoch: 4 Test Loss: 0.8961672403595664 Accuracy: 0.6890625 Time: 4.85256814956665 Learning Rate: 0.015 Batch Size: 64\n",
      "Epoch: 5 Test Loss: 0.8191121328960765 Accuracy: 0.7203598484848485 Time: 5.624725341796875 Learning Rate: 0.015 Batch Size: 64\n",
      "Epoch: 6 Test Loss: 0.8022416775876825 Accuracy: 0.7369791666666667 Time: 6.784764528274536 Learning Rate: 0.015 Batch Size: 64\n",
      "Epoch: 7 Test Loss: 0.7700603685595773 Accuracy: 0.7364583333333333 Time: 6.813918352127075 Learning Rate: 0.015 Batch Size: 64\n",
      "Epoch: 8 Test Loss: 0.8085368248549375 Accuracy: 0.7343276515151516 Time: 4.861188650131226 Learning Rate: 0.015 Batch Size: 64\n",
      "Epoch: 9 Test Loss: 0.774835082617673 Accuracy: 0.74375 Time: 4.875506401062012 Learning Rate: 0.015 Batch Size: 64\n",
      "Epoch: 10 Test Loss: 0.8253917775370858 Accuracy: 0.7282670454545456 Time: 6.34735894203186 Learning Rate: 0.015 Batch Size: 64\n",
      "Epoch: 1 Test Loss: 1.1528473008762707 Accuracy: 0.5650094696969696 Time: 6.845583915710449 Learning Rate: 0.015 Batch Size: 128\n",
      "Epoch: 2 Test Loss: 1.0830846699801358 Accuracy: 0.6096117424242424 Time: 5.188929557800293 Learning Rate: 0.015 Batch Size: 128\n",
      "Epoch: 3 Test Loss: 0.9928470687432722 Accuracy: 0.6626893939393939 Time: 5.720424652099609 Learning Rate: 0.015 Batch Size: 128\n",
      "Epoch: 4 Test Loss: 0.8806357925588434 Accuracy: 0.6994318181818181 Time: 6.799783706665039 Learning Rate: 0.015 Batch Size: 128\n",
      "Epoch: 5 Test Loss: 0.9648317423733798 Accuracy: 0.6604640151515151 Time: 6.682837247848511 Learning Rate: 0.015 Batch Size: 128\n",
      "Epoch: 6 Test Loss: 0.8881194862452421 Accuracy: 0.6948863636363636 Time: 4.861232280731201 Learning Rate: 0.015 Batch Size: 128\n",
      "Epoch: 7 Test Loss: 0.8260712108828805 Accuracy: 0.7089015151515151 Time: 5.31601357460022 Learning Rate: 0.015 Batch Size: 128\n",
      "Epoch: 8 Test Loss: 0.8266445723446932 Accuracy: 0.7127367424242425 Time: 6.768605470657349 Learning Rate: 0.015 Batch Size: 128\n",
      "Epoch: 9 Test Loss: 0.8149521486325697 Accuracy: 0.7292140151515152 Time: 6.768097877502441 Learning Rate: 0.015 Batch Size: 128\n",
      "Epoch: 10 Test Loss: 0.7989120943979784 Accuracy: 0.7348958333333333 Time: 6.063679456710815 Learning Rate: 0.015 Batch Size: 128\n",
      "Epoch: 1 Test Loss: 1.0938467193733563 Accuracy: 0.5917613636363637 Time: 5.691823720932007 Learning Rate: 0.02 Batch Size: 16\n",
      "Epoch: 2 Test Loss: 0.934827983379364 Accuracy: 0.6773674242424242 Time: 6.806748867034912 Learning Rate: 0.02 Batch Size: 16\n",
      "Epoch: 3 Test Loss: 0.8885618231513284 Accuracy: 0.6956439393939394 Time: 6.83011269569397 Learning Rate: 0.02 Batch Size: 16\n",
      "Epoch: 4 Test Loss: 0.8883300640366294 Accuracy: 0.6806344696969697 Time: 4.938962936401367 Learning Rate: 0.02 Batch Size: 16\n",
      "Epoch: 5 Test Loss: 0.783446645194834 Accuracy: 0.725 Time: 4.938807249069214 Learning Rate: 0.02 Batch Size: 16\n",
      "Epoch: 6 Test Loss: 0.8504935340447859 Accuracy: 0.7003314393939394 Time: 6.73677134513855 Learning Rate: 0.02 Batch Size: 16\n",
      "Epoch: 7 Test Loss: 0.8462889980186116 Accuracy: 0.7059185606060606 Time: 5.783089637756348 Learning Rate: 0.02 Batch Size: 16\n",
      "Epoch: 8 Test Loss: 0.7983206862753088 Accuracy: 0.7201231060606061 Time: 5.432588815689087 Learning Rate: 0.02 Batch Size: 16\n",
      "Epoch: 9 Test Loss: 0.7967312010851774 Accuracy: 0.7231060606060606 Time: 4.907050609588623 Learning Rate: 0.02 Batch Size: 16\n",
      "Epoch: 10 Test Loss: 0.778171799399636 Accuracy: 0.7407670454545454 Time: 5.268676042556763 Learning Rate: 0.02 Batch Size: 16\n"
     ]
    },
    {
     "name": "stdout",
     "output_type": "stream",
     "text": [
      "Epoch: 1 Test Loss: 1.1002192443067378 Accuracy: 0.5910984848484848 Time: 5.328543186187744 Learning Rate: 0.02 Batch Size: 32\n",
      "Epoch: 2 Test Loss: 1.0102324458685787 Accuracy: 0.6384469696969698 Time: 6.812988758087158 Learning Rate: 0.02 Batch Size: 32\n",
      "Epoch: 3 Test Loss: 0.8974717096848921 Accuracy: 0.682717803030303 Time: 6.844066143035889 Learning Rate: 0.02 Batch Size: 32\n",
      "Epoch: 4 Test Loss: 0.8839588815515692 Accuracy: 0.6937973484848485 Time: 6.455289363861084 Learning Rate: 0.02 Batch Size: 32\n",
      "Epoch: 5 Test Loss: 0.8213734437118877 Accuracy: 0.713873106060606 Time: 4.909032344818115 Learning Rate: 0.02 Batch Size: 32\n",
      "Epoch: 6 Test Loss: 0.816262117841027 Accuracy: 0.7287405303030302 Time: 6.7730114459991455 Learning Rate: 0.02 Batch Size: 32\n",
      "Epoch: 7 Test Loss: 0.8090756291692908 Accuracy: 0.7289772727272728 Time: 6.829627275466919 Learning Rate: 0.02 Batch Size: 32\n",
      "Epoch: 8 Test Loss: 0.8022653975270011 Accuracy: 0.7399147727272727 Time: 6.896316766738892 Learning Rate: 0.02 Batch Size: 32\n",
      "Epoch: 9 Test Loss: 0.7792221063917334 Accuracy: 0.7338541666666667 Time: 5.191105127334595 Learning Rate: 0.02 Batch Size: 32\n",
      "Epoch: 10 Test Loss: 0.7941009348089044 Accuracy: 0.7410984848484848 Time: 5.226586818695068 Learning Rate: 0.02 Batch Size: 32\n",
      "Epoch: 1 Test Loss: 1.5095044049349697 Accuracy: 0.43892045454545453 Time: 4.9387383460998535 Learning Rate: 0.02 Batch Size: 64\n",
      "Epoch: 2 Test Loss: 1.251039819283919 Accuracy: 0.5363636363636364 Time: 6.829550743103027 Learning Rate: 0.02 Batch Size: 64\n",
      "Epoch: 3 Test Loss: 1.1187869662588292 Accuracy: 0.6083806818181818 Time: 6.782966375350952 Learning Rate: 0.02 Batch Size: 64\n",
      "Epoch: 4 Test Loss: 1.0051847425374119 Accuracy: 0.6322443181818183 Time: 4.76729941368103 Learning Rate: 0.02 Batch Size: 64\n",
      "Epoch: 5 Test Loss: 0.9770093316381628 Accuracy: 0.6495738636363636 Time: 4.860913515090942 Learning Rate: 0.02 Batch Size: 64\n",
      "Epoch: 6 Test Loss: 0.9527276347983967 Accuracy: 0.6691761363636364 Time: 5.173751592636108 Learning Rate: 0.02 Batch Size: 64\n",
      "Epoch: 7 Test Loss: 0.8928621086207303 Accuracy: 0.6882102272727273 Time: 6.782410621643066 Learning Rate: 0.02 Batch Size: 64\n",
      "Epoch: 8 Test Loss: 0.9287043660879135 Accuracy: 0.6710700757575757 Time: 6.908809185028076 Learning Rate: 0.02 Batch Size: 64\n",
      "Epoch: 9 Test Loss: 0.9072110625830564 Accuracy: 0.6862689393939394 Time: 5.5597991943359375 Learning Rate: 0.02 Batch Size: 64\n",
      "Epoch: 10 Test Loss: 0.8484666997736151 Accuracy: 0.7019886363636364 Time: 4.876056909561157 Learning Rate: 0.02 Batch Size: 64\n",
      "Epoch: 1 Test Loss: 1.231470292264765 Accuracy: 0.5565340909090909 Time: 6.829472541809082 Learning Rate: 0.02 Batch Size: 128\n",
      "Epoch: 2 Test Loss: 0.980705125765367 Accuracy: 0.650189393939394 Time: 6.950982332229614 Learning Rate: 0.02 Batch Size: 128\n",
      "Epoch: 3 Test Loss: 0.9334160360423002 Accuracy: 0.6812026515151515 Time: 4.923394441604614 Learning Rate: 0.02 Batch Size: 128\n",
      "Epoch: 4 Test Loss: 0.8390738828615709 Accuracy: 0.707907196969697 Time: 4.860476016998291 Learning Rate: 0.02 Batch Size: 128\n",
      "Epoch: 5 Test Loss: 0.8605985776944594 Accuracy: 0.7062973484848485 Time: 4.829161882400513 Learning Rate: 0.02 Batch Size: 128\n",
      "Epoch: 6 Test Loss: 0.8079237016764554 Accuracy: 0.7140624999999999 Time: 6.975118160247803 Learning Rate: 0.02 Batch Size: 128\n",
      "Epoch: 7 Test Loss: 0.8162011910568584 Accuracy: 0.7122632575757576 Time: 6.816157341003418 Learning Rate: 0.02 Batch Size: 128\n",
      "Epoch: 8 Test Loss: 0.8107400644909252 Accuracy: 0.7134943181818182 Time: 5.876767635345459 Learning Rate: 0.02 Batch Size: 128\n",
      "Epoch: 9 Test Loss: 0.7686337720264088 Accuracy: 0.7372632575757575 Time: 4.938662528991699 Learning Rate: 0.02 Batch Size: 128\n",
      "Epoch: 10 Test Loss: 0.7847209003838626 Accuracy: 0.7338541666666667 Time: 5.767649173736572 Learning Rate: 0.02 Batch Size: 128\n"
     ]
    }
   ],
   "source": [
    "for i in range(4):\n",
    "    for j in range(4,8):\n",
    "        model, criterion, optimizer = initModel(True, device, \"\", learningRate,MyNet7)\n",
    "    \n",
    "        # main training loop for model\n",
    "        trainLosses, testLosses, trainAccuracies, testAccuracies = epochLoop(epochNumber, model, train_dataloader, test_dataloader, criterion, device, optimizer, batchSize**j, (learningRate+(learningRate*i)))"
   ]
  },
  {
   "attachments": {
    "32-2Conv-2Fc-Tablo-11.png": {
     "image/png": "[encoded data removed]"
    }
   },
   "cell_type": "markdown",
   "metadata": {},
   "source": [
    "![32-2Conv-2Fc-Tablo-11.png](attachment:32-2Conv-2Fc-Tablo-11.png)"
   ]
  },
  {
   "cell_type": "markdown",
   "metadata": {},
   "source": [
    "##### I choosed lr=0.01, batch size=128. It gives 0.743 accuracy in 2CONV 2FC model."
   ]
  },
  {
   "cell_type": "code",
   "execution_count": 40,
   "metadata": {},
   "outputs": [],
   "source": [
    "class MyNet8(nn.Module):\n",
    "    def __init__(self):\n",
    "        super(MyNet8, self).__init__()\n",
    "        self.model = nn.Sequential(\n",
    "            nn.Conv2d(3, 16, kernel_size=3, padding=1),\n",
    "            nn.ReLU(),\n",
    "            nn.MaxPool2d(2, 2),\n",
    "\n",
    "            nn.Conv2d(16, 32, kernel_size=3, padding=1),\n",
    "            nn.ReLU(),\n",
    "            nn.MaxPool2d(2, 2),\n",
    "\n",
    "            nn.Conv2d(32, 64, kernel_size=3, padding=1),\n",
    "            nn.ReLU(),\n",
    "            nn.MaxPool2d(2, 2),\n",
    "\n",
    "            nn.Conv2d(64, 128, kernel_size=3, padding=1),\n",
    "            nn.ReLU(),\n",
    "            nn.MaxPool2d(2, 2),\n",
    "\n",
    "            nn.Conv2d(128, 256, kernel_size=3, padding=1),\n",
    "            nn.ReLU(),\n",
    "            nn.MaxPool2d(2, 2),\n",
    "        ).to(device)\n",
    "\n",
    "        # nn.Dropout(0.25),\n",
    "        # nn.Dropout(0.5),\n",
    "        self.classifier = nn.Sequential(\n",
    "            nn.Flatten(),\n",
    "            nn.Linear(256, 128),\n",
    "            nn.ReLU(),\n",
    "            nn.Linear(128, 7)\n",
    "        ).to(device)\n",
    "\n",
    "    def forward(self, value):\n",
    "        value = self.model(value)\n",
    "        value = self.classifier(value)\n",
    "        return value"
   ]
  },
  {
   "cell_type": "code",
   "execution_count": 41,
   "metadata": {},
   "outputs": [
    {
     "name": "stdout",
     "output_type": "stream",
     "text": [
      "Epoch: 1 Test Loss: 1.5584378838539124 Accuracy: 0.3819602272727272 Time: 6.313730001449585 Learning Rate: 0.005 Batch Size: 16\n",
      "Epoch: 2 Test Loss: 1.2840059399604797 Accuracy: 0.4824810606060606 Time: 6.829691410064697 Learning Rate: 0.005 Batch Size: 16\n",
      "Epoch: 3 Test Loss: 1.1354827176440845 Accuracy: 0.5596117424242425 Time: 7.009033679962158 Learning Rate: 0.005 Batch Size: 16\n",
      "Epoch: 4 Test Loss: 1.0607886151833967 Accuracy: 0.6116003787878788 Time: 4.823484659194946 Learning Rate: 0.005 Batch Size: 16\n",
      "Epoch: 5 Test Loss: 1.0381353741342372 Accuracy: 0.6334280303030303 Time: 4.765843629837036 Learning Rate: 0.005 Batch Size: 16\n",
      "Epoch: 6 Test Loss: 0.9772507575425234 Accuracy: 0.6529829545454545 Time: 5.9554972648620605 Learning Rate: 0.005 Batch Size: 16\n",
      "Epoch: 7 Test Loss: 0.9237254641272805 Accuracy: 0.673342803030303 Time: 6.992450475692749 Learning Rate: 0.005 Batch Size: 16\n",
      "Epoch: 8 Test Loss: 0.8889250213449652 Accuracy: 0.6849905303030304 Time: 6.846885681152344 Learning Rate: 0.005 Batch Size: 16\n",
      "Epoch: 9 Test Loss: 0.9052406088872389 Accuracy: 0.6728693181818182 Time: 6.221612930297852 Learning Rate: 0.005 Batch Size: 16\n",
      "Epoch: 10 Test Loss: 0.871252791448073 Accuracy: 0.6848011363636364 Time: 5.51729941368103 Learning Rate: 0.005 Batch Size: 16\n",
      "Epoch: 1 Test Loss: 1.440342052416368 Accuracy: 0.4481534090909091 Time: 5.4648425579071045 Learning Rate: 0.005 Batch Size: 32\n",
      "Epoch: 2 Test Loss: 1.2685325823046945 Accuracy: 0.5032670454545455 Time: 6.375327110290527 Learning Rate: 0.005 Batch Size: 32\n",
      "Epoch: 3 Test Loss: 1.1409409208731218 Accuracy: 0.5570075757575758 Time: 6.89122200012207 Learning Rate: 0.005 Batch Size: 32\n",
      "Epoch: 4 Test Loss: 1.0663170977072283 Accuracy: 0.6038352272727273 Time: 5.67270565032959 Learning Rate: 0.005 Batch Size: 32\n",
      "Epoch: 5 Test Loss: 1.0234355167909102 Accuracy: 0.65 Time: 5.157746076583862 Learning Rate: 0.005 Batch Size: 32\n",
      "Epoch: 6 Test Loss: 0.9651640165935863 Accuracy: 0.6739583333333333 Time: 5.706596374511719 Learning Rate: 0.005 Batch Size: 32\n",
      "Epoch: 7 Test Loss: 1.0025621246207843 Accuracy: 0.6604166666666667 Time: 5.2048773765563965 Learning Rate: 0.005 Batch Size: 32\n",
      "Epoch: 8 Test Loss: 0.9261167293245142 Accuracy: 0.6871212121212121 Time: 5.579840898513794 Learning Rate: 0.005 Batch Size: 32\n",
      "Epoch: 9 Test Loss: 0.920262174172835 Accuracy: 0.6871212121212121 Time: 6.7820961475372314 Learning Rate: 0.005 Batch Size: 32\n",
      "Epoch: 10 Test Loss: 0.9193028888919137 Accuracy: 0.6791666666666667 Time: 6.775331497192383 Learning Rate: 0.005 Batch Size: 32\n",
      "Epoch: 1 Test Loss: 1.5119140310720964 Accuracy: 0.34152462121212124 Time: 6.347177028656006 Learning Rate: 0.005 Batch Size: 64\n",
      "Epoch: 2 Test Loss: 1.1244075135751204 Accuracy: 0.5575284090909091 Time: 4.937724590301514 Learning Rate: 0.005 Batch Size: 64\n",
      "Epoch: 3 Test Loss: 1.1804226149212231 Accuracy: 0.5371685606060607 Time: 5.2197957038879395 Learning Rate: 0.005 Batch Size: 64\n",
      "Epoch: 4 Test Loss: 0.9595874439586293 Accuracy: 0.648532196969697 Time: 4.875736474990845 Learning Rate: 0.005 Batch Size: 64\n",
      "Epoch: 5 Test Loss: 0.919590028849515 Accuracy: 0.6778409090909091 Time: 6.767425298690796 Learning Rate: 0.005 Batch Size: 64\n",
      "Epoch: 6 Test Loss: 0.9956780753352426 Accuracy: 0.6253787878787879 Time: 6.891272068023682 Learning Rate: 0.005 Batch Size: 64\n",
      "Epoch: 7 Test Loss: 0.8532823297110471 Accuracy: 0.7036458333333333 Time: 4.955301523208618 Learning Rate: 0.005 Batch Size: 64\n",
      "Epoch: 8 Test Loss: 0.8412456485358152 Accuracy: 0.7056344696969696 Time: 5.409964084625244 Learning Rate: 0.005 Batch Size: 64\n",
      "Epoch: 9 Test Loss: 0.7569738220084797 Accuracy: 0.7388257575757575 Time: 6.831432342529297 Learning Rate: 0.005 Batch Size: 64\n",
      "Epoch: 10 Test Loss: 0.7697096304460005 Accuracy: 0.7262310606060606 Time: 6.8292601108551025 Learning Rate: 0.005 Batch Size: 64\n",
      "Epoch: 1 Test Loss: 1.4090527404438367 Accuracy: 0.4581912878787879 Time: 5.985703468322754 Learning Rate: 0.005 Batch Size: 128\n",
      "Epoch: 2 Test Loss: 1.142350429838354 Accuracy: 0.5824810606060606 Time: 4.954986572265625 Learning Rate: 0.005 Batch Size: 128\n",
      "Epoch: 3 Test Loss: 1.028510575944727 Accuracy: 0.6388257575757575 Time: 4.957152843475342 Learning Rate: 0.005 Batch Size: 128\n",
      "Epoch: 4 Test Loss: 1.0800327279350974 Accuracy: 0.6061079545454545 Time: 4.93816065788269 Learning Rate: 0.005 Batch Size: 128\n",
      "Epoch: 5 Test Loss: 1.0586189979856664 Accuracy: 0.637594696969697 Time: 6.336814880371094 Learning Rate: 0.005 Batch Size: 128\n",
      "Epoch: 6 Test Loss: 0.9548864310437982 Accuracy: 0.6610795454545454 Time: 7.032421588897705 Learning Rate: 0.005 Batch Size: 128\n",
      "Epoch: 7 Test Loss: 0.9658037207343362 Accuracy: 0.6684185606060606 Time: 6.798947095870972 Learning Rate: 0.005 Batch Size: 128\n",
      "Epoch: 8 Test Loss: 0.8805255402218212 Accuracy: 0.6869791666666667 Time: 5.173126697540283 Learning Rate: 0.005 Batch Size: 128\n",
      "Epoch: 9 Test Loss: 0.8351249505173076 Accuracy: 0.6991003787878788 Time: 4.908235549926758 Learning Rate: 0.005 Batch Size: 128\n",
      "Epoch: 10 Test Loss: 0.893487962809476 Accuracy: 0.6859848484848485 Time: 5.002766132354736 Learning Rate: 0.005 Batch Size: 128\n",
      "Epoch: 1 Test Loss: 1.3291388966820457 Accuracy: 0.4794034090909091 Time: 4.922706365585327 Learning Rate: 0.01 Batch Size: 16\n",
      "Epoch: 2 Test Loss: 1.0972030460834503 Accuracy: 0.5912878787878788 Time: 6.87715744972229 Learning Rate: 0.01 Batch Size: 16\n",
      "Epoch: 3 Test Loss: 1.04718140038577 Accuracy: 0.6092329545454546 Time: 6.861665964126587 Learning Rate: 0.01 Batch Size: 16\n",
      "Epoch: 4 Test Loss: 0.9391595043919303 Accuracy: 0.6762310606060606 Time: 6.790452718734741 Learning Rate: 0.01 Batch Size: 16\n",
      "Epoch: 5 Test Loss: 0.8916123807430267 Accuracy: 0.6659564393939393 Time: 4.846530914306641 Learning Rate: 0.01 Batch Size: 16\n",
      "Epoch: 6 Test Loss: 0.853434378450567 Accuracy: 0.6915246212121212 Time: 5.67415189743042 Learning Rate: 0.01 Batch Size: 16\n",
      "Epoch: 7 Test Loss: 0.8663998679681257 Accuracy: 0.696590909090909 Time: 4.985784530639648 Learning Rate: 0.01 Batch Size: 16\n",
      "Epoch: 8 Test Loss: 0.8429812897335399 Accuracy: 0.6998106060606061 Time: 5.550082445144653 Learning Rate: 0.01 Batch Size: 16\n",
      "Epoch: 9 Test Loss: 0.817265822128816 Accuracy: 0.7099905303030303 Time: 5.423442840576172 Learning Rate: 0.01 Batch Size: 16\n",
      "Epoch: 10 Test Loss: 0.8208106160163879 Accuracy: 0.7209753787878788 Time: 6.82938289642334 Learning Rate: 0.01 Batch Size: 16\n",
      "Epoch: 1 Test Loss: 1.3550916097380898 Accuracy: 0.45965909090909096 Time: 6.8621909618377686 Learning Rate: 0.01 Batch Size: 32\n",
      "Epoch: 2 Test Loss: 1.1753823865543713 Accuracy: 0.5576704545454546 Time: 4.933466672897339 Learning Rate: 0.01 Batch Size: 32\n",
      "Epoch: 3 Test Loss: 1.0544519153508274 Accuracy: 0.6140625000000001 Time: 5.301689863204956 Learning Rate: 0.01 Batch Size: 32\n",
      "Epoch: 4 Test Loss: 0.9573450034314935 Accuracy: 0.6377840909090909 Time: 4.93914532661438 Learning Rate: 0.01 Batch Size: 32\n",
      "Epoch: 5 Test Loss: 0.9193791476162997 Accuracy: 0.6760416666666667 Time: 4.908047437667847 Learning Rate: 0.01 Batch Size: 32\n",
      "Epoch: 6 Test Loss: 0.8690926053307273 Accuracy: 0.698248106060606 Time: 6.682465076446533 Learning Rate: 0.01 Batch Size: 32\n",
      "Epoch: 7 Test Loss: 0.8475226190957156 Accuracy: 0.7133049242424243 Time: 5.4079248905181885 Learning Rate: 0.01 Batch Size: 32\n",
      "Epoch: 8 Test Loss: 0.8275162062861703 Accuracy: 0.707907196969697 Time: 5.422370433807373 Learning Rate: 0.01 Batch Size: 32\n",
      "Epoch: 9 Test Loss: 0.7887474163012071 Accuracy: 0.7285037878787879 Time: 5.283298492431641 Learning Rate: 0.01 Batch Size: 32\n",
      "Epoch: 10 Test Loss: 0.8218384032899683 Accuracy: 0.7191287878787879 Time: 6.2674994468688965 Learning Rate: 0.01 Batch Size: 32\n",
      "Epoch: 1 Test Loss: 1.3779728710651398 Accuracy: 0.4462121212121212 Time: 6.8295814990997314 Learning Rate: 0.01 Batch Size: 64\n",
      "Epoch: 2 Test Loss: 1.2112604975700378 Accuracy: 0.5400094696969697 Time: 6.925793170928955 Learning Rate: 0.01 Batch Size: 64\n",
      "Epoch: 3 Test Loss: 0.9829174957492135 Accuracy: 0.6366003787878788 Time: 6.1424477100372314 Learning Rate: 0.01 Batch Size: 64\n",
      "Epoch: 4 Test Loss: 1.030662945725701 Accuracy: 0.6205965909090909 Time: 4.861910820007324 Learning Rate: 0.01 Batch Size: 64\n",
      "Epoch: 5 Test Loss: 0.9535397670485757 Accuracy: 0.6613636363636364 Time: 4.922377109527588 Learning Rate: 0.01 Batch Size: 64\n"
     ]
    },
    {
     "name": "stdout",
     "output_type": "stream",
     "text": [
      "Epoch: 6 Test Loss: 0.9335240586237474 Accuracy: 0.6800189393939394 Time: 5.876572370529175 Learning Rate: 0.01 Batch Size: 64\n",
      "Epoch: 7 Test Loss: 0.8757542832331224 Accuracy: 0.6943181818181818 Time: 6.861812353134155 Learning Rate: 0.01 Batch Size: 64\n",
      "Epoch: 8 Test Loss: 0.8481251163916155 Accuracy: 0.7073390151515151 Time: 6.818201780319214 Learning Rate: 0.01 Batch Size: 64\n",
      "Epoch: 9 Test Loss: 0.8512922701510516 Accuracy: 0.7142045454545455 Time: 6.081555128097534 Learning Rate: 0.01 Batch Size: 64\n",
      "Epoch: 10 Test Loss: 0.862345961007205 Accuracy: 0.6843750000000001 Time: 5.73569393157959 Learning Rate: 0.01 Batch Size: 64\n",
      "Epoch: 1 Test Loss: 1.435158296064897 Accuracy: 0.42604166666666665 Time: 4.938539743423462 Learning Rate: 0.01 Batch Size: 128\n",
      "Epoch: 2 Test Loss: 1.1707957766272805 Accuracy: 0.546780303030303 Time: 6.814251661300659 Learning Rate: 0.01 Batch Size: 128\n",
      "Epoch: 3 Test Loss: 1.0655916983431035 Accuracy: 0.5988162878787878 Time: 6.861154556274414 Learning Rate: 0.01 Batch Size: 128\n",
      "Epoch: 4 Test Loss: 0.9787772731347517 Accuracy: 0.6538825757575757 Time: 6.377002239227295 Learning Rate: 0.01 Batch Size: 128\n",
      "Epoch: 5 Test Loss: 0.9605346051129428 Accuracy: 0.6763731060606061 Time: 4.9382452964782715 Learning Rate: 0.01 Batch Size: 128\n",
      "Epoch: 6 Test Loss: 0.8496147800575603 Accuracy: 0.6897727272727273 Time: 5.143883228302002 Learning Rate: 0.01 Batch Size: 128\n",
      "Epoch: 7 Test Loss: 0.8547135049646551 Accuracy: 0.6965435606060606 Time: 6.8297107219696045 Learning Rate: 0.01 Batch Size: 128\n",
      "Epoch: 8 Test Loss: 0.823794421824542 Accuracy: 0.7119791666666667 Time: 6.907612085342407 Learning Rate: 0.01 Batch Size: 128\n",
      "Epoch: 9 Test Loss: 0.817496351220391 Accuracy: 0.7067708333333333 Time: 6.907815217971802 Learning Rate: 0.01 Batch Size: 128\n",
      "Epoch: 10 Test Loss: 0.8236334784464403 Accuracy: 0.7072443181818181 Time: 5.438422679901123 Learning Rate: 0.01 Batch Size: 128\n",
      "Epoch: 1 Test Loss: 1.437330180948431 Accuracy: 0.4240056818181818 Time: 5.471336126327515 Learning Rate: 0.015 Batch Size: 16\n",
      "Epoch: 2 Test Loss: 1.08578883246942 Accuracy: 0.5683238636363637 Time: 5.657573223114014 Learning Rate: 0.015 Batch Size: 16\n",
      "Epoch: 3 Test Loss: 1.0882404500787908 Accuracy: 0.587689393939394 Time: 6.111839056015015 Learning Rate: 0.015 Batch Size: 16\n",
      "Epoch: 4 Test Loss: 0.9236443692987616 Accuracy: 0.6629261363636364 Time: 6.834789991378784 Learning Rate: 0.015 Batch Size: 16\n",
      "Epoch: 5 Test Loss: 0.8926398158073425 Accuracy: 0.6907670454545455 Time: 6.8290605545043945 Learning Rate: 0.015 Batch Size: 16\n",
      "Epoch: 6 Test Loss: 0.886526416648518 Accuracy: 0.6893465909090909 Time: 6.797891616821289 Learning Rate: 0.015 Batch Size: 16\n",
      "Epoch: 7 Test Loss: 0.816830494187095 Accuracy: 0.7199810606060606 Time: 6.814008474349976 Learning Rate: 0.015 Batch Size: 16\n",
      "Epoch: 8 Test Loss: 0.8312972458926114 Accuracy: 0.7198390151515152 Time: 5.3607518672943115 Learning Rate: 0.015 Batch Size: 16\n",
      "Epoch: 9 Test Loss: 0.7884329476139762 Accuracy: 0.7286931818181818 Time: 5.299506187438965 Learning Rate: 0.015 Batch Size: 16\n",
      "Epoch: 10 Test Loss: 0.7899976968765259 Accuracy: 0.7327178030303031 Time: 5.672404527664185 Learning Rate: 0.015 Batch Size: 16\n",
      "Epoch: 1 Test Loss: 1.5880064855922351 Accuracy: 0.3678977272727273 Time: 5.2508533000946045 Learning Rate: 0.015 Batch Size: 32\n",
      "Epoch: 2 Test Loss: 1.136866415088827 Accuracy: 0.5826704545454545 Time: 5.0515265464782715 Learning Rate: 0.015 Batch Size: 32\n",
      "Epoch: 3 Test Loss: 1.0116915892470966 Accuracy: 0.6288352272727272 Time: 6.8003668785095215 Learning Rate: 0.015 Batch Size: 32\n",
      "Epoch: 4 Test Loss: 0.9336027123711326 Accuracy: 0.6636363636363636 Time: 6.814027786254883 Learning Rate: 0.015 Batch Size: 32\n",
      "Epoch: 5 Test Loss: 0.9326036193154075 Accuracy: 0.6705492424242424 Time: 6.833348989486694 Learning Rate: 0.015 Batch Size: 32\n",
      "Epoch: 6 Test Loss: 0.8786041005091234 Accuracy: 0.682717803030303 Time: 6.016695022583008 Learning Rate: 0.015 Batch Size: 32\n",
      "Epoch: 7 Test Loss: 0.8462880904024298 Accuracy: 0.6981534090909091 Time: 5.407277584075928 Learning Rate: 0.015 Batch Size: 32\n",
      "Epoch: 8 Test Loss: 0.8708365803415125 Accuracy: 0.6853693181818182 Time: 5.62706446647644 Learning Rate: 0.015 Batch Size: 32\n",
      "Epoch: 9 Test Loss: 0.8533071685921062 Accuracy: 0.7009943181818182 Time: 5.908932447433472 Learning Rate: 0.015 Batch Size: 32\n",
      "Epoch: 10 Test Loss: 0.8197838718240912 Accuracy: 0.7008522727272727 Time: 6.800198793411255 Learning Rate: 0.015 Batch Size: 32\n",
      "Epoch: 1 Test Loss: 1.2387322079051624 Accuracy: 0.515625 Time: 6.112462282180786 Learning Rate: 0.015 Batch Size: 64\n",
      "Epoch: 2 Test Loss: 1.1752537055449053 Accuracy: 0.5553503787878787 Time: 4.939979553222656 Learning Rate: 0.015 Batch Size: 64\n",
      "Epoch: 3 Test Loss: 1.043307201428847 Accuracy: 0.618655303030303 Time: 4.954025506973267 Learning Rate: 0.015 Batch Size: 64\n",
      "Epoch: 4 Test Loss: 0.9547931579026309 Accuracy: 0.6460700757575757 Time: 5.278642177581787 Learning Rate: 0.015 Batch Size: 64\n",
      "Epoch: 5 Test Loss: 0.8772647963328795 Accuracy: 0.6872159090909091 Time: 5.813916206359863 Learning Rate: 0.015 Batch Size: 64\n",
      "Epoch: 6 Test Loss: 0.8328712501309135 Accuracy: 0.7089488636363637 Time: 6.900965213775635 Learning Rate: 0.015 Batch Size: 64\n",
      "Epoch: 7 Test Loss: 0.7957202954725786 Accuracy: 0.7276988636363636 Time: 6.807304859161377 Learning Rate: 0.015 Batch Size: 64\n",
      "Epoch: 8 Test Loss: 0.7729960680007935 Accuracy: 0.7418087121212121 Time: 5.812676668167114 Learning Rate: 0.015 Batch Size: 64\n",
      "Epoch: 9 Test Loss: 0.8205048157410189 Accuracy: 0.7185606060606061 Time: 6.970851898193359 Learning Rate: 0.015 Batch Size: 64\n",
      "Epoch: 10 Test Loss: 0.7494820735671304 Accuracy: 0.7448390151515152 Time: 5.625928163528442 Learning Rate: 0.015 Batch Size: 64\n",
      "Epoch: 1 Test Loss: 1.2745659513907 Accuracy: 0.5002367424242424 Time: 5.829582214355469 Learning Rate: 0.015 Batch Size: 128\n",
      "Epoch: 2 Test Loss: 1.0770145058631897 Accuracy: 0.5927556818181818 Time: 5.940989017486572 Learning Rate: 0.015 Batch Size: 128\n",
      "Epoch: 3 Test Loss: 1.0244204645807093 Accuracy: 0.6257102272727273 Time: 5.735444068908691 Learning Rate: 0.015 Batch Size: 128\n",
      "Epoch: 4 Test Loss: 0.9627497521313754 Accuracy: 0.6606534090909091 Time: 5.266607761383057 Learning Rate: 0.015 Batch Size: 128\n",
      "Epoch: 5 Test Loss: 0.920009195804596 Accuracy: 0.6701704545454545 Time: 5.7528076171875 Learning Rate: 0.015 Batch Size: 128\n",
      "Epoch: 6 Test Loss: 0.8983167735013095 Accuracy: 0.6686079545454545 Time: 5.054111480712891 Learning Rate: 0.015 Batch Size: 128\n",
      "Epoch: 7 Test Loss: 0.8770403374325145 Accuracy: 0.6967329545454546 Time: 4.97227144241333 Learning Rate: 0.015 Batch Size: 128\n",
      "Epoch: 8 Test Loss: 0.8227772197940133 Accuracy: 0.7051609848484849 Time: 4.923635721206665 Learning Rate: 0.015 Batch Size: 128\n",
      "Epoch: 9 Test Loss: 0.8333092765374617 Accuracy: 0.7040246212121212 Time: 5.251404047012329 Learning Rate: 0.015 Batch Size: 128\n",
      "Epoch: 10 Test Loss: 0.7918873185461218 Accuracy: 0.7165246212121212 Time: 4.87552285194397 Learning Rate: 0.015 Batch Size: 128\n",
      "Epoch: 1 Test Loss: 1.2890678319064053 Accuracy: 0.4786931818181818 Time: 6.860501766204834 Learning Rate: 0.02 Batch Size: 16\n",
      "Epoch: 2 Test Loss: 1.0875320380384272 Accuracy: 0.5920454545454545 Time: 6.3464906215667725 Learning Rate: 0.02 Batch Size: 16\n",
      "Epoch: 3 Test Loss: 1.019463831728155 Accuracy: 0.6377840909090909 Time: 4.907249450683594 Learning Rate: 0.02 Batch Size: 16\n",
      "Epoch: 4 Test Loss: 0.9578292884609916 Accuracy: 0.6468276515151515 Time: 4.862673997879028 Learning Rate: 0.02 Batch Size: 16\n",
      "Epoch: 5 Test Loss: 0.9423288215290416 Accuracy: 0.6598011363636364 Time: 6.376798868179321 Learning Rate: 0.02 Batch Size: 16\n",
      "Epoch: 6 Test Loss: 0.90045534751632 Accuracy: 0.6833333333333333 Time: 6.861161708831787 Learning Rate: 0.02 Batch Size: 16\n",
      "Epoch: 7 Test Loss: 0.9292843233455311 Accuracy: 0.6715435606060606 Time: 6.845700979232788 Learning Rate: 0.02 Batch Size: 16\n",
      "Epoch: 8 Test Loss: 0.8341187184507196 Accuracy: 0.715719696969697 Time: 5.173208951950073 Learning Rate: 0.02 Batch Size: 16\n",
      "Epoch: 9 Test Loss: 0.8848783455111764 Accuracy: 0.685842803030303 Time: 6.690117597579956 Learning Rate: 0.02 Batch Size: 16\n",
      "Epoch: 10 Test Loss: 0.8420914547009901 Accuracy: 0.7057765151515152 Time: 6.313270330429077 Learning Rate: 0.02 Batch Size: 16\n"
     ]
    },
    {
     "name": "stdout",
     "output_type": "stream",
     "text": [
      "Epoch: 1 Test Loss: 1.24127905477177 Accuracy: 0.5269886363636364 Time: 6.845962762832642 Learning Rate: 0.02 Batch Size: 32\n",
      "Epoch: 2 Test Loss: 1.0231165967204354 Accuracy: 0.6194128787878788 Time: 6.579298973083496 Learning Rate: 0.02 Batch Size: 32\n",
      "Epoch: 3 Test Loss: 0.9577676870606162 Accuracy: 0.6608901515151515 Time: 6.893110513687134 Learning Rate: 0.02 Batch Size: 32\n",
      "Epoch: 4 Test Loss: 0.8830614225430922 Accuracy: 0.680965909090909 Time: 6.391753673553467 Learning Rate: 0.02 Batch Size: 32\n",
      "Epoch: 5 Test Loss: 0.8931514024734497 Accuracy: 0.6955492424242424 Time: 5.095393896102905 Learning Rate: 0.02 Batch Size: 32\n",
      "Epoch: 6 Test Loss: 0.8822454755956476 Accuracy: 0.6964015151515152 Time: 4.980624675750732 Learning Rate: 0.02 Batch Size: 32\n",
      "Epoch: 7 Test Loss: 0.8132004764947024 Accuracy: 0.7162878787878788 Time: 6.8143792152404785 Learning Rate: 0.02 Batch Size: 32\n",
      "Epoch: 8 Test Loss: 0.7980859062888406 Accuracy: 0.7224431818181819 Time: 6.971529483795166 Learning Rate: 0.02 Batch Size: 32\n",
      "Epoch: 9 Test Loss: 0.8007886436852542 Accuracy: 0.740909090909091 Time: 6.861209154129028 Learning Rate: 0.02 Batch Size: 32\n",
      "Epoch: 10 Test Loss: 0.7637613253159956 Accuracy: 0.7395359848484848 Time: 5.8457558155059814 Learning Rate: 0.02 Batch Size: 32\n",
      "Epoch: 1 Test Loss: 1.3858541683717207 Accuracy: 0.4359375 Time: 4.92418909072876 Learning Rate: 0.02 Batch Size: 64\n",
      "Epoch: 2 Test Loss: 1.1224809316071598 Accuracy: 0.5895359848484849 Time: 4.877004146575928 Learning Rate: 0.02 Batch Size: 64\n",
      "Epoch: 3 Test Loss: 1.042214187708768 Accuracy: 0.6255681818181817 Time: 5.953795671463013 Learning Rate: 0.02 Batch Size: 64\n",
      "Epoch: 4 Test Loss: 0.9704681851647117 Accuracy: 0.6515151515151515 Time: 4.9549195766448975 Learning Rate: 0.02 Batch Size: 64\n",
      "Epoch: 5 Test Loss: 0.9353497299281034 Accuracy: 0.6721590909090909 Time: 4.9691362380981445 Learning Rate: 0.02 Batch Size: 64\n",
      "Epoch: 6 Test Loss: 0.8868120502341877 Accuracy: 0.6868844696969697 Time: 6.860922813415527 Learning Rate: 0.02 Batch Size: 64\n",
      "Epoch: 7 Test Loss: 0.9174320724877444 Accuracy: 0.6710227272727273 Time: 6.8923773765563965 Learning Rate: 0.02 Batch Size: 64\n",
      "Epoch: 8 Test Loss: 0.8814240260557695 Accuracy: 0.6876893939393939 Time: 6.84669041633606 Learning Rate: 0.02 Batch Size: 64\n",
      "Epoch: 9 Test Loss: 0.8849073973569003 Accuracy: 0.6840909090909091 Time: 6.829553127288818 Learning Rate: 0.02 Batch Size: 64\n",
      "Epoch: 10 Test Loss: 0.8867468969388441 Accuracy: 0.6915719696969697 Time: 6.751932144165039 Learning Rate: 0.02 Batch Size: 64\n",
      "Epoch: 1 Test Loss: 1.4579470645297656 Accuracy: 0.3835227272727273 Time: 5.751634120941162 Learning Rate: 0.02 Batch Size: 128\n",
      "Epoch: 2 Test Loss: 1.1698997887698086 Accuracy: 0.5320075757575757 Time: 6.094761371612549 Learning Rate: 0.02 Batch Size: 128\n",
      "Epoch: 3 Test Loss: 1.0339774949984117 Accuracy: 0.6119791666666666 Time: 5.644013166427612 Learning Rate: 0.02 Batch Size: 128\n",
      "Epoch: 4 Test Loss: 0.984470624815334 Accuracy: 0.6349905303030303 Time: 5.237163305282593 Learning Rate: 0.02 Batch Size: 128\n",
      "Epoch: 5 Test Loss: 1.0112934667955746 Accuracy: 0.6351325757575758 Time: 4.891458511352539 Learning Rate: 0.02 Batch Size: 128\n",
      "Epoch: 6 Test Loss: 0.8862272202968597 Accuracy: 0.6767045454545454 Time: 6.893234968185425 Learning Rate: 0.02 Batch Size: 128\n",
      "Epoch: 7 Test Loss: 0.9139640222896229 Accuracy: 0.6881155303030303 Time: 6.861558675765991 Learning Rate: 0.02 Batch Size: 128\n",
      "Epoch: 8 Test Loss: 0.8967372422868555 Accuracy: 0.6918087121212121 Time: 6.782854795455933 Learning Rate: 0.02 Batch Size: 128\n",
      "Epoch: 9 Test Loss: 0.8299304382367567 Accuracy: 0.6930397727272727 Time: 6.815091848373413 Learning Rate: 0.02 Batch Size: 128\n",
      "Epoch: 10 Test Loss: 0.8025727515870874 Accuracy: 0.7117897727272727 Time: 6.628224849700928 Learning Rate: 0.02 Batch Size: 128\n"
     ]
    }
   ],
   "source": [
    "for i in range(4):\n",
    "    for j in range(4,8):\n",
    "        model, criterion, optimizer = initModel(True, device, \"\", learningRate,MyNet8)\n",
    "    \n",
    "        # main training loop for model\n",
    "        trainLosses, testLosses, trainAccuracies, testAccuracies = epochLoop(epochNumber, model, train_dataloader, test_dataloader, criterion, device, optimizer, batchSize**j, (learningRate+(learningRate*i)))"
   ]
  },
  {
   "attachments": {
    "32-5Conv-2Fc-Tablo-12.png": {
     "image/png": "[encoded data removed]"
    }
   },
   "cell_type": "markdown",
   "metadata": {},
   "source": [
    "![32-5Conv-2Fc-Tablo-12.png](attachment:32-5Conv-2Fc-Tablo-12.png)"
   ]
  },
  {
   "cell_type": "markdown",
   "metadata": {},
   "source": [
    "##### I choosed lr=0.015, batch size=64. It gives 0.744 accuracy in 2CONV 2FC model."
   ]
  },
  {
   "cell_type": "markdown",
   "metadata": {},
   "source": [
    "### Conclusion\n",
    "With this assignment, I observed a regular neural network and cnn architecture with different parameters. I used different learning rates (0.005,0.01,0.015,0.02), different batch sizes (16,32,64,128), different hidden layer sizes(128 and 256) and different epoch amounts(50-10). I observed different activation functions (sigmoid, tanh and ReLU) to see the impact. I also observed the different layer types, different layer amounts and operations like dropout. I made tables with the all results of each experiments and I also made a result table consist of the parameters that gives the optimal result of each experiment. I realized that neural networks requires lots of patience while waiting to train. I arranged and slept most of to time while it was training. I even wasted a whole night because of a little crush at the last 5 epoch on training. :) But finally I managed to train and get the results. In first part, I didn't know that I could use PyTorch as well. I suffered about 5-6 days to find the MLNN from scratch code. After I found, it was announced that I could use. I didn't change after that because I made a huge effort for that. I am also very upset about not to make the necessary result graphs and visiualize the neural network architecture because of my old computer. Every attempt I made concluded with dead kernel and all of my trainings wasted. I decided the make result tables instead.\n",
    "    I am happy about the whole assignment in general and the experiment I made. I hope you will be too."
   ]
  },
  {
   "cell_type": "markdown",
   "metadata": {},
   "source": [
    "##### Bonus Part"
   ]
  },
  {
   "cell_type": "code",
   "execution_count": 10,
   "metadata": {},
   "outputs": [],
   "source": [
    "ROOT_PATH = \"chest_xray\"\n",
    "train_path = f'{ROOT_PATH}/train'\n",
    "test_path = f'{ROOT_PATH}/test'"
   ]
  },
  {
   "cell_type": "code",
   "execution_count": 13,
   "metadata": {},
   "outputs": [],
   "source": [
    "main_transform = transforms.Compose([\n",
    "    transforms.Resize((image_size, image_size)),  \n",
    "    transforms.ToTensor(),\n",
    "    transforms.Normalize(mean,std)      # normalize\n",
    "])\n",
    "\n",
    "aug_transform = transforms.Compose([\n",
    "    transforms.Resize((image_size, image_size)),\n",
    "    transforms.RandomRotation(20),   # rotate images 20 degree randomly\n",
    "    transforms.RandomHorizontalFlip(),\n",
    "    transforms.ColorJitter(0.1,0.1,0.1),    # about saturation brightness vs.\n",
    "    transforms.ToTensor(),\n",
    "    transforms.Normalize(mean,std),\n",
    "    transforms.RandomErasing()      #randomly erasing pixels \n",
    "])"
   ]
  },
  {
   "cell_type": "code",
   "execution_count": 14,
   "metadata": {},
   "outputs": [],
   "source": [
    "train_dataset = datasets.ImageFolder(train_path, transform=aug_transform)"
   ]
  },
  {
   "cell_type": "code",
   "execution_count": 15,
   "metadata": {},
   "outputs": [],
   "source": [
    "test_dataset = datasets.ImageFolder(test_path, transform=main_transform)"
   ]
  },
  {
   "cell_type": "code",
   "execution_count": 16,
   "metadata": {},
   "outputs": [],
   "source": [
    "train_dataloader = DataLoader(train_dataset, batch_size = batch_size, shuffle=True, num_workers=2)"
   ]
  },
  {
   "cell_type": "code",
   "execution_count": 17,
   "metadata": {},
   "outputs": [],
   "source": [
    "test_dataloader = DataLoader(test_dataset, batch_size = batch_size, shuffle=False, num_workers=2)"
   ]
  },
  {
   "cell_type": "code",
   "execution_count": 23,
   "metadata": {},
   "outputs": [],
   "source": [
    "class MyNet9(nn.Module):\n",
    "    def __init__(self):\n",
    "        super(MyNet9, self).__init__()\n",
    "\n",
    "        self.model = nn.Sequential(\n",
    "            nn.Conv2d(3, 16, kernel_size=3, padding=1),\n",
    "            nn.ReLU(),\n",
    "            nn.MaxPool2d(2, 2),\n",
    "\n",
    "            nn.Conv2d(16, 32, kernel_size=3, padding=1),\n",
    "            nn.ReLU(),\n",
    "            nn.MaxPool2d(2, 2)).to(device)\n",
    "        self.classifier = nn.Sequential(\n",
    "            nn.Flatten(),\n",
    "            nn.Linear(8192, 256),\n",
    "            nn.ReLU(),\n",
    "            nn.Flatten(),\n",
    "            nn.Linear(256, 3) ).to(device)\n",
    "       \n",
    "    def forward(self, value):\n",
    "        value = self.model(value)\n",
    "        value = self.classifier(value)\n",
    "        return value"
   ]
  },
  {
   "cell_type": "code",
   "execution_count": 24,
   "metadata": {},
   "outputs": [
    {
     "name": "stdout",
     "output_type": "stream",
     "text": [
      "Epoch: 1 Test Loss: 1.0936876932779949 Accuracy: 0.2604166666666667 Time: 10.255365371704102 Learning Rate: 0.015 Batch Size: 32\n",
      "Epoch: 2 Test Loss: 1.0963853200276692 Accuracy: 0.4791666666666667 Time: 9.536974668502808 Learning Rate: 0.015 Batch Size: 32\n",
      "Epoch: 3 Test Loss: 1.098344326019287 Accuracy: 0.2604166666666667 Time: 8.238994121551514 Learning Rate: 0.015 Batch Size: 32\n",
      "Epoch: 4 Test Loss: 1.0975431601206462 Accuracy: 0.4791666666666667 Time: 9.427500009536743 Learning Rate: 0.015 Batch Size: 32\n",
      "Epoch: 5 Test Loss: 1.0961777766545613 Accuracy: 0.4791666666666667 Time: 6.648870944976807 Learning Rate: 0.015 Batch Size: 32\n",
      "Epoch: 6 Test Loss: 1.098451018333435 Accuracy: 0.2604166666666667 Time: 9.619754552841187 Learning Rate: 0.015 Batch Size: 32\n",
      "Epoch: 7 Test Loss: 1.1002848943074544 Accuracy: 0.2604166666666667 Time: 8.71506142616272 Learning Rate: 0.015 Batch Size: 32\n",
      "Epoch: 8 Test Loss: 1.098293940226237 Accuracy: 0.4791666666666667 Time: 9.42753791809082 Learning Rate: 0.015 Batch Size: 32\n",
      "Epoch: 9 Test Loss: 1.0953518946965535 Accuracy: 0.4791666666666667 Time: 7.874366283416748 Learning Rate: 0.015 Batch Size: 32\n",
      "Epoch: 10 Test Loss: 1.098118742307027 Accuracy: 0.4791666666666667 Time: 9.51001524925232 Learning Rate: 0.015 Batch Size: 32\n"
     ]
    }
   ],
   "source": [
    "model, criterion, optimizer = initModel(True, device, \"\", learningRate,MyNet9)\n",
    "trainLosses, testLosses, trainAccuracies, testAccuracies = epochLoop(epochNumber, model, train_dataloader, test_dataloader, criterion, device, optimizer, 32, 0.015)"
   ]
  },
  {
   "cell_type": "markdown",
   "metadata": {},
   "source": [
    "Here is you see the attempt of trying the chest_xray image in 2Conv-2Fc model. It is costly in time comparing to my knn in first assignment and it has less accuracy comparing to knn. It may be because of the parameters but I just wanted the see the difference of execution time. I also didn't do the filters as I did the first assignment."
   ]
  },
  {
   "cell_type": "code",
   "execution_count": null,
   "metadata": {},
   "outputs": [],
   "source": []
  }
 ],
 "metadata": {
  "colab": {
   "authorship_tag": "ABX9TyMclJGVdxhL9Qdhte5Vpldl",
   "provenance": [],
   "toc_visible": true
  },
  "kernelspec": {
   "display_name": "Python 3 (ipykernel)",
   "language": "python",
   "name": "python3"
  },
  "language_info": {
   "codemirror_mode": {
    "name": "ipython",
    "version": 3
   },
   "file_extension": ".py",
   "mimetype": "text/x-python",
   "name": "python",
   "nbconvert_exporter": "python",
   "pygments_lexer": "ipython3",
   "version": "3.10.9"
  }
 },
 "nbformat": 4,
 "nbformat_minor": 1
}
